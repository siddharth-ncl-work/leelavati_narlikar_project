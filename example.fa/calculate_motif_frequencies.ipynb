{
  "nbformat": 4,
  "nbformat_minor": 0,
  "metadata": {
    "colab": {
      "name": "calculate_motif_frequencies.ipynb",
      "provenance": [],
      "collapsed_sections": [],
      "authorship_tag": "ABX9TyMtgQV3s55oaRU1eKLWa6H3",
      "include_colab_link": true
    },
    "kernelspec": {
      "name": "python3",
      "display_name": "Python 3"
    }
  },
  "cells": [
    {
      "cell_type": "markdown",
      "metadata": {
        "id": "view-in-github",
        "colab_type": "text"
      },
      "source": [
        "<a href=\"https://colab.research.google.com/gist/siddharth-ncl-work/335eb34d16f7fe0246d9956f5f93f385/calculate_motif_frequencies.ipynb\" target=\"_parent\"><img src=\"https://colab.research.google.com/assets/colab-badge.svg\" alt=\"Open In Colab\"/></a>"
      ]
    },
    {
      "cell_type": "markdown",
      "metadata": {
        "id": "VrFSsnPqfZBh"
      },
      "source": [
        "# **Calculation of Motif Frequencies**"
      ]
    },
    {
      "cell_type": "code",
      "metadata": {
        "id": "bgAzjUAeFeVc"
      },
      "source": [
        "import numpy as np\r\n",
        "import pandas as pd\r\n",
        "import matplotlib.pyplot as plt\r\n",
        "from PIL import Image\r\n",
        "import re\r\n",
        "\r\n",
        "from Bio import motifs\r\n",
        "from Bio.Seq import Seq"
      ],
      "execution_count": null,
      "outputs": []
    },
    {
      "cell_type": "code",
      "metadata": {
        "colab": {
          "base_uri": "https://localhost:8080/"
        },
        "id": "Wyb0y4mlJFIy",
        "outputId": "9f789927-79da-4731-a392-144346ad093e"
      },
      "source": [
        "!pip install biopython"
      ],
      "execution_count": null,
      "outputs": [
        {
          "output_type": "stream",
          "text": [
            "Requirement already satisfied: biopython in /usr/local/lib/python3.6/dist-packages (1.78)\n",
            "Requirement already satisfied: numpy in /usr/local/lib/python3.6/dist-packages (from biopython) (1.19.5)\n"
          ],
          "name": "stdout"
        }
      ]
    },
    {
      "cell_type": "markdown",
      "metadata": {
        "id": "oJWKYtb1q-ek"
      },
      "source": [
        "## Download Data"
      ]
    },
    {
      "cell_type": "code",
      "metadata": {
        "colab": {
          "base_uri": "https://localhost:8080/"
        },
        "id": "ZONLLI2MFsDZ",
        "outputId": "5ab4e689-6a37-4128-e2b6-1155874b21e3"
      },
      "source": [
        "!wget https://raw.githubusercontent.com/NarlikarLab/cisDIVERSITY/master/example.fa"
      ],
      "execution_count": null,
      "outputs": [
        {
          "output_type": "stream",
          "text": [
            "--2021-02-13 05:02:48--  https://raw.githubusercontent.com/NarlikarLab/cisDIVERSITY/master/example.fa\n",
            "Resolving raw.githubusercontent.com (raw.githubusercontent.com)... 185.199.108.133, 185.199.109.133, 185.199.110.133, ...\n",
            "Connecting to raw.githubusercontent.com (raw.githubusercontent.com)|185.199.108.133|:443... connected.\n",
            "HTTP request sent, awaiting response... 200 OK\n",
            "Length: 215890 (211K) [text/plain]\n",
            "Saving to: ‘example.fa.2’\n",
            "\n",
            "example.fa.2        100%[===================>] 210.83K  --.-KB/s    in 0.03s   \n",
            "\n",
            "2021-02-13 05:02:48 (6.83 MB/s) - ‘example.fa.2’ saved [215890/215890]\n",
            "\n"
          ],
          "name": "stdout"
        }
      ]
    },
    {
      "cell_type": "markdown",
      "metadata": {
        "id": "sSYF0iPCrHHx"
      },
      "source": [
        "## Data Processing"
      ]
    },
    {
      "cell_type": "code",
      "metadata": {
        "colab": {
          "base_uri": "https://localhost:8080/",
          "height": 212
        },
        "id": "hBPfPEZwF0s7",
        "outputId": "9d09412c-e693-4273-9d92-4697714b34bc"
      },
      "source": [
        "_data={'seq_no.':[],'seq':[],'module':[]}\r\n",
        "for line in open('example.fa','r').readlines():\r\n",
        "  if '>' in line[0]:\r\n",
        "    id=line.split('_')[0].split(':')[1]\r\n",
        "    _data['seq_no.'].append(id)\r\n",
        "    module=int(line.split('_')[1].split(':')[1])\r\n",
        "    _data['module'].append(module)\r\n",
        "  else:\r\n",
        "    _data['seq'].append(line)\r\n",
        "data=pd.DataFrame.from_dict(_data)\r\n",
        "print(f'Dataset Size = {data.shape[0]}')\r\n",
        "data.head()"
      ],
      "execution_count": null,
      "outputs": [
        {
          "output_type": "stream",
          "text": [
            "Dataset Size = 1000\n"
          ],
          "name": "stdout"
        },
        {
          "output_type": "execute_result",
          "data": {
            "text/html": [
              "<div>\n",
              "<style scoped>\n",
              "    .dataframe tbody tr th:only-of-type {\n",
              "        vertical-align: middle;\n",
              "    }\n",
              "\n",
              "    .dataframe tbody tr th {\n",
              "        vertical-align: top;\n",
              "    }\n",
              "\n",
              "    .dataframe thead th {\n",
              "        text-align: right;\n",
              "    }\n",
              "</style>\n",
              "<table border=\"1\" class=\"dataframe\">\n",
              "  <thead>\n",
              "    <tr style=\"text-align: right;\">\n",
              "      <th></th>\n",
              "      <th>seq_no.</th>\n",
              "      <th>seq</th>\n",
              "      <th>module</th>\n",
              "    </tr>\n",
              "  </thead>\n",
              "  <tbody>\n",
              "    <tr>\n",
              "      <th>0</th>\n",
              "      <td>0</td>\n",
              "      <td>GGAGGAGGAAGAGGCTGGGCCCCTGCTGTGTGGGGGCAAGTTCCCA...</td>\n",
              "      <td>0</td>\n",
              "    </tr>\n",
              "    <tr>\n",
              "      <th>1</th>\n",
              "      <td>1</td>\n",
              "      <td>CAAATACCCTGGGGTGCAATACGACTTATATCTCACGTATTGGAAG...</td>\n",
              "      <td>1</td>\n",
              "    </tr>\n",
              "    <tr>\n",
              "      <th>2</th>\n",
              "      <td>2</td>\n",
              "      <td>AACTAGGACACAGAAGTTGATCTAACGTAAACATCAAGAGCTTCCT...</td>\n",
              "      <td>1</td>\n",
              "    </tr>\n",
              "    <tr>\n",
              "      <th>3</th>\n",
              "      <td>3</td>\n",
              "      <td>CACAGCTGGGCCTGGTTGGTCTTTGTCCAGGGAACAATGGAGCGCC...</td>\n",
              "      <td>1</td>\n",
              "    </tr>\n",
              "    <tr>\n",
              "      <th>4</th>\n",
              "      <td>4</td>\n",
              "      <td>TTGTTTTATTTGTTTGTTGGGGGGCGGCGGGGAGCGACAGGGGAGT...</td>\n",
              "      <td>0</td>\n",
              "    </tr>\n",
              "  </tbody>\n",
              "</table>\n",
              "</div>"
            ],
            "text/plain": [
              "  seq_no.                                                seq  module\n",
              "0       0  GGAGGAGGAAGAGGCTGGGCCCCTGCTGTGTGGGGGCAAGTTCCCA...       0\n",
              "1       1  CAAATACCCTGGGGTGCAATACGACTTATATCTCACGTATTGGAAG...       1\n",
              "2       2  AACTAGGACACAGAAGTTGATCTAACGTAAACATCAAGAGCTTCCT...       1\n",
              "3       3  CACAGCTGGGCCTGGTTGGTCTTTGTCCAGGGAACAATGGAGCGCC...       1\n",
              "4       4  TTGTTTTATTTGTTTGTTGGGGGGCGGCGGGGAGCGACAGGGGAGT...       0"
            ]
          },
          "metadata": {
            "tags": []
          },
          "execution_count": 401
        }
      ]
    },
    {
      "cell_type": "markdown",
      "metadata": {
        "id": "axd18UX7rLg2"
      },
      "source": [
        "## Number of Squences in 3 Modules (in %)"
      ]
    },
    {
      "cell_type": "code",
      "metadata": {
        "colab": {
          "base_uri": "https://localhost:8080/"
        },
        "id": "NVGPiK88Gi2q",
        "outputId": "60eddc9d-163d-4ea9-9ba6-be633515bf86"
      },
      "source": [
        "data['module'].value_counts(normalize=True)*100"
      ],
      "execution_count": null,
      "outputs": [
        {
          "output_type": "execute_result",
          "data": {
            "text/plain": [
              "0    48.0\n",
              "1    47.8\n",
              "2     4.2\n",
              "Name: module, dtype: float64"
            ]
          },
          "metadata": {
            "tags": []
          },
          "execution_count": 385
        }
      ]
    },
    {
      "cell_type": "markdown",
      "metadata": {
        "id": "r4r_YC-jrvis"
      },
      "source": [
        "## Download 5 Motifs Used in the Paper"
      ]
    },
    {
      "cell_type": "code",
      "metadata": {
        "colab": {
          "base_uri": "https://localhost:8080/"
        },
        "id": "LDgK3qP8khl3",
        "outputId": "cd1153eb-bc93-4d0a-d767-93c2eea953af"
      },
      "source": [
        "!wget http://jaspar.genereg.net/api/v1/matrix/MA0030.1.pfm\r\n",
        "!wget http://jaspar.genereg.net/api/v1/matrix/MA0520.1.pfm\r\n",
        "!wget http://jaspar.genereg.net/api/v1/matrix/MA0009.2.pfm\r\n",
        "!wget http://jaspar.genereg.net/api/v1/matrix/MA0019.1.pfm\r\n",
        "!wget http://jaspar.genereg.net/api/v1/matrix/MA1112.1.pfm"
      ],
      "execution_count": null,
      "outputs": [
        {
          "output_type": "stream",
          "text": [
            "--2021-02-13 05:02:48--  http://jaspar.genereg.net/api/v1/matrix/MA0030.1.pfm\n",
            "Resolving jaspar.genereg.net (jaspar.genereg.net)... 193.60.222.202\n",
            "Connecting to jaspar.genereg.net (jaspar.genereg.net)|193.60.222.202|:80... connected.\n",
            "HTTP request sent, awaiting response... 200 OK\n",
            "Length: 408 [text/pfm]\n",
            "Saving to: ‘MA0030.1.pfm.2’\n",
            "\n",
            "MA0030.1.pfm.2      100%[===================>]     408  --.-KB/s    in 0s      \n",
            "\n",
            "2021-02-13 05:02:48 (52.0 MB/s) - ‘MA0030.1.pfm.2’ saved [408/408]\n",
            "\n",
            "--2021-02-13 05:02:48--  http://jaspar.genereg.net/api/v1/matrix/MA0520.1.pfm\n",
            "Resolving jaspar.genereg.net (jaspar.genereg.net)... 193.60.222.202\n",
            "Connecting to jaspar.genereg.net (jaspar.genereg.net)|193.60.222.202|:80... connected.\n",
            "HTTP request sent, awaiting response... 200 OK\n",
            "Length: 444 [text/pfm]\n",
            "Saving to: ‘MA0520.1.pfm.2’\n",
            "\n",
            "MA0520.1.pfm.2      100%[===================>]     444  --.-KB/s    in 0s      \n",
            "\n",
            "2021-02-13 05:02:49 (67.6 MB/s) - ‘MA0520.1.pfm.2’ saved [444/444]\n",
            "\n",
            "--2021-02-13 05:02:49--  http://jaspar.genereg.net/api/v1/matrix/MA0009.2.pfm\n",
            "Resolving jaspar.genereg.net (jaspar.genereg.net)... 193.60.222.202\n",
            "Connecting to jaspar.genereg.net (jaspar.genereg.net)|193.60.222.202|:80... connected.\n",
            "HTTP request sent, awaiting response... 200 OK\n",
            "Length: 490 [text/pfm]\n",
            "Saving to: ‘MA0009.2.pfm.2’\n",
            "\n",
            "MA0009.2.pfm.2      100%[===================>]     490  --.-KB/s    in 0s      \n",
            "\n",
            "2021-02-13 05:02:49 (91.5 MB/s) - ‘MA0009.2.pfm.2’ saved [490/490]\n",
            "\n",
            "--2021-02-13 05:02:49--  http://jaspar.genereg.net/api/v1/matrix/MA0019.1.pfm\n",
            "Resolving jaspar.genereg.net (jaspar.genereg.net)... 193.60.222.202\n",
            "Connecting to jaspar.genereg.net (jaspar.genereg.net)|193.60.222.202|:80... connected.\n",
            "HTTP request sent, awaiting response... 200 OK\n",
            "Length: 359 [text/pfm]\n",
            "Saving to: ‘MA0019.1.pfm.2’\n",
            "\n",
            "MA0019.1.pfm.2      100%[===================>]     359  --.-KB/s    in 0s      \n",
            "\n",
            "2021-02-13 05:02:49 (63.8 MB/s) - ‘MA0019.1.pfm.2’ saved [359/359]\n",
            "\n",
            "--2021-02-13 05:02:50--  http://jaspar.genereg.net/api/v1/matrix/MA1112.1.pfm\n",
            "Resolving jaspar.genereg.net (jaspar.genereg.net)... 193.60.222.202\n",
            "Connecting to jaspar.genereg.net (jaspar.genereg.net)|193.60.222.202|:80... connected.\n",
            "HTTP request sent, awaiting response... 200 OK\n",
            "Length: 314 [text/pfm]\n",
            "Saving to: ‘MA1112.1.pfm.2’\n",
            "\n",
            "MA1112.1.pfm.2      100%[===================>]     314  --.-KB/s    in 0s      \n",
            "\n",
            "2021-02-13 05:02:50 (49.5 MB/s) - ‘MA1112.1.pfm.2’ saved [314/314]\n",
            "\n"
          ],
          "name": "stdout"
        }
      ]
    },
    {
      "cell_type": "markdown",
      "metadata": {
        "id": "GHhs5Jgir1I9"
      },
      "source": [
        "## Visualize Motifs"
      ]
    },
    {
      "cell_type": "code",
      "metadata": {
        "id": "I-elqXcSj4X1"
      },
      "source": [
        "m1=motifs.read(open(\"MA0030.1.pfm\"), \"jaspar\")\r\n",
        "m2=motifs.read(open(\"MA0520.1.pfm\"), \"jaspar\")\r\n",
        "m3=motifs.read(open(\"MA0009.2.pfm\"), \"jaspar\")\r\n",
        "m4=motifs.read(open(\"MA0019.1.pfm\"), \"jaspar\")\r\n",
        "m5=motifs.read(open(\"MA1112.1.pfm\"), \"jaspar\")"
      ],
      "execution_count": null,
      "outputs": []
    },
    {
      "cell_type": "code",
      "metadata": {
        "colab": {
          "base_uri": "https://localhost:8080/",
          "height": 225
        },
        "id": "2AyaSZfKlbDN",
        "outputId": "a9fc105a-ee3d-462e-8f58-567c0e79d324"
      },
      "source": [
        "m1.weblogo('m1.jpg',color_scheme='color_classic')\r\n",
        "image = Image.open('m1.jpg')\r\n",
        "print(m1.pwm)\r\n",
        "image"
      ],
      "execution_count": null,
      "outputs": [
        {
          "output_type": "stream",
          "text": [
            "        0      1      2      3      4      5      6      7      8      9     10     11     12     13\n",
            "A:   0.04   0.37   0.63   0.46   0.14   0.26   0.00   1.00   1.00   1.00   0.00   1.00   0.59   0.26\n",
            "C:   0.37   0.26   0.15   0.18   0.50   0.00   0.00   0.00   0.00   0.00   0.93   0.00   0.15   0.15\n",
            "G:   0.26   0.19   0.07   0.18   0.36   0.74   0.00   0.00   0.00   0.00   0.00   0.00   0.07   0.22\n",
            "T:   0.33   0.19   0.15   0.18   0.00   0.00   1.00   0.00   0.00   0.00   0.07   0.00   0.19   0.37\n",
            "\n"
          ],
          "name": "stdout"
        },
        {
          "output_type": "execute_result",
          "data": {
            "image/png": "[encoded data removed]",
            "text/plain": [
              "<PIL.PngImagePlugin.PngImageFile image mode=RGB size=267x107 at 0x7F1BFB8236A0>"
            ]
          },
          "metadata": {
            "tags": []
          },
          "execution_count": 388
        }
      ]
    },
    {
      "cell_type": "code",
      "metadata": {
        "colab": {
          "base_uri": "https://localhost:8080/",
          "height": 225
        },
        "id": "3iFsrP7-osLh",
        "outputId": "25a4ab9e-b66d-4ec6-90f9-bbf22074281d"
      },
      "source": [
        "m2.weblogo('m2.jpg',color_scheme='color_classic')\r\n",
        "image = Image.open('m2.jpg')\r\n",
        "print(m2.pwm)\r\n",
        "image"
      ],
      "execution_count": null,
      "outputs": [
        {
          "output_type": "stream",
          "text": [
            "        0      1      2      3      4      5      6      7      8      9     10     11     12     13     14\n",
            "A:   0.14   0.36   0.08   0.00   0.01   0.07   0.04   0.36   0.18   0.62   0.01   1.00   1.00   0.34   0.19\n",
            "C:   0.36   0.18   0.31   0.00   0.00   0.91   0.65   0.01   0.29   0.00   0.00   0.00   0.00   0.29   0.26\n",
            "G:   0.26   0.20   0.24   0.00   0.00   0.00   0.00   0.12   0.48   0.22   0.97   0.00   0.00   0.21   0.13\n",
            "T:   0.24   0.26   0.38   1.00   0.99   0.03   0.31   0.51   0.05   0.15   0.02   0.00   0.00   0.16   0.42\n",
            "\n"
          ],
          "name": "stdout"
        },
        {
          "output_type": "execute_result",
          "data": {
            "image/png": "[encoded data removed]",
            "text/plain": [
              "<PIL.PngImagePlugin.PngImageFile image mode=RGB size=281x107 at 0x7F1BFBB065C0>"
            ]
          },
          "metadata": {
            "tags": []
          },
          "execution_count": 389
        }
      ]
    },
    {
      "cell_type": "code",
      "metadata": {
        "colab": {
          "base_uri": "https://localhost:8080/",
          "height": 225
        },
        "id": "9e3gn7wJo0_e",
        "outputId": "fd400882-2eb9-4a1e-ffc3-652dcb91b5b2"
      },
      "source": [
        "m3.weblogo('m3.jpg',color_scheme='color_classic')\r\n",
        "image = Image.open('m3.jpg')\r\n",
        "print(m3.pwm)\r\n",
        "image"
      ],
      "execution_count": null,
      "outputs": [
        {
          "output_type": "stream",
          "text": [
            "        0      1      2      3      4      5      6      7      8      9     10     11     12     13     14     15\n",
            "A:   0.01   0.26   0.69   0.00   0.97   0.04   0.25   0.08   0.80   0.09   0.08   0.00   0.00   0.06   0.04   0.97\n",
            "C:   0.02   0.56   0.01   1.00   0.00   0.88   0.48   0.08   0.02   0.17   0.02   0.03   0.00   0.26   0.12   0.00\n",
            "G:   0.00   0.15   0.26   0.00   0.03   0.02   0.18   0.03   0.09   0.49   0.86   0.00   1.00   0.01   0.68   0.03\n",
            "T:   0.97   0.03   0.04   0.00   0.00   0.07   0.09   0.82   0.08   0.25   0.04   0.97   0.00   0.67   0.16   0.00\n",
            "\n"
          ],
          "name": "stdout"
        },
        {
          "output_type": "execute_result",
          "data": {
            "image/png": "[encoded data removed]",
            "text/plain": [
              "<PIL.PngImagePlugin.PngImageFile image mode=RGB size=295x107 at 0x7F1BFB8230F0>"
            ]
          },
          "metadata": {
            "tags": []
          },
          "execution_count": 390
        }
      ]
    },
    {
      "cell_type": "code",
      "metadata": {
        "colab": {
          "base_uri": "https://localhost:8080/",
          "height": 225
        },
        "id": "VqDITmtRrTEG",
        "outputId": "343dcc86-776e-4576-8a78-0e7ccb07f51b"
      },
      "source": [
        "m4.weblogo('m4.jpg',color_scheme='color_classic')\r\n",
        "image = Image.open('m4.jpg')\r\n",
        "print(m4.pwm)\r\n",
        "image"
      ],
      "execution_count": null,
      "outputs": [
        {
          "output_type": "stream",
          "text": [
            "        0      1      2      3      4      5      6      7      8      9     10     11\n",
            "A:   0.36   0.28   0.46   0.00   0.00   0.10   0.97   0.92   0.00   0.36   0.10   0.00\n",
            "C:   0.18   0.18   0.08   0.03   0.00   0.85   0.03   0.05   0.15   0.44   0.59   0.67\n",
            "G:   0.31   0.36   0.38   0.00   0.97   0.00   0.00   0.03   0.00   0.13   0.23   0.15\n",
            "T:   0.15   0.18   0.08   0.97   0.03   0.05   0.00   0.00   0.85   0.08   0.08   0.18\n",
            "\n"
          ],
          "name": "stdout"
        },
        {
          "output_type": "execute_result",
          "data": {
            "image/png": "[encoded data removed]",
            "text/plain": [
              "<PIL.PngImagePlugin.PngImageFile image mode=RGB size=237x107 at 0x7F1BFB823F98>"
            ]
          },
          "metadata": {
            "tags": []
          },
          "execution_count": 391
        }
      ]
    },
    {
      "cell_type": "code",
      "metadata": {
        "colab": {
          "base_uri": "https://localhost:8080/",
          "height": 225
        },
        "id": "sYR0PFMmrl-B",
        "outputId": "07b11235-e494-46a8-e185-626cff41628d"
      },
      "source": [
        "m5.weblogo('m5.jpg',color_scheme='color_classic')\r\n",
        "image = Image.open('m5.jpg')\r\n",
        "print(m5.pwm)\r\n",
        "image"
      ],
      "execution_count": null,
      "outputs": [
        {
          "output_type": "stream",
          "text": [
            "        0      1      2      3      4      5      6      7      8      9\n",
            "A:   0.29   0.68   0.98   0.97   0.00   0.00   0.00   0.01   0.76   0.24\n",
            "C:   0.21   0.05   0.00   0.02   0.02   0.00   0.00   0.99   0.05   0.28\n",
            "G:   0.21   0.15   0.01   0.00   0.96   0.99   0.00   0.00   0.10   0.24\n",
            "T:   0.28   0.12   0.01   0.01   0.02   0.00   0.99   0.00   0.08   0.24\n",
            "\n"
          ],
          "name": "stdout"
        },
        {
          "output_type": "execute_result",
          "data": {
            "image/png": "[encoded data removed]",
            "text/plain": [
              "<PIL.PngImagePlugin.PngImageFile image mode=RGB size=209x107 at 0x7F1BFB823128>"
            ]
          },
          "metadata": {
            "tags": []
          },
          "execution_count": 392
        }
      ]
    },
    {
      "cell_type": "markdown",
      "metadata": {
        "id": "rapKh2nvr77Q"
      },
      "source": [
        "## Generate Regular Expression for All 5 Motifs"
      ]
    },
    {
      "cell_type": "code",
      "metadata": {
        "colab": {
          "base_uri": "https://localhost:8080/"
        },
        "id": "6FqwUyVDPpD3",
        "outputId": "9cf0eb1a-a0ac-4fc8-829d-bf7d6d9cc563"
      },
      "source": [
        "def extractPattern(row):\r\n",
        "  tol=7e-2\r\n",
        "  pattern=[]\r\n",
        "  for b in 'ACGT':\r\n",
        "    if row[b]>tol:\r\n",
        "      pattern.append(b)\r\n",
        "  if len(pattern)>1 and len(pattern)<4:\r\n",
        "    return f\"[{'|'.join(pattern)}]\"\r\n",
        "  elif len(pattern)==1:\r\n",
        "    return pattern[0]\r\n",
        "  elif len(pattern)==4:\r\n",
        "    return '.'\r\n",
        "  elif len(pattern)==0:\r\n",
        "    return ' '\r\n",
        "\r\n",
        "m=m1\r\n",
        "m_df=pd.DataFrame.from_dict(m.pwm)\r\n",
        "m_df['pattern']=m_df.apply(extractPattern,axis=1)\r\n",
        "m1_pattern=''.join(m_df['pattern'].values)\r\n",
        "print(m1_pattern)\r\n",
        "\r\n",
        "m=m2\r\n",
        "m_df=pd.DataFrame.from_dict(m.pwm)\r\n",
        "m_df['pattern']=m_df.apply(extractPattern,axis=1)\r\n",
        "m2_pattern=''.join(m_df['pattern'].values)\r\n",
        "print(m2_pattern)\r\n",
        "\r\n",
        "m=m3\r\n",
        "m_df=pd.DataFrame.from_dict(m.pwm)\r\n",
        "m_df['pattern']=m_df.apply(extractPattern,axis=1)\r\n",
        "m3_pattern=''.join(m_df['pattern'].values)\r\n",
        "print(m3_pattern)\r\n",
        "\r\n",
        "m=m4\r\n",
        "m_df=pd.DataFrame.from_dict(m.pwm)\r\n",
        "m_df['pattern']=m_df.apply(extractPattern,axis=1)\r\n",
        "m4_pattern=''.join(m_df['pattern'].values)\r\n",
        "print(m4_pattern)\r\n",
        "\r\n",
        "m=m5\r\n",
        "m_df=pd.DataFrame.from_dict(m.pwm)\r\n",
        "m_df['pattern']=m_df.apply(extractPattern,axis=1)\r\n",
        "m5_pattern=''.join(m_df['pattern'].values)\r\n",
        "print(m5_pattern)"
      ],
      "execution_count": null,
      "outputs": [
        {
          "output_type": "stream",
          "text": [
            "[C|G|T]...[A|C|G][A|G]TAAA[C|T]A..\n",
            "...TTC[C|T][A|G|T][A|C|G][A|G|T]GAA..\n",
            "T[A|C|G][A|G]CAC.[A|C|T][A|G|T].[A|G]TG[C|T][C|G|T]A\n",
            "...TG[A|C]AA[C|T]..[C|G|T]\n",
            ".[A|G|T]AAGGTC[A|G|T].\n"
          ],
          "name": "stdout"
        }
      ]
    },
    {
      "cell_type": "markdown",
      "metadata": {
        "id": "DtxJIUiNsIYK"
      },
      "source": [
        "## 1. Frequencies (in %) of Motifs in Each Module (using regular expression)"
      ]
    },
    {
      "cell_type": "code",
      "metadata": {
        "id": "Mr9TdCE4uE1K"
      },
      "source": [
        "def motifPatternCount(seq):\r\n",
        "  count=re.findall(motif_pattern,seq,)\r\n",
        "  return 1 if len(count)>0 else 0"
      ],
      "execution_count": null,
      "outputs": []
    },
    {
      "cell_type": "code",
      "metadata": {
        "id": "kDXcczq1uddv"
      },
      "source": [
        "motif_pattern=m1_pattern\r\n",
        "data['m1']=data['seq'].apply(motifPatternCount)\r\n",
        "motif_pattern=m2_pattern\r\n",
        "data['m2']=data['seq'].apply(motifPatternCount)\r\n",
        "motif_pattern=m3_pattern\r\n",
        "data['m3']=data['seq'].apply(motifPatternCount)\r\n",
        "motif_pattern=m4_pattern\r\n",
        "data['m4']=data['seq'].apply(motifPatternCount)\r\n",
        "motif_pattern=m5_pattern\r\n",
        "data['m5']=data['seq'].apply(motifPatternCount)"
      ],
      "execution_count": null,
      "outputs": []
    },
    {
      "cell_type": "code",
      "metadata": {
        "colab": {
          "base_uri": "https://localhost:8080/",
          "height": 199
        },
        "id": "ptOFvBP4wU6a",
        "outputId": "e16dbd8b-ceb3-4b59-e45f-016fd2f31b7c"
      },
      "source": [
        "gb=data.groupby(['module']).sum()\r\n",
        "module_count=data['module'].value_counts()\r\n",
        "for idx,count in enumerate(module_count):\r\n",
        "  gb.iloc[idx]/=count\r\n",
        "print('--> Motif Frequencies using regular expression:\\n')\r\n",
        "(gb*100).apply(np.floor)"
      ],
      "execution_count": null,
      "outputs": [
        {
          "output_type": "stream",
          "text": [
            "--> Motif Frequencies using regular expression:\n",
            "\n"
          ],
          "name": "stdout"
        },
        {
          "output_type": "execute_result",
          "data": {
            "text/html": [
              "<div>\n",
              "<style scoped>\n",
              "    .dataframe tbody tr th:only-of-type {\n",
              "        vertical-align: middle;\n",
              "    }\n",
              "\n",
              "    .dataframe tbody tr th {\n",
              "        vertical-align: top;\n",
              "    }\n",
              "\n",
              "    .dataframe thead th {\n",
              "        text-align: right;\n",
              "    }\n",
              "</style>\n",
              "<table border=\"1\" class=\"dataframe\">\n",
              "  <thead>\n",
              "    <tr style=\"text-align: right;\">\n",
              "      <th></th>\n",
              "      <th>m1</th>\n",
              "      <th>m2</th>\n",
              "      <th>m3</th>\n",
              "      <th>m4</th>\n",
              "      <th>m5</th>\n",
              "    </tr>\n",
              "    <tr>\n",
              "      <th>module</th>\n",
              "      <th></th>\n",
              "      <th></th>\n",
              "      <th></th>\n",
              "      <th></th>\n",
              "      <th></th>\n",
              "    </tr>\n",
              "  </thead>\n",
              "  <tbody>\n",
              "    <tr>\n",
              "      <th>0</th>\n",
              "      <td>16.0</td>\n",
              "      <td>49.0</td>\n",
              "      <td>59.0</td>\n",
              "      <td>15.0</td>\n",
              "      <td>2.0</td>\n",
              "    </tr>\n",
              "    <tr>\n",
              "      <th>1</th>\n",
              "      <td>47.0</td>\n",
              "      <td>2.0</td>\n",
              "      <td>0.0</td>\n",
              "      <td>42.0</td>\n",
              "      <td>1.0</td>\n",
              "    </tr>\n",
              "    <tr>\n",
              "      <th>2</th>\n",
              "      <td>2.0</td>\n",
              "      <td>54.0</td>\n",
              "      <td>0.0</td>\n",
              "      <td>14.0</td>\n",
              "      <td>38.0</td>\n",
              "    </tr>\n",
              "  </tbody>\n",
              "</table>\n",
              "</div>"
            ],
            "text/plain": [
              "          m1    m2    m3    m4    m5\n",
              "module                              \n",
              "0       16.0  49.0  59.0  15.0   2.0\n",
              "1       47.0   2.0   0.0  42.0   1.0\n",
              "2        2.0  54.0   0.0  14.0  38.0"
            ]
          },
          "metadata": {
            "tags": []
          },
          "execution_count": 396
        }
      ]
    },
    {
      "cell_type": "markdown",
      "metadata": {
        "id": "la--S1eesfQ-"
      },
      "source": [
        "## 2. Frequencies (in %) of Motifs in Every Module (using biopython library)"
      ]
    },
    {
      "cell_type": "code",
      "metadata": {
        "id": "nrOoz0IQ1RFJ"
      },
      "source": [
        "def motifCount(seq):\r\n",
        "  count=0\r\n",
        "  for pos,_ in motif.pssm.search(Seq(seq), threshold=8.5):\r\n",
        "    if pos>=0:\r\n",
        "      count+=1\r\n",
        "  return 1 if count>0 else 0"
      ],
      "execution_count": null,
      "outputs": []
    },
    {
      "cell_type": "code",
      "metadata": {
        "id": "1O6dVCX-MrgF"
      },
      "source": [
        "motif=m1\r\n",
        "data['m1']=data['seq'].apply(motifCount)\r\n",
        "motif=m2\r\n",
        "data['m2']=data['seq'].apply(motifCount)\r\n",
        "motif=m3\r\n",
        "data['m3']=data['seq'].apply(motifCount)\r\n",
        "motif=m4\r\n",
        "data['m4']=data['seq'].apply(motifCount)\r\n",
        "motif=m5\r\n",
        "data['m5']=data['seq'].apply(motifCount)"
      ],
      "execution_count": null,
      "outputs": []
    },
    {
      "cell_type": "code",
      "metadata": {
        "colab": {
          "base_uri": "https://localhost:8080/",
          "height": 199
        },
        "id": "GLGj8jrSM5yo",
        "outputId": "7ff07c96-4e06-4d3d-e453-1a2b24d246c1"
      },
      "source": [
        "gb=data.groupby(['module']).sum()\r\n",
        "module_count=data['module'].value_counts()\r\n",
        "for idx,count in enumerate(module_count):\r\n",
        "  gb.iloc[idx]/=count\r\n",
        "print('--> Motif Frequencies using biopython library:\\n')\r\n",
        "(gb*100).apply(np.floor)"
      ],
      "execution_count": null,
      "outputs": [
        {
          "output_type": "stream",
          "text": [
            "--> Motif Frequencies using biopython library:\n",
            "\n"
          ],
          "name": "stdout"
        },
        {
          "output_type": "execute_result",
          "data": {
            "text/html": [
              "<div>\n",
              "<style scoped>\n",
              "    .dataframe tbody tr th:only-of-type {\n",
              "        vertical-align: middle;\n",
              "    }\n",
              "\n",
              "    .dataframe tbody tr th {\n",
              "        vertical-align: top;\n",
              "    }\n",
              "\n",
              "    .dataframe thead th {\n",
              "        text-align: right;\n",
              "    }\n",
              "</style>\n",
              "<table border=\"1\" class=\"dataframe\">\n",
              "  <thead>\n",
              "    <tr style=\"text-align: right;\">\n",
              "      <th></th>\n",
              "      <th>m1</th>\n",
              "      <th>m2</th>\n",
              "      <th>m3</th>\n",
              "      <th>m4</th>\n",
              "      <th>m5</th>\n",
              "    </tr>\n",
              "    <tr>\n",
              "      <th>module</th>\n",
              "      <th></th>\n",
              "      <th></th>\n",
              "      <th></th>\n",
              "      <th></th>\n",
              "      <th></th>\n",
              "    </tr>\n",
              "  </thead>\n",
              "  <tbody>\n",
              "    <tr>\n",
              "      <th>0</th>\n",
              "      <td>14.0</td>\n",
              "      <td>72.0</td>\n",
              "      <td>98.0</td>\n",
              "      <td>5.0</td>\n",
              "      <td>5.0</td>\n",
              "    </tr>\n",
              "    <tr>\n",
              "      <th>1</th>\n",
              "      <td>49.0</td>\n",
              "      <td>9.0</td>\n",
              "      <td>1.0</td>\n",
              "      <td>35.0</td>\n",
              "      <td>3.0</td>\n",
              "    </tr>\n",
              "    <tr>\n",
              "      <th>2</th>\n",
              "      <td>2.0</td>\n",
              "      <td>78.0</td>\n",
              "      <td>2.0</td>\n",
              "      <td>4.0</td>\n",
              "      <td>42.0</td>\n",
              "    </tr>\n",
              "  </tbody>\n",
              "</table>\n",
              "</div>"
            ],
            "text/plain": [
              "          m1    m2    m3    m4    m5\n",
              "module                              \n",
              "0       14.0  72.0  98.0   5.0   5.0\n",
              "1       49.0   9.0   1.0  35.0   3.0\n",
              "2        2.0  78.0   2.0   4.0  42.0"
            ]
          },
          "metadata": {
            "tags": []
          },
          "execution_count": 399
        }
      ]
    }
  ]
}