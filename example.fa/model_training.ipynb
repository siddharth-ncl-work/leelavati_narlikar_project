{
 "cells": [
  {
   "cell_type": "markdown",
   "id": "acute-accreditation",
   "metadata": {},
   "source": [
    "# LDA Model Training"
   ]
  },
  {
   "cell_type": "code",
   "execution_count": 1,
   "id": "southeast-hampshire",
   "metadata": {},
   "outputs": [],
   "source": [
    "import numpy as np\n",
    "import pandas as pd\n",
    "import matplotlib.pyplot as plt\n",
    "from tqdm import tqdm"
   ]
  },
  {
   "cell_type": "markdown",
   "id": "departmental-pension",
   "metadata": {},
   "source": [
    "## Data"
   ]
  },
  {
   "cell_type": "code",
   "execution_count": 2,
   "id": "downtown-phrase",
   "metadata": {},
   "outputs": [
    {
     "data": {
      "text/html": [
       "<div>\n",
       "<style scoped>\n",
       "    .dataframe tbody tr th:only-of-type {\n",
       "        vertical-align: middle;\n",
       "    }\n",
       "\n",
       "    .dataframe tbody tr th {\n",
       "        vertical-align: top;\n",
       "    }\n",
       "\n",
       "    .dataframe thead th {\n",
       "        text-align: right;\n",
       "    }\n",
       "</style>\n",
       "<table border=\"1\" class=\"dataframe\">\n",
       "  <thead>\n",
       "    <tr style=\"text-align: right;\">\n",
       "      <th></th>\n",
       "      <th>seq_no.</th>\n",
       "      <th>seq</th>\n",
       "      <th>module</th>\n",
       "      <th>motif_1</th>\n",
       "      <th>motif_2</th>\n",
       "      <th>motif_3</th>\n",
       "      <th>motif_4</th>\n",
       "      <th>motif_5</th>\n",
       "      <th>motif_string</th>\n",
       "    </tr>\n",
       "  </thead>\n",
       "  <tbody>\n",
       "    <tr>\n",
       "      <th>0</th>\n",
       "      <td>0</td>\n",
       "      <td>GGAGGAGGAAGAGGCTGGGCCCCTGCTGTGTGGGGGCAAGTTCCCA...</td>\n",
       "      <td>0</td>\n",
       "      <td>0.0</td>\n",
       "      <td>1.0</td>\n",
       "      <td>1.0</td>\n",
       "      <td>0.0</td>\n",
       "      <td>0.0</td>\n",
       "      <td>motif_2,motif_3</td>\n",
       "    </tr>\n",
       "    <tr>\n",
       "      <th>1</th>\n",
       "      <td>1</td>\n",
       "      <td>CAAATACCCTGGGGTGCAATACGACTTATATCTCACGTATTGGAAG...</td>\n",
       "      <td>1</td>\n",
       "      <td>1.0</td>\n",
       "      <td>0.0</td>\n",
       "      <td>0.0</td>\n",
       "      <td>1.0</td>\n",
       "      <td>0.0</td>\n",
       "      <td>motif_1,motif_4</td>\n",
       "    </tr>\n",
       "    <tr>\n",
       "      <th>2</th>\n",
       "      <td>2</td>\n",
       "      <td>AACTAGGACACAGAAGTTGATCTAACGTAAACATCAAGAGCTTCCT...</td>\n",
       "      <td>1</td>\n",
       "      <td>1.0</td>\n",
       "      <td>0.0</td>\n",
       "      <td>0.0</td>\n",
       "      <td>1.0</td>\n",
       "      <td>0.0</td>\n",
       "      <td>motif_1,motif_4</td>\n",
       "    </tr>\n",
       "    <tr>\n",
       "      <th>3</th>\n",
       "      <td>3</td>\n",
       "      <td>CACAGCTGGGCCTGGTTGGTCTTTGTCCAGGGAACAATGGAGCGCC...</td>\n",
       "      <td>1</td>\n",
       "      <td>1.0</td>\n",
       "      <td>0.0</td>\n",
       "      <td>0.0</td>\n",
       "      <td>1.0</td>\n",
       "      <td>0.0</td>\n",
       "      <td>motif_1,motif_4</td>\n",
       "    </tr>\n",
       "    <tr>\n",
       "      <th>4</th>\n",
       "      <td>4</td>\n",
       "      <td>TTGTTTTATTTGTTTGTTGGGGGGCGGCGGGGAGCGACAGGGGAGT...</td>\n",
       "      <td>0</td>\n",
       "      <td>0.0</td>\n",
       "      <td>1.0</td>\n",
       "      <td>1.0</td>\n",
       "      <td>0.0</td>\n",
       "      <td>0.0</td>\n",
       "      <td>motif_2,motif_3</td>\n",
       "    </tr>\n",
       "    <tr>\n",
       "      <th>...</th>\n",
       "      <td>...</td>\n",
       "      <td>...</td>\n",
       "      <td>...</td>\n",
       "      <td>...</td>\n",
       "      <td>...</td>\n",
       "      <td>...</td>\n",
       "      <td>...</td>\n",
       "      <td>...</td>\n",
       "      <td>...</td>\n",
       "    </tr>\n",
       "    <tr>\n",
       "      <th>995</th>\n",
       "      <td>995</td>\n",
       "      <td>CTATTATTAAGAAATATACACAATTTTAACTTCAAATATCTCTCAT...</td>\n",
       "      <td>0</td>\n",
       "      <td>0.0</td>\n",
       "      <td>1.0</td>\n",
       "      <td>1.0</td>\n",
       "      <td>0.0</td>\n",
       "      <td>0.0</td>\n",
       "      <td>motif_2,motif_3</td>\n",
       "    </tr>\n",
       "    <tr>\n",
       "      <th>996</th>\n",
       "      <td>996</td>\n",
       "      <td>ATTGATTCTCACTTGCTTGACTCAAGGGAGGGTTTGATTTTGGTCA...</td>\n",
       "      <td>1</td>\n",
       "      <td>1.0</td>\n",
       "      <td>0.0</td>\n",
       "      <td>0.0</td>\n",
       "      <td>1.0</td>\n",
       "      <td>0.0</td>\n",
       "      <td>motif_1,motif_4</td>\n",
       "    </tr>\n",
       "    <tr>\n",
       "      <th>997</th>\n",
       "      <td>997</td>\n",
       "      <td>ATGTGGTTCTACCATATAGTTTATCAATTTTAAACAGGTAAAATAT...</td>\n",
       "      <td>1</td>\n",
       "      <td>1.0</td>\n",
       "      <td>0.0</td>\n",
       "      <td>0.0</td>\n",
       "      <td>1.0</td>\n",
       "      <td>0.0</td>\n",
       "      <td>motif_1,motif_4</td>\n",
       "    </tr>\n",
       "    <tr>\n",
       "      <th>998</th>\n",
       "      <td>998</td>\n",
       "      <td>ATTTTGTTGGTTAGGTGATGGAAGTATGATGCTATTGATATTTCCC...</td>\n",
       "      <td>2</td>\n",
       "      <td>0.0</td>\n",
       "      <td>1.0</td>\n",
       "      <td>0.0</td>\n",
       "      <td>0.0</td>\n",
       "      <td>1.0</td>\n",
       "      <td>motif_2,motif_5</td>\n",
       "    </tr>\n",
       "    <tr>\n",
       "      <th>999</th>\n",
       "      <td>999</td>\n",
       "      <td>AAGGAAAAGTGAGGAAGTATGGCCATTCCTCTGATAGGACACAAGA...</td>\n",
       "      <td>1</td>\n",
       "      <td>1.0</td>\n",
       "      <td>0.0</td>\n",
       "      <td>0.0</td>\n",
       "      <td>0.0</td>\n",
       "      <td>0.0</td>\n",
       "      <td>motif_1</td>\n",
       "    </tr>\n",
       "  </tbody>\n",
       "</table>\n",
       "<p>1000 rows × 9 columns</p>\n",
       "</div>"
      ],
      "text/plain": [
       "     seq_no.                                                seq  module  \\\n",
       "0          0  GGAGGAGGAAGAGGCTGGGCCCCTGCTGTGTGGGGGCAAGTTCCCA...       0   \n",
       "1          1  CAAATACCCTGGGGTGCAATACGACTTATATCTCACGTATTGGAAG...       1   \n",
       "2          2  AACTAGGACACAGAAGTTGATCTAACGTAAACATCAAGAGCTTCCT...       1   \n",
       "3          3  CACAGCTGGGCCTGGTTGGTCTTTGTCCAGGGAACAATGGAGCGCC...       1   \n",
       "4          4  TTGTTTTATTTGTTTGTTGGGGGGCGGCGGGGAGCGACAGGGGAGT...       0   \n",
       "..       ...                                                ...     ...   \n",
       "995      995  CTATTATTAAGAAATATACACAATTTTAACTTCAAATATCTCTCAT...       0   \n",
       "996      996  ATTGATTCTCACTTGCTTGACTCAAGGGAGGGTTTGATTTTGGTCA...       1   \n",
       "997      997  ATGTGGTTCTACCATATAGTTTATCAATTTTAAACAGGTAAAATAT...       1   \n",
       "998      998  ATTTTGTTGGTTAGGTGATGGAAGTATGATGCTATTGATATTTCCC...       2   \n",
       "999      999  AAGGAAAAGTGAGGAAGTATGGCCATTCCTCTGATAGGACACAAGA...       1   \n",
       "\n",
       "     motif_1  motif_2  motif_3  motif_4  motif_5     motif_string  \n",
       "0        0.0      1.0      1.0      0.0      0.0  motif_2,motif_3  \n",
       "1        1.0      0.0      0.0      1.0      0.0  motif_1,motif_4  \n",
       "2        1.0      0.0      0.0      1.0      0.0  motif_1,motif_4  \n",
       "3        1.0      0.0      0.0      1.0      0.0  motif_1,motif_4  \n",
       "4        0.0      1.0      1.0      0.0      0.0  motif_2,motif_3  \n",
       "..       ...      ...      ...      ...      ...              ...  \n",
       "995      0.0      1.0      1.0      0.0      0.0  motif_2,motif_3  \n",
       "996      1.0      0.0      0.0      1.0      0.0  motif_1,motif_4  \n",
       "997      1.0      0.0      0.0      1.0      0.0  motif_1,motif_4  \n",
       "998      0.0      1.0      0.0      0.0      1.0  motif_2,motif_5  \n",
       "999      1.0      0.0      0.0      0.0      0.0          motif_1  \n",
       "\n",
       "[1000 rows x 9 columns]"
      ]
     },
     "execution_count": 2,
     "metadata": {},
     "output_type": "execute_result"
    }
   ],
   "source": [
    "data_file_path='DATA.csv'\n",
    "data=pd.read_csv(data_file_path)\n",
    "data"
   ]
  },
  {
   "cell_type": "code",
   "execution_count": 3,
   "id": "southern-oracle",
   "metadata": {},
   "outputs": [
    {
     "name": "stdout",
     "output_type": "stream",
     "text": [
      "Empty DataFrame\n",
      "Columns: [seq_no., seq, module, motif_1, motif_2, motif_3, motif_4, motif_5, motif_string]\n",
      "Index: []\n"
     ]
    },
    {
     "data": {
      "text/html": [
       "<div>\n",
       "<style scoped>\n",
       "    .dataframe tbody tr th:only-of-type {\n",
       "        vertical-align: middle;\n",
       "    }\n",
       "\n",
       "    .dataframe tbody tr th {\n",
       "        vertical-align: top;\n",
       "    }\n",
       "\n",
       "    .dataframe thead th {\n",
       "        text-align: right;\n",
       "    }\n",
       "</style>\n",
       "<table border=\"1\" class=\"dataframe\">\n",
       "  <thead>\n",
       "    <tr style=\"text-align: right;\">\n",
       "      <th></th>\n",
       "      <th>seq_no.</th>\n",
       "      <th>seq</th>\n",
       "      <th>module</th>\n",
       "      <th>motif_1</th>\n",
       "      <th>motif_2</th>\n",
       "      <th>motif_3</th>\n",
       "      <th>motif_4</th>\n",
       "      <th>motif_5</th>\n",
       "      <th>motif_string</th>\n",
       "      <th>motif_list</th>\n",
       "    </tr>\n",
       "  </thead>\n",
       "  <tbody>\n",
       "    <tr>\n",
       "      <th>0</th>\n",
       "      <td>0</td>\n",
       "      <td>GGAGGAGGAAGAGGCTGGGCCCCTGCTGTGTGGGGGCAAGTTCCCA...</td>\n",
       "      <td>0</td>\n",
       "      <td>0.0</td>\n",
       "      <td>1.0</td>\n",
       "      <td>1.0</td>\n",
       "      <td>0.0</td>\n",
       "      <td>0.0</td>\n",
       "      <td>motif_2,motif_3</td>\n",
       "      <td>[motif_2, motif_3]</td>\n",
       "    </tr>\n",
       "    <tr>\n",
       "      <th>1</th>\n",
       "      <td>1</td>\n",
       "      <td>CAAATACCCTGGGGTGCAATACGACTTATATCTCACGTATTGGAAG...</td>\n",
       "      <td>1</td>\n",
       "      <td>1.0</td>\n",
       "      <td>0.0</td>\n",
       "      <td>0.0</td>\n",
       "      <td>1.0</td>\n",
       "      <td>0.0</td>\n",
       "      <td>motif_1,motif_4</td>\n",
       "      <td>[motif_1, motif_4]</td>\n",
       "    </tr>\n",
       "    <tr>\n",
       "      <th>2</th>\n",
       "      <td>2</td>\n",
       "      <td>AACTAGGACACAGAAGTTGATCTAACGTAAACATCAAGAGCTTCCT...</td>\n",
       "      <td>1</td>\n",
       "      <td>1.0</td>\n",
       "      <td>0.0</td>\n",
       "      <td>0.0</td>\n",
       "      <td>1.0</td>\n",
       "      <td>0.0</td>\n",
       "      <td>motif_1,motif_4</td>\n",
       "      <td>[motif_1, motif_4]</td>\n",
       "    </tr>\n",
       "    <tr>\n",
       "      <th>3</th>\n",
       "      <td>3</td>\n",
       "      <td>CACAGCTGGGCCTGGTTGGTCTTTGTCCAGGGAACAATGGAGCGCC...</td>\n",
       "      <td>1</td>\n",
       "      <td>1.0</td>\n",
       "      <td>0.0</td>\n",
       "      <td>0.0</td>\n",
       "      <td>1.0</td>\n",
       "      <td>0.0</td>\n",
       "      <td>motif_1,motif_4</td>\n",
       "      <td>[motif_1, motif_4]</td>\n",
       "    </tr>\n",
       "    <tr>\n",
       "      <th>4</th>\n",
       "      <td>4</td>\n",
       "      <td>TTGTTTTATTTGTTTGTTGGGGGGCGGCGGGGAGCGACAGGGGAGT...</td>\n",
       "      <td>0</td>\n",
       "      <td>0.0</td>\n",
       "      <td>1.0</td>\n",
       "      <td>1.0</td>\n",
       "      <td>0.0</td>\n",
       "      <td>0.0</td>\n",
       "      <td>motif_2,motif_3</td>\n",
       "      <td>[motif_2, motif_3]</td>\n",
       "    </tr>\n",
       "    <tr>\n",
       "      <th>...</th>\n",
       "      <td>...</td>\n",
       "      <td>...</td>\n",
       "      <td>...</td>\n",
       "      <td>...</td>\n",
       "      <td>...</td>\n",
       "      <td>...</td>\n",
       "      <td>...</td>\n",
       "      <td>...</td>\n",
       "      <td>...</td>\n",
       "      <td>...</td>\n",
       "    </tr>\n",
       "    <tr>\n",
       "      <th>995</th>\n",
       "      <td>995</td>\n",
       "      <td>CTATTATTAAGAAATATACACAATTTTAACTTCAAATATCTCTCAT...</td>\n",
       "      <td>0</td>\n",
       "      <td>0.0</td>\n",
       "      <td>1.0</td>\n",
       "      <td>1.0</td>\n",
       "      <td>0.0</td>\n",
       "      <td>0.0</td>\n",
       "      <td>motif_2,motif_3</td>\n",
       "      <td>[motif_2, motif_3]</td>\n",
       "    </tr>\n",
       "    <tr>\n",
       "      <th>996</th>\n",
       "      <td>996</td>\n",
       "      <td>ATTGATTCTCACTTGCTTGACTCAAGGGAGGGTTTGATTTTGGTCA...</td>\n",
       "      <td>1</td>\n",
       "      <td>1.0</td>\n",
       "      <td>0.0</td>\n",
       "      <td>0.0</td>\n",
       "      <td>1.0</td>\n",
       "      <td>0.0</td>\n",
       "      <td>motif_1,motif_4</td>\n",
       "      <td>[motif_1, motif_4]</td>\n",
       "    </tr>\n",
       "    <tr>\n",
       "      <th>997</th>\n",
       "      <td>997</td>\n",
       "      <td>ATGTGGTTCTACCATATAGTTTATCAATTTTAAACAGGTAAAATAT...</td>\n",
       "      <td>1</td>\n",
       "      <td>1.0</td>\n",
       "      <td>0.0</td>\n",
       "      <td>0.0</td>\n",
       "      <td>1.0</td>\n",
       "      <td>0.0</td>\n",
       "      <td>motif_1,motif_4</td>\n",
       "      <td>[motif_1, motif_4]</td>\n",
       "    </tr>\n",
       "    <tr>\n",
       "      <th>998</th>\n",
       "      <td>998</td>\n",
       "      <td>ATTTTGTTGGTTAGGTGATGGAAGTATGATGCTATTGATATTTCCC...</td>\n",
       "      <td>2</td>\n",
       "      <td>0.0</td>\n",
       "      <td>1.0</td>\n",
       "      <td>0.0</td>\n",
       "      <td>0.0</td>\n",
       "      <td>1.0</td>\n",
       "      <td>motif_2,motif_5</td>\n",
       "      <td>[motif_2, motif_5]</td>\n",
       "    </tr>\n",
       "    <tr>\n",
       "      <th>999</th>\n",
       "      <td>999</td>\n",
       "      <td>AAGGAAAAGTGAGGAAGTATGGCCATTCCTCTGATAGGACACAAGA...</td>\n",
       "      <td>1</td>\n",
       "      <td>1.0</td>\n",
       "      <td>0.0</td>\n",
       "      <td>0.0</td>\n",
       "      <td>0.0</td>\n",
       "      <td>0.0</td>\n",
       "      <td>motif_1</td>\n",
       "      <td>[motif_1]</td>\n",
       "    </tr>\n",
       "  </tbody>\n",
       "</table>\n",
       "<p>1000 rows × 10 columns</p>\n",
       "</div>"
      ],
      "text/plain": [
       "     seq_no.                                                seq  module  \\\n",
       "0          0  GGAGGAGGAAGAGGCTGGGCCCCTGCTGTGTGGGGGCAAGTTCCCA...       0   \n",
       "1          1  CAAATACCCTGGGGTGCAATACGACTTATATCTCACGTATTGGAAG...       1   \n",
       "2          2  AACTAGGACACAGAAGTTGATCTAACGTAAACATCAAGAGCTTCCT...       1   \n",
       "3          3  CACAGCTGGGCCTGGTTGGTCTTTGTCCAGGGAACAATGGAGCGCC...       1   \n",
       "4          4  TTGTTTTATTTGTTTGTTGGGGGGCGGCGGGGAGCGACAGGGGAGT...       0   \n",
       "..       ...                                                ...     ...   \n",
       "995      995  CTATTATTAAGAAATATACACAATTTTAACTTCAAATATCTCTCAT...       0   \n",
       "996      996  ATTGATTCTCACTTGCTTGACTCAAGGGAGGGTTTGATTTTGGTCA...       1   \n",
       "997      997  ATGTGGTTCTACCATATAGTTTATCAATTTTAAACAGGTAAAATAT...       1   \n",
       "998      998  ATTTTGTTGGTTAGGTGATGGAAGTATGATGCTATTGATATTTCCC...       2   \n",
       "999      999  AAGGAAAAGTGAGGAAGTATGGCCATTCCTCTGATAGGACACAAGA...       1   \n",
       "\n",
       "     motif_1  motif_2  motif_3  motif_4  motif_5     motif_string  \\\n",
       "0        0.0      1.0      1.0      0.0      0.0  motif_2,motif_3   \n",
       "1        1.0      0.0      0.0      1.0      0.0  motif_1,motif_4   \n",
       "2        1.0      0.0      0.0      1.0      0.0  motif_1,motif_4   \n",
       "3        1.0      0.0      0.0      1.0      0.0  motif_1,motif_4   \n",
       "4        0.0      1.0      1.0      0.0      0.0  motif_2,motif_3   \n",
       "..       ...      ...      ...      ...      ...              ...   \n",
       "995      0.0      1.0      1.0      0.0      0.0  motif_2,motif_3   \n",
       "996      1.0      0.0      0.0      1.0      0.0  motif_1,motif_4   \n",
       "997      1.0      0.0      0.0      1.0      0.0  motif_1,motif_4   \n",
       "998      0.0      1.0      0.0      0.0      1.0  motif_2,motif_5   \n",
       "999      1.0      0.0      0.0      0.0      0.0          motif_1   \n",
       "\n",
       "             motif_list  \n",
       "0    [motif_2, motif_3]  \n",
       "1    [motif_1, motif_4]  \n",
       "2    [motif_1, motif_4]  \n",
       "3    [motif_1, motif_4]  \n",
       "4    [motif_2, motif_3]  \n",
       "..                  ...  \n",
       "995  [motif_2, motif_3]  \n",
       "996  [motif_1, motif_4]  \n",
       "997  [motif_1, motif_4]  \n",
       "998  [motif_2, motif_5]  \n",
       "999           [motif_1]  \n",
       "\n",
       "[1000 rows x 10 columns]"
      ]
     },
     "execution_count": 3,
     "metadata": {},
     "output_type": "execute_result"
    }
   ],
   "source": [
    "print(data[data['motif_string'].isna()])\n",
    "data.dropna(subset=['motif_string'],inplace=True)\n",
    "data['motif_list']=data['motif_string'].apply(lambda x:x.split(','))\n",
    "data"
   ]
  },
  {
   "cell_type": "code",
   "execution_count": 4,
   "id": "concrete-freeze",
   "metadata": {},
   "outputs": [
    {
     "name": "stdout",
     "output_type": "stream",
     "text": [
      "Motif-Index to Motif-Name Mapping:\n",
      "0 - motif_2\n",
      "1 - motif_3\n",
      "2 - motif_1\n",
      "3 - motif_4\n",
      "4 - motif_5\n"
     ]
    }
   ],
   "source": [
    "from gensim.corpora import Dictionary\n",
    "\n",
    "docs=data['motif_list'].values\n",
    "dictionary=Dictionary(docs)\n",
    "\n",
    "print('Motif-Index to Motif-Name Mapping:')\n",
    "for i,v in dictionary.items():\n",
    "    print(f'{i} - {v}')\n",
    "    if i==10:\n",
    "        break\n",
    "    "
   ]
  },
  {
   "cell_type": "code",
   "execution_count": 5,
   "id": "renewable-particular",
   "metadata": {},
   "outputs": [
    {
     "name": "stdout",
     "output_type": "stream",
     "text": [
      "BOW (Sequence-0):\n"
     ]
    },
    {
     "data": {
      "text/plain": [
       "(['motif_2', 'motif_3'], [(0, 1), (1, 1)])"
      ]
     },
     "execution_count": 5,
     "metadata": {},
     "output_type": "execute_result"
    }
   ],
   "source": [
    "corpus = [dictionary.doc2bow(doc) for doc in docs]\n",
    "print('BOW (Sequence-0):')\n",
    "docs[0],corpus[0]"
   ]
  },
  {
   "cell_type": "markdown",
   "id": "heated-sampling",
   "metadata": {},
   "source": [
    "## Training Test"
   ]
  },
  {
   "cell_type": "code",
   "execution_count": 6,
   "id": "possible-residence",
   "metadata": {},
   "outputs": [
    {
     "name": "stderr",
     "output_type": "stream",
     "text": [
      "2021-02-24 13:30:59,628 : INFO : using autotuned alpha, starting with [0.33333334, 0.33333334, 0.33333334]\n",
      "2021-02-24 13:30:59,629 : INFO : using serial LDA version on this node\n",
      "2021-02-24 13:30:59,630 : INFO : running online (multi-pass) LDA training, 3 topics, 5 passes over the supplied corpus of 1000 documents, updating model once every 1000 documents, evaluating perplexity every 1000 documents, iterating 1000x with a convergence threshold of 0.001000\n",
      "2021-02-24 13:30:59,631 : WARNING : too few updates, training might not converge; consider increasing the number of passes or iterations to improve accuracy\n",
      "2021-02-24 13:30:59,633 : DEBUG : bound: at document #0\n",
      "2021-02-24 13:31:00,079 : INFO : -2.593 per-word bound, 6.0 perplexity estimate based on a held-out corpus of 1000 documents with 1931 words\n",
      "2021-02-24 13:31:00,079 : INFO : PROGRESS: pass 0, at document #1000/1000\n",
      "2021-02-24 13:31:00,080 : DEBUG : performing inference on a chunk of 1000 documents\n",
      "2021-02-24 13:31:00,431 : DEBUG : 1000/1000 documents converged within 1000 iterations\n",
      "2021-02-24 13:31:00,435 : INFO : optimized alpha [0.4045695, 0.42178893, 0.2923484]\n",
      "2021-02-24 13:31:00,435 : DEBUG : updating topics\n",
      "2021-02-24 13:31:00,436 : INFO : topic #0 (0.405): 0.552*\"motif_1\" + 0.394*\"motif_4\" + 0.035*\"motif_2\" + 0.016*\"motif_3\" + 0.003*\"motif_5\"\n",
      "2021-02-24 13:31:00,437 : INFO : topic #1 (0.422): 0.444*\"motif_3\" + 0.430*\"motif_2\" + 0.112*\"motif_1\" + 0.011*\"motif_4\" + 0.002*\"motif_5\"\n",
      "2021-02-24 13:31:00,438 : INFO : topic #2 (0.292): 0.392*\"motif_2\" + 0.230*\"motif_5\" + 0.160*\"motif_1\" + 0.158*\"motif_3\" + 0.061*\"motif_4\"\n",
      "2021-02-24 13:31:00,439 : INFO : topic diff=1.416201, rho=1.000000\n",
      "2021-02-24 13:31:00,441 : INFO : Epoch 0: Convergence estimate: 0.0\n",
      "2021-02-24 13:31:00,444 : DEBUG : bound: at document #0\n",
      "2021-02-24 13:31:00,643 : INFO : -1.566 per-word bound, 3.0 perplexity estimate based on a held-out corpus of 1000 documents with 1931 words\n",
      "2021-02-24 13:31:00,644 : INFO : PROGRESS: pass 1, at document #1000/1000\n",
      "2021-02-24 13:31:00,645 : DEBUG : performing inference on a chunk of 1000 documents\n",
      "2021-02-24 13:31:00,775 : DEBUG : 1000/1000 documents converged within 1000 iterations\n",
      "2021-02-24 13:31:00,779 : INFO : optimized alpha [0.4245334, 0.44110298, 0.2487739]\n",
      "2021-02-24 13:31:00,779 : DEBUG : updating topics\n",
      "2021-02-24 13:31:00,780 : INFO : topic #0 (0.425): 0.586*\"motif_1\" + 0.389*\"motif_4\" + 0.016*\"motif_2\" + 0.007*\"motif_3\" + 0.001*\"motif_5\"\n",
      "2021-02-24 13:31:00,781 : INFO : topic #1 (0.441): 0.463*\"motif_3\" + 0.455*\"motif_2\" + 0.075*\"motif_1\" + 0.005*\"motif_4\" + 0.001*\"motif_5\"\n",
      "2021-02-24 13:31:00,782 : INFO : topic #2 (0.249): 0.425*\"motif_2\" + 0.323*\"motif_5\" + 0.109*\"motif_1\" + 0.104*\"motif_3\" + 0.039*\"motif_4\"\n",
      "2021-02-24 13:31:00,783 : INFO : topic diff=0.440685, rho=0.577350\n",
      "2021-02-24 13:31:00,784 : INFO : Epoch 1: Convergence estimate: 0.0\n",
      "2021-02-24 13:31:00,789 : DEBUG : bound: at document #0\n",
      "2021-02-24 13:31:00,987 : INFO : -1.502 per-word bound, 2.8 perplexity estimate based on a held-out corpus of 1000 documents with 1931 words\n",
      "2021-02-24 13:31:00,987 : INFO : PROGRESS: pass 2, at document #1000/1000\n",
      "2021-02-24 13:31:00,988 : DEBUG : performing inference on a chunk of 1000 documents\n",
      "2021-02-24 13:31:01,102 : DEBUG : 1000/1000 documents converged within 1000 iterations\n",
      "2021-02-24 13:31:01,106 : INFO : optimized alpha [0.4397945, 0.45307562, 0.21906957]\n",
      "2021-02-24 13:31:01,106 : DEBUG : updating topics\n",
      "2021-02-24 13:31:01,107 : INFO : topic #0 (0.440): 0.603*\"motif_1\" + 0.383*\"motif_4\" + 0.009*\"motif_2\" + 0.004*\"motif_3\" + 0.001*\"motif_5\"\n",
      "2021-02-24 13:31:01,108 : INFO : topic #1 (0.453): 0.474*\"motif_3\" + 0.470*\"motif_2\" + 0.053*\"motif_1\" + 0.003*\"motif_4\" + 0.001*\"motif_5\"\n",
      "2021-02-24 13:31:01,109 : INFO : topic #2 (0.219): 0.442*\"motif_2\" + 0.392*\"motif_5\" + 0.072*\"motif_1\" + 0.068*\"motif_3\" + 0.026*\"motif_4\"\n",
      "2021-02-24 13:31:01,109 : INFO : topic diff=0.369259, rho=0.500000\n",
      "2021-02-24 13:31:01,110 : INFO : Epoch 2: Convergence estimate: 0.0\n",
      "2021-02-24 13:31:01,115 : DEBUG : bound: at document #0\n",
      "2021-02-24 13:31:01,298 : INFO : -1.465 per-word bound, 2.8 perplexity estimate based on a held-out corpus of 1000 documents with 1931 words\n",
      "2021-02-24 13:31:01,299 : INFO : PROGRESS: pass 3, at document #1000/1000\n",
      "2021-02-24 13:31:01,300 : DEBUG : performing inference on a chunk of 1000 documents\n",
      "2021-02-24 13:31:01,412 : DEBUG : 1000/1000 documents converged within 1000 iterations\n",
      "2021-02-24 13:31:01,416 : INFO : optimized alpha [0.4513837, 0.46094835, 0.19778013]\n",
      "2021-02-24 13:31:01,416 : DEBUG : updating topics\n",
      "2021-02-24 13:31:01,417 : INFO : topic #0 (0.451): 0.613*\"motif_1\" + 0.378*\"motif_4\" + 0.006*\"motif_2\" + 0.003*\"motif_3\" + 0.001*\"motif_5\"\n",
      "2021-02-24 13:31:01,418 : INFO : topic #1 (0.461): 0.480*\"motif_3\" + 0.479*\"motif_2\" + 0.038*\"motif_1\" + 0.002*\"motif_4\" + 0.001*\"motif_5\"\n",
      "2021-02-24 13:31:01,419 : INFO : topic #2 (0.198): 0.450*\"motif_2\" + 0.440*\"motif_5\" + 0.047*\"motif_1\" + 0.045*\"motif_3\" + 0.018*\"motif_4\"\n",
      "2021-02-24 13:31:01,419 : INFO : topic diff=0.320705, rho=0.447214\n",
      "2021-02-24 13:31:01,421 : INFO : Epoch 3: Convergence estimate: 0.0\n",
      "2021-02-24 13:31:01,425 : DEBUG : bound: at document #0\n",
      "2021-02-24 13:31:01,611 : INFO : -1.441 per-word bound, 2.7 perplexity estimate based on a held-out corpus of 1000 documents with 1931 words\n",
      "2021-02-24 13:31:01,611 : INFO : PROGRESS: pass 4, at document #1000/1000\n",
      "2021-02-24 13:31:01,612 : DEBUG : performing inference on a chunk of 1000 documents\n",
      "2021-02-24 13:31:01,722 : DEBUG : 1000/1000 documents converged within 1000 iterations\n",
      "2021-02-24 13:31:01,726 : INFO : optimized alpha [0.46020108, 0.46626037, 0.18172944]\n",
      "2021-02-24 13:31:01,727 : DEBUG : updating topics\n",
      "2021-02-24 13:31:01,728 : INFO : topic #0 (0.460): 0.619*\"motif_1\" + 0.375*\"motif_4\" + 0.004*\"motif_2\" + 0.002*\"motif_3\" + 0.001*\"motif_5\"\n",
      "2021-02-24 13:31:01,729 : INFO : topic #1 (0.466): 0.485*\"motif_2\" + 0.485*\"motif_3\" + 0.028*\"motif_1\" + 0.001*\"motif_4\" + 0.000*\"motif_5\"\n",
      "2021-02-24 13:31:01,729 : INFO : topic #2 (0.182): 0.472*\"motif_5\" + 0.453*\"motif_2\" + 0.032*\"motif_1\" + 0.030*\"motif_3\" + 0.013*\"motif_4\"\n",
      "2021-02-24 13:31:01,730 : INFO : topic diff=0.281621, rho=0.408248\n",
      "2021-02-24 13:31:01,731 : INFO : Epoch 4: Convergence estimate: 0.0\n",
      "100%|██████████| 1000/1000 [00:00<00:00, 6097.56it/s]"
     ]
    },
    {
     "name": "stdout",
     "output_type": "stream",
     "text": [
      "CPU times: user 2.26 s, sys: 203 ms, total: 2.46 s\n",
      "Wall time: 2.28 s\n"
     ]
    },
    {
     "name": "stderr",
     "output_type": "stream",
     "text": [
      "\n"
     ]
    }
   ],
   "source": [
    "%%time\n",
    "import logging\n",
    "from gensim.models.callbacks import Callback,PerplexityMetric, ConvergenceMetric, CoherenceMetric\n",
    "\n",
    "logging.basicConfig(format='%(asctime)s : %(levelname)s : %(message)s', level=logging.DEBUG)\n",
    "convergence_logger = ConvergenceMetric(logger='shell')\n",
    "from gensim.models import LdaModel,LdaMulticore\n",
    "\n",
    "temp = dictionary[0]\n",
    "id2word = dictionary.id2token\n",
    "lda = LdaModel(corpus, id2word=id2word, alpha='auto',chunksize=10000,\n",
    "               eta='auto',num_topics=3, iterations=1000, passes = 5,\n",
    "              minimum_probability=0.0,callbacks=[convergence_logger])\n",
    "\n",
    "lda_predictions=lda.get_document_topics(corpus,minimum_probability=0.0)\n",
    "lda_pred_topic=[]\n",
    "for pred in tqdm(lda_predictions):\n",
    "    top_topic=sorted(pred,key=lambda x:-x[1])[0][0]\n",
    "    lda_pred_topic.append(top_topic)\n",
    "lda_pred_data=data.copy()\n",
    "lda_pred_data['pred_topic']=lda_pred_topic\n",
    "\n",
    "logging.getLogger().setLevel(logging.CRITICAL)"
   ]
  },
  {
   "cell_type": "markdown",
   "id": "falling-google",
   "metadata": {},
   "source": [
    "## Model Evaluation Metrics"
   ]
  },
  {
   "cell_type": "code",
   "execution_count": 7,
   "id": "bottom-equipment",
   "metadata": {},
   "outputs": [
    {
     "data": {
      "text/plain": [
       "[(2, 0.6189055),\n",
       " (3, 0.37495264),\n",
       " (0, 0.0037638969),\n",
       " (1, 0.0018303924),\n",
       " (4, 0.0005475782)]"
      ]
     },
     "execution_count": 7,
     "metadata": {},
     "output_type": "execute_result"
    }
   ],
   "source": [
    "lda.get_topic_terms(0)"
   ]
  },
  {
   "cell_type": "code",
   "execution_count": 8,
   "id": "exceptional-booth",
   "metadata": {},
   "outputs": [
    {
     "name": "stderr",
     "output_type": "stream",
     "text": [
      "622it [00:00, 3136.32it/s]"
     ]
    },
    {
     "name": "stdout",
     "output_type": "stream",
     "text": [
      "{0: 0.478, 1: 0.48, 2: 0.042}\n"
     ]
    },
    {
     "name": "stderr",
     "output_type": "stream",
     "text": [
      "1000it [00:00, 3177.92it/s]"
     ]
    },
    {
     "name": "stdout",
     "output_type": "stream",
     "text": [
      "-1059.6488458157767\n"
     ]
    },
    {
     "name": "stderr",
     "output_type": "stream",
     "text": [
      "\n"
     ]
    },
    {
     "data": {
      "text/plain": [
       "-1059.6488458157767"
      ]
     },
     "execution_count": 8,
     "metadata": {},
     "output_type": "execute_result"
    }
   ],
   "source": [
    "def getTopicDistribution(pred_data,ntopics):\n",
    "    topic_dist_dict={i:0 for i in range(ntopics)}\n",
    "    value_count=pred_data['pred_topic'].value_counts(normalize=True)\n",
    "    for k,v in value_count.to_dict().items():\n",
    "        topic_dist_dict[k]=v\n",
    "    return topic_dist_dict\n",
    "\n",
    "def likelihoodMetric(model,pred_data,dictionary,ntopics):\n",
    "    likelihood=0\n",
    "    P_T=getTopicDistribution(pred_data,ntopics)\n",
    "    print(P_T)\n",
    "    for idx,row in tqdm(pred_data.iterrows()):\n",
    "        motif_list=dictionary.doc2idx(row['motif_list'])\n",
    "        assigned_topic_no=row['pred_topic']\n",
    "        P_Xi_M=0\n",
    "        for topic_no in range(ntopics):\n",
    "            ttd=model.get_topic_terms(topic_no)\n",
    "            filtered_ttd=list(filter(lambda x:x[0] in motif_list,ttd))\n",
    "            P_X_Ti=1\n",
    "            for motif,P_mj_T in filtered_ttd:\n",
    "                P_X_Ti*=P_mj_T\n",
    "            P_Xi_M+=P_X_Ti*P_T[topic_no]\n",
    "        likelihood+=np.log10(P_Xi_M)\n",
    "    print(likelihood)\n",
    "    return likelihood\n",
    "likelihoodMetric(lda,lda_pred_data,dictionary,3)"
   ]
  },
  {
   "cell_type": "code",
   "execution_count": 9,
   "id": "fitting-extreme",
   "metadata": {},
   "outputs": [],
   "source": [
    "# def getTopicDistribution(predictions,ntopics):\n",
    "#     topic_count_dict={i:0 for i in range(ntopics)}\n",
    "#     ndocs=len(predictions)\n",
    "#     for pred in predictions:\n",
    "#         top_topic=sorted(pred,key=lambda x:-x[1])[0][0]\n",
    "#         topic_count_dict[top_topic]+=1\n",
    "#     topic_dist_dict={k:v/ndocs for k,v in topic_count_dict.items()}\n",
    "#     print(topic_dist_dict)\n",
    "#     return topic_dist_dict\n",
    "\n",
    "# def likelihoodMetric(predictions,ntopics):\n",
    "#     likelihood=0\n",
    "#     P_T=getTopicDistribution(predictions,ntopics)\n",
    "# #     print(P_T)\n",
    "#     for pred in tqdm(predictions):\n",
    "#         P_Xi_M=0\n",
    "#         for topic_no,P_Xi_T in pred:\n",
    "#             P_Xi_M+=P_Xi_T*P_T[topic_no]\n",
    "#         likelihood+=np.log10(P_Xi_M)\n",
    "#     print(likelihood)\n",
    "#     return likelihood"
   ]
  },
  {
   "cell_type": "code",
   "execution_count": 10,
   "id": "macro-input",
   "metadata": {},
   "outputs": [],
   "source": [
    "from gensim.models.coherencemodel import CoherenceModel\n",
    "\n",
    "def coherenceMetric_cv(model,dictionary,docs):\n",
    "    cm=CoherenceModel(model=model,dictionary=dictionary ,\n",
    "                      texts=docs, coherence='c_v',processes=30,\n",
    "                     window_size=2000)\n",
    "    coherence = cm.get_coherence()\n",
    "    print(coherence)\n",
    "    return coherence\n",
    "# coherenceMetric_cv(lda,dictionary ,docs)"
   ]
  },
  {
   "cell_type": "code",
   "execution_count": 11,
   "id": "rural-indication",
   "metadata": {},
   "outputs": [],
   "source": [
    "from gensim.models.coherencemodel import CoherenceModel\n",
    "\n",
    "def coherenceMetric_umass(model,dictionary,corpus):\n",
    "    cm = CoherenceModel(model=model, corpus=corpus, \\\n",
    "                        coherence='u_mass',processes=30)\n",
    "    coherence = cm.get_coherence()\n",
    "    print(coherence)\n",
    "    return coherence\n",
    "# coherenceMetric_umass(lda,dictionary ,corpus)"
   ]
  },
  {
   "cell_type": "code",
   "execution_count": 12,
   "id": "burning-scenario",
   "metadata": {},
   "outputs": [
    {
     "name": "stdout",
     "output_type": "stream",
     "text": [
      "-12.312024693235893\n"
     ]
    },
    {
     "data": {
      "text/plain": [
       "-12.312024693235893"
      ]
     },
     "execution_count": 12,
     "metadata": {},
     "output_type": "execute_result"
    }
   ],
   "source": [
    "from gensim.models.coherencemodel import CoherenceModel\n",
    "\n",
    "def coherenceMetric_uci(model,dictionary,docs):\n",
    "    cm=CoherenceModel(model=model,dictionary=dictionary ,\n",
    "                      texts=docs, coherence='c_uci',processes=30,\n",
    "                     window_size =2000)\n",
    "    coherence = cm.get_coherence()\n",
    "    print(coherence)\n",
    "    return coherence\n",
    "coherenceMetric_uci(lda,dictionary ,docs)"
   ]
  },
  {
   "cell_type": "code",
   "execution_count": 13,
   "id": "induced-penetration",
   "metadata": {},
   "outputs": [],
   "source": [
    "def perplexityMetric(model,corpus):\n",
    "    perplexity=model.log_perplexity(corpus)\n",
    "    print(perplexity)\n",
    "    return perplexity"
   ]
  },
  {
   "cell_type": "code",
   "execution_count": 14,
   "id": "stretch-satellite",
   "metadata": {},
   "outputs": [],
   "source": [
    "from sklearn.metrics.cluster import adjusted_rand_score\n",
    "\n",
    "def randIndexMetric(predictions,data):\n",
    "    pred_topic=[]\n",
    "    for pred in tqdm(predictions):\n",
    "        topic_prob=sorted(pred,key=lambda x:-x[1])\n",
    "#         print(topic_prob)\n",
    "        top_topic=topic_prob[0][0]\n",
    "        pred_topic.append(top_topic)\n",
    "    _data=data.copy()\n",
    "    _data['pred_topic']=pred_topic\n",
    "    ari=adjusted_rand_score(_data['module'], _data['pred_topic'])\n",
    "    print(ari)\n",
    "    return ari"
   ]
  },
  {
   "cell_type": "code",
   "execution_count": 15,
   "id": "characteristic-retreat",
   "metadata": {
    "scrolled": true
   },
   "outputs": [],
   "source": [
    "from collections import Counter\n",
    "\n",
    "def findTopMotifs(pred_data,ntopics,ntop=5,outdir=None):     \n",
    "    gb=pred_data[['motif_string','pred_topic']].groupby('pred_topic').\\\n",
    "    agg(lambda x: ','.join(x))\n",
    "    gb['top_motif']=gb['motif_string'].\\\n",
    "    apply(lambda x:Counter(x.split(',')).most_common(ntop))\n",
    "    gb.reset_index(inplace=True)\n",
    "    gb=gb[['pred_topic','top_motif']]\n",
    "    if outdir is not None:\n",
    "        gb.to_csv(f'{outdir}/top{ntop}_motifs_topics_{ntopics}.csv',index=False)\n",
    "    print(gb)\n",
    "    return gb\n",
    "# findTopMotifs(lda_pred_data,3)"
   ]
  },
  {
   "cell_type": "markdown",
   "id": "exposed-argument",
   "metadata": {},
   "source": [
    "## Training & Evaluation"
   ]
  },
  {
   "cell_type": "code",
   "execution_count": 16,
   "id": "south-desperate",
   "metadata": {},
   "outputs": [
    {
     "name": "stdout",
     "output_type": "stream",
     "text": [
      "\n",
      "========================================\n",
      "Num of Topics = 2\n"
     ]
    },
    {
     "name": "stderr",
     "output_type": "stream",
     "text": [
      "100%|██████████| 1000/1000 [00:00<00:00, 6826.10it/s]\n",
      "365it [00:00, 3644.30it/s]"
     ]
    },
    {
     "name": "stdout",
     "output_type": "stream",
     "text": [
      "\n",
      "Finding likelihood...\n",
      "{0: 0.52, 1: 0.48}\n"
     ]
    },
    {
     "name": "stderr",
     "output_type": "stream",
     "text": [
      "1000it [00:00, 3129.03it/s]"
     ]
    },
    {
     "name": "stdout",
     "output_type": "stream",
     "text": [
      "-1081.7886364118724\n",
      "\n",
      "Finding coherence_cv...\n"
     ]
    },
    {
     "name": "stderr",
     "output_type": "stream",
     "text": [
      "\n"
     ]
    },
    {
     "name": "stdout",
     "output_type": "stream",
     "text": [
      "0.22050510349084831\n",
      "\n",
      "Finding coherence_umass...\n",
      "-13.724379999203142\n",
      "\n",
      "Finding coherence_uci...\n",
      "-12.312024693235895\n",
      "\n",
      "Finding perplexity...\n",
      "-1.396633046292876\n",
      "\n",
      "Finding Top Motifs...\n",
      "   pred_topic                                          top_motif\n",
      "0           0  [(motif_2, 520), (motif_3, 480), (motif_1, 86)...\n",
      "1           1     [(motif_1, 478), (motif_4, 325), (motif_5, 2)]\n",
      "\n",
      "========================================\n",
      "Num of Topics = 3\n"
     ]
    },
    {
     "name": "stderr",
     "output_type": "stream",
     "text": [
      "100%|██████████| 1000/1000 [00:00<00:00, 5427.35it/s]\n",
      "682it [00:00, 3391.08it/s]"
     ]
    },
    {
     "name": "stdout",
     "output_type": "stream",
     "text": [
      "\n",
      "Finding likelihood...\n",
      "{0: 0.478, 1: 0.522, 2: 0}\n"
     ]
    },
    {
     "name": "stderr",
     "output_type": "stream",
     "text": [
      "\r",
      "1000it [00:00, 3373.29it/s]"
     ]
    },
    {
     "name": "stdout",
     "output_type": "stream",
     "text": [
      "-1068.3325802563206\n",
      "\n",
      "Finding coherence_cv...\n"
     ]
    },
    {
     "name": "stderr",
     "output_type": "stream",
     "text": [
      "\n"
     ]
    },
    {
     "name": "stdout",
     "output_type": "stream",
     "text": [
      "0.2205051034908483\n",
      "\n",
      "Finding coherence_umass...\n",
      "-13.906557615131524\n",
      "\n",
      "Finding coherence_uci...\n",
      "-12.312024693235893\n",
      "\n",
      "Finding perplexity...\n",
      "-1.4665321661578998\n",
      "\n",
      "Finding Top Motifs...\n",
      "   pred_topic                                          top_motif\n",
      "0           0                   [(motif_1, 478), (motif_4, 325)]\n",
      "1           1  [(motif_2, 520), (motif_3, 480), (motif_1, 86)...\n",
      "\n",
      "========================================\n",
      "Num of Topics = 4\n"
     ]
    },
    {
     "name": "stderr",
     "output_type": "stream",
     "text": [
      "100%|██████████| 1000/1000 [00:00<00:00, 3398.55it/s]\n",
      "486it [00:00, 2419.57it/s]"
     ]
    },
    {
     "name": "stdout",
     "output_type": "stream",
     "text": [
      "\n",
      "Finding likelihood...\n",
      "{0: 0.48, 1: 0.195, 2: 0.325, 3: 0}\n"
     ]
    },
    {
     "name": "stderr",
     "output_type": "stream",
     "text": [
      "1000it [00:00, 2424.50it/s]"
     ]
    },
    {
     "name": "stdout",
     "output_type": "stream",
     "text": [
      "-1168.120157469577\n",
      "\n",
      "Finding coherence_cv...\n"
     ]
    },
    {
     "name": "stderr",
     "output_type": "stream",
     "text": [
      "\n"
     ]
    },
    {
     "name": "stdout",
     "output_type": "stream",
     "text": [
      "0.2205051034908483\n",
      "\n",
      "Finding coherence_umass...\n",
      "-13.889621325543992\n",
      "\n",
      "Finding coherence_uci...\n",
      "-12.312024693235895\n",
      "\n",
      "Finding perplexity...\n",
      "-1.633577910592902\n",
      "\n",
      "Finding Top Motifs...\n",
      "   pred_topic                                        top_motif\n",
      "0           0  [(motif_2, 480), (motif_3, 480), (motif_1, 86)]\n",
      "1           1   [(motif_1, 153), (motif_5, 42), (motif_2, 40)]\n",
      "2           2                 [(motif_1, 325), (motif_4, 325)]\n",
      "\n",
      "========================================\n",
      "Num of Topics = 5\n"
     ]
    },
    {
     "name": "stderr",
     "output_type": "stream",
     "text": [
      "100%|██████████| 1000/1000 [00:00<00:00, 4586.24it/s]\n",
      "552it [00:00, 2676.44it/s]"
     ]
    },
    {
     "name": "stdout",
     "output_type": "stream",
     "text": [
      "\n",
      "Finding likelihood...\n",
      "{0: 0, 1: 0.478, 2: 0.074, 3: 0.406, 4: 0.042}\n"
     ]
    },
    {
     "name": "stderr",
     "output_type": "stream",
     "text": [
      "1000it [00:00, 2559.59it/s]"
     ]
    },
    {
     "name": "stdout",
     "output_type": "stream",
     "text": [
      "-1064.7247840617276\n",
      "\n",
      "Finding coherence_cv...\n"
     ]
    },
    {
     "name": "stderr",
     "output_type": "stream",
     "text": [
      "\n"
     ]
    },
    {
     "name": "stdout",
     "output_type": "stream",
     "text": [
      "0.22050510349084834\n",
      "\n",
      "Finding coherence_umass...\n",
      "-13.799190528738105\n",
      "\n",
      "Finding coherence_uci...\n",
      "-12.312024693235895\n",
      "\n",
      "Finding perplexity...\n",
      "-1.619948157192758\n",
      "\n",
      "Finding Top Motifs...\n",
      "   pred_topic                                        top_motif\n",
      "0           1                 [(motif_1, 478), (motif_4, 325)]\n",
      "1           2    [(motif_1, 74), (motif_2, 74), (motif_3, 74)]\n",
      "2           3  [(motif_2, 406), (motif_3, 406), (motif_1, 12)]\n",
      "3           4                   [(motif_5, 42), (motif_2, 40)]\n",
      "\n",
      "========================================\n",
      "Num of Topics = 6\n"
     ]
    },
    {
     "name": "stderr",
     "output_type": "stream",
     "text": [
      "100%|██████████| 1000/1000 [00:00<00:00, 4337.88it/s]\n",
      "241it [00:00, 2407.44it/s]"
     ]
    },
    {
     "name": "stdout",
     "output_type": "stream",
     "text": [
      "\n",
      "Finding likelihood...\n",
      "{0: 0.086, 1: 0, 2: 0.436, 3: 0, 4: 0.438, 5: 0.04}\n"
     ]
    },
    {
     "name": "stderr",
     "output_type": "stream",
     "text": [
      "1000it [00:00, 1791.63it/s]"
     ]
    },
    {
     "name": "stdout",
     "output_type": "stream",
     "text": [
      "-1062.5569480590254\n",
      "\n",
      "Finding coherence_cv...\n"
     ]
    },
    {
     "name": "stderr",
     "output_type": "stream",
     "text": [
      "\n"
     ]
    },
    {
     "name": "stdout",
     "output_type": "stream",
     "text": [
      "0.22050510349084831\n",
      "\n",
      "Finding coherence_umass...\n",
      "-13.98128186149676\n",
      "\n",
      "Finding coherence_uci...\n",
      "-12.312024693235896\n",
      "\n",
      "Finding perplexity...\n",
      "-1.8017196841017067\n",
      "\n",
      "Finding Top Motifs...\n",
      "   pred_topic                                        top_motif\n",
      "0           0    [(motif_1, 86), (motif_2, 86), (motif_3, 86)]\n",
      "1           2  [(motif_2, 434), (motif_3, 394), (motif_5, 42)]\n",
      "2           4                 [(motif_1, 438), (motif_4, 285)]\n",
      "3           5                   [(motif_1, 40), (motif_4, 40)]\n",
      "\n",
      "========================================\n",
      "Num of Topics = 7\n"
     ]
    },
    {
     "name": "stderr",
     "output_type": "stream",
     "text": [
      "100%|██████████| 1000/1000 [00:00<00:00, 2793.48it/s]\n",
      "320it [00:00, 1563.13it/s]"
     ]
    },
    {
     "name": "stdout",
     "output_type": "stream",
     "text": [
      "\n",
      "Finding likelihood...\n",
      "{0: 0.132, 1: 0.001, 2: 0.042, 3: 0.346, 4: 0.007, 5: 0, 6: 0.472}\n"
     ]
    },
    {
     "name": "stderr",
     "output_type": "stream",
     "text": [
      "1000it [00:00, 1609.10it/s]"
     ]
    },
    {
     "name": "stdout",
     "output_type": "stream",
     "text": [
      "-1096.3353722094048\n",
      "\n",
      "Finding coherence_cv...\n"
     ]
    },
    {
     "name": "stderr",
     "output_type": "stream",
     "text": [
      "\n"
     ]
    },
    {
     "name": "stdout",
     "output_type": "stream",
     "text": [
      "0.2205051034908483\n",
      "\n",
      "Finding coherence_umass...\n",
      "-13.852793135717643\n",
      "\n",
      "Finding coherence_uci...\n",
      "-12.312024693235896\n",
      "\n",
      "Finding perplexity...\n",
      "-1.8877449549121106\n",
      "\n",
      "Finding Top Motifs...\n",
      "   pred_topic                                        top_motif\n",
      "0           0                 [(motif_1, 132), (motif_4, 131)]\n",
      "1           1       [(motif_1, 1), (motif_2, 1), (motif_3, 1)]\n",
      "2           2                   [(motif_5, 42), (motif_2, 40)]\n",
      "3           3                 [(motif_1, 346), (motif_4, 194)]\n",
      "4           4       [(motif_2, 7), (motif_3, 7), (motif_1, 1)]\n",
      "5           6  [(motif_2, 472), (motif_3, 472), (motif_1, 84)]\n",
      "\n",
      "========================================\n",
      "Num of Topics = 8\n"
     ]
    },
    {
     "name": "stderr",
     "output_type": "stream",
     "text": [
      "100%|██████████| 1000/1000 [00:00<00:00, 6263.81it/s]\n",
      "425it [00:00, 2128.91it/s]"
     ]
    },
    {
     "name": "stdout",
     "output_type": "stream",
     "text": [
      "\n",
      "Finding likelihood...\n",
      "{0: 0.042, 1: 0, 2: 0, 3: 0, 4: 0, 5: 0.48, 6: 0, 7: 0.478}\n"
     ]
    },
    {
     "name": "stderr",
     "output_type": "stream",
     "text": [
      "1000it [00:00, 2051.50it/s]"
     ]
    },
    {
     "name": "stdout",
     "output_type": "stream",
     "text": [
      "-1034.6766384514988\n",
      "\n",
      "Finding coherence_cv...\n"
     ]
    },
    {
     "name": "stderr",
     "output_type": "stream",
     "text": [
      "\n"
     ]
    },
    {
     "name": "stdout",
     "output_type": "stream",
     "text": [
      "0.22050510349084834\n",
      "\n",
      "Finding coherence_umass...\n",
      "-13.859140301167534\n",
      "\n",
      "Finding coherence_uci...\n",
      "-12.312024693235895\n",
      "\n",
      "Finding perplexity...\n",
      "-1.8336653828925724\n",
      "\n",
      "Finding Top Motifs...\n",
      "   pred_topic                                        top_motif\n",
      "0           0                   [(motif_5, 42), (motif_2, 40)]\n",
      "1           5  [(motif_2, 480), (motif_3, 480), (motif_1, 86)]\n",
      "2           7                 [(motif_1, 478), (motif_4, 325)]\n",
      "\n",
      "========================================\n",
      "Num of Topics = 9\n"
     ]
    },
    {
     "name": "stderr",
     "output_type": "stream",
     "text": [
      "100%|██████████| 1000/1000 [00:00<00:00, 3393.95it/s]\n",
      "149it [00:00, 1483.72it/s]"
     ]
    },
    {
     "name": "stdout",
     "output_type": "stream",
     "text": [
      "\n",
      "Finding likelihood...\n",
      "{0: 0.24, 1: 0, 2: 0, 3: 0, 4: 0.238, 5: 0.074, 6: 0, 7: 0.406, 8: 0.042}\n"
     ]
    },
    {
     "name": "stderr",
     "output_type": "stream",
     "text": [
      "1000it [00:00, 1620.86it/s]"
     ]
    },
    {
     "name": "stdout",
     "output_type": "stream",
     "text": [
      "-1066.661195476034\n",
      "\n",
      "Finding coherence_cv...\n"
     ]
    },
    {
     "name": "stderr",
     "output_type": "stream",
     "text": [
      "\n"
     ]
    },
    {
     "name": "stdout",
     "output_type": "stream",
     "text": [
      "0.22050510349084831\n",
      "\n",
      "Finding coherence_umass...\n",
      "-13.822465014852243\n",
      "\n",
      "Finding coherence_uci...\n",
      "-12.312024693235895\n",
      "\n",
      "Finding perplexity...\n",
      "-1.9764882143584945\n",
      "\n",
      "Finding Top Motifs...\n",
      "   pred_topic                                        top_motif\n",
      "0           0                 [(motif_1, 240), (motif_4, 240)]\n",
      "1           4                  [(motif_1, 238), (motif_4, 85)]\n",
      "2           5    [(motif_1, 74), (motif_2, 74), (motif_3, 74)]\n",
      "3           7  [(motif_2, 406), (motif_3, 406), (motif_1, 12)]\n",
      "4           8                   [(motif_5, 42), (motif_2, 40)]\n"
     ]
    },
    {
     "data": {
      "text/html": [
       "<div>\n",
       "<style scoped>\n",
       "    .dataframe tbody tr th:only-of-type {\n",
       "        vertical-align: middle;\n",
       "    }\n",
       "\n",
       "    .dataframe tbody tr th {\n",
       "        vertical-align: top;\n",
       "    }\n",
       "\n",
       "    .dataframe thead th {\n",
       "        text-align: right;\n",
       "    }\n",
       "</style>\n",
       "<table border=\"1\" class=\"dataframe\">\n",
       "  <thead>\n",
       "    <tr style=\"text-align: right;\">\n",
       "      <th></th>\n",
       "      <th>num_topics</th>\n",
       "      <th>likelihood</th>\n",
       "      <th>coherence_cv</th>\n",
       "      <th>coherence_umass</th>\n",
       "      <th>coherence_uci</th>\n",
       "      <th>perplexity</th>\n",
       "    </tr>\n",
       "  </thead>\n",
       "  <tbody>\n",
       "    <tr>\n",
       "      <th>0</th>\n",
       "      <td>2</td>\n",
       "      <td>-1081.788636</td>\n",
       "      <td>0.220505</td>\n",
       "      <td>-13.724380</td>\n",
       "      <td>-12.312025</td>\n",
       "      <td>-1.396633</td>\n",
       "    </tr>\n",
       "    <tr>\n",
       "      <th>1</th>\n",
       "      <td>3</td>\n",
       "      <td>-1068.332580</td>\n",
       "      <td>0.220505</td>\n",
       "      <td>-13.906558</td>\n",
       "      <td>-12.312025</td>\n",
       "      <td>-1.466532</td>\n",
       "    </tr>\n",
       "    <tr>\n",
       "      <th>2</th>\n",
       "      <td>4</td>\n",
       "      <td>-1168.120157</td>\n",
       "      <td>0.220505</td>\n",
       "      <td>-13.889621</td>\n",
       "      <td>-12.312025</td>\n",
       "      <td>-1.633578</td>\n",
       "    </tr>\n",
       "    <tr>\n",
       "      <th>3</th>\n",
       "      <td>5</td>\n",
       "      <td>-1064.724784</td>\n",
       "      <td>0.220505</td>\n",
       "      <td>-13.799191</td>\n",
       "      <td>-12.312025</td>\n",
       "      <td>-1.619948</td>\n",
       "    </tr>\n",
       "    <tr>\n",
       "      <th>4</th>\n",
       "      <td>6</td>\n",
       "      <td>-1062.556948</td>\n",
       "      <td>0.220505</td>\n",
       "      <td>-13.981282</td>\n",
       "      <td>-12.312025</td>\n",
       "      <td>-1.801720</td>\n",
       "    </tr>\n",
       "    <tr>\n",
       "      <th>5</th>\n",
       "      <td>7</td>\n",
       "      <td>-1096.335372</td>\n",
       "      <td>0.220505</td>\n",
       "      <td>-13.852793</td>\n",
       "      <td>-12.312025</td>\n",
       "      <td>-1.887745</td>\n",
       "    </tr>\n",
       "    <tr>\n",
       "      <th>6</th>\n",
       "      <td>8</td>\n",
       "      <td>-1034.676638</td>\n",
       "      <td>0.220505</td>\n",
       "      <td>-13.859140</td>\n",
       "      <td>-12.312025</td>\n",
       "      <td>-1.833665</td>\n",
       "    </tr>\n",
       "    <tr>\n",
       "      <th>7</th>\n",
       "      <td>9</td>\n",
       "      <td>-1066.661195</td>\n",
       "      <td>0.220505</td>\n",
       "      <td>-13.822465</td>\n",
       "      <td>-12.312025</td>\n",
       "      <td>-1.976488</td>\n",
       "    </tr>\n",
       "  </tbody>\n",
       "</table>\n",
       "</div>"
      ],
      "text/plain": [
       "   num_topics   likelihood  coherence_cv  coherence_umass  coherence_uci  \\\n",
       "0           2 -1081.788636      0.220505       -13.724380     -12.312025   \n",
       "1           3 -1068.332580      0.220505       -13.906558     -12.312025   \n",
       "2           4 -1168.120157      0.220505       -13.889621     -12.312025   \n",
       "3           5 -1064.724784      0.220505       -13.799191     -12.312025   \n",
       "4           6 -1062.556948      0.220505       -13.981282     -12.312025   \n",
       "5           7 -1096.335372      0.220505       -13.852793     -12.312025   \n",
       "6           8 -1034.676638      0.220505       -13.859140     -12.312025   \n",
       "7           9 -1066.661195      0.220505       -13.822465     -12.312025   \n",
       "\n",
       "   perplexity  \n",
       "0   -1.396633  \n",
       "1   -1.466532  \n",
       "2   -1.633578  \n",
       "3   -1.619948  \n",
       "4   -1.801720  \n",
       "5   -1.887745  \n",
       "6   -1.833665  \n",
       "7   -1.976488  "
      ]
     },
     "execution_count": 16,
     "metadata": {},
     "output_type": "execute_result"
    }
   ],
   "source": [
    "\n",
    "from gensim.models import LdaModel,LdaMulticore\n",
    "\n",
    "outdir='model_output'\n",
    "eval_dict={'num_topics':[],'likelihood':[],'coherence_cv':[],\\\n",
    "          'coherence_umass':[],'coherence_uci':[],'perplexity':[]}\n",
    "temp = dictionary[0]\n",
    "id2word = dictionary.id2token\n",
    "for ntopics in range(2,10):\n",
    "    print('\\n'+'='*40)\n",
    "    print('Num of Topics = '+str(ntopics))\n",
    "    model = LdaModel(corpus, id2word=id2word, alpha='auto',chunksize=10000,\n",
    "                   eta='auto',num_topics=ntopics, iterations=1000, passes = 5,\n",
    "                  minimum_probability=0.0)\n",
    "    \n",
    "    predictions=model.get_document_topics(corpus,minimum_probability=0.0)\n",
    "    pred_topic=[]\n",
    "    for pred in tqdm(predictions):\n",
    "        top_topic=sorted(pred,key=lambda x:-x[1])[0][0]\n",
    "        pred_topic.append(top_topic)\n",
    "    pred_data=data.copy()\n",
    "    pred_data['pred_topic']=pred_topic\n",
    "    print('\\nFinding likelihood...')\n",
    "#     likelihood=likelihoodMetric(pred_data,predictions,ntopics)\n",
    "    likelihood=likelihoodMetric(model,pred_data,dictionary,ntopics)\n",
    "    print('\\nFinding coherence_cv...')\n",
    "    coherence_cv=coherenceMetric_cv(model,dictionary,docs)\n",
    "    print('\\nFinding coherence_umass...')\n",
    "    coherence_umass=coherenceMetric_umass(model,dictionary ,corpus)\n",
    "    print('\\nFinding coherence_uci...')\n",
    "    coherence_uci=coherenceMetric_uci(model,dictionary,docs)\n",
    "    print('\\nFinding perplexity...')\n",
    "    perplexity=perplexityMetric(model,corpus)\n",
    "    print('\\nFinding Top Motifs...')\n",
    "    findTopMotifs(pred_data,ntopics,outdir=outdir)\n",
    "#     print('\\nFindng avg. distance from TSS per topic...')\n",
    "#     getAvgTssDist(pred_data,ntopics,outdir=outdir)\n",
    "    eval_dict['num_topics'].append(ntopics)\n",
    "    eval_dict['likelihood'].append(likelihood)\n",
    "    eval_dict['coherence_cv'].append(coherence_cv)\n",
    "    eval_dict['coherence_umass'].append(coherence_umass)\n",
    "    eval_dict['coherence_uci'].append(coherence_uci)\n",
    "    eval_dict['perplexity'].append(perplexity)\n",
    "eval_df=pd.DataFrame(eval_dict)\n",
    "eval_df.to_csv(f'{outdir}/metrics.csv',index=False)\n",
    "eval_df"
   ]
  },
  {
   "cell_type": "code",
   "execution_count": 17,
   "id": "assisted-diesel",
   "metadata": {},
   "outputs": [
    {
     "data": {
      "image/png": "[encoded data removed]",
      "text/plain": [
       "<Figure size 720x360 with 1 Axes>"
      ]
     },
     "metadata": {
      "needs_background": "light"
     },
     "output_type": "display_data"
    }
   ],
   "source": [
    "plt.figure(figsize=(10,5))\n",
    "plt.plot(eval_df['num_topics'],eval_df['likelihood'],marker='o')\n",
    "plt.grid()"
   ]
  },
  {
   "cell_type": "code",
   "execution_count": 18,
   "id": "unlikely-accommodation",
   "metadata": {},
   "outputs": [],
   "source": [
    "# #setup logging for trainging metrics \n",
    "# import logging\n",
    "# logging.basicConfig(filename='test_output/model_callbacks.log', filemode='w',\n",
    "#                     format=\"%(asctime)s:%(levelname)s:%(message)s\",\n",
    "#                     level=logging.NOTSET)\n",
    "\n",
    "# from gensim.models.callbacks import Callback,PerplexityMetric, ConvergenceMetric, CoherenceMetric\n",
    "# perplexity_logger = PerplexityMetric(corpus=corpus, logger='shell')\n",
    "# convergence_logger = ConvergenceMetric(logger='shell')\n",
    "# # coherence_cv_logger = CoherenceMetric(corpus=corpus, coherence = 'c_v', texts = docs)\n",
    "\n",
    "# %%time\n",
    "# from gensim.models import LdaModel,LdaMulticore\n",
    "\n",
    "# #HYPERPARAMETERS\n",
    "# #passes = epochs\n",
    "# temp = dictionary[0]\n",
    "# id2word = dictionary.id2token\n",
    "# lda = LdaModel(corpus, id2word=id2word, alpha='auto',eval_every = 1,\\\n",
    "#                eta='auto',num_topics=3, iterations=5, passes = 10,\n",
    "#               callbacks=[perplexity_logger,convergence_logger])\n",
    "\n",
    "# lda.print_topics()\n",
    "\n",
    "# %%time\n",
    "# from gensim.models import LdaModel,LdaMulticore\n",
    "\n",
    "# id2word = dictionary.id2token\n",
    "# lda = LdaMulticore(corpus, id2word=id2word,eval_every = 1,\\\n",
    "#                eta='auto',num_topics=3, iterations=500, passes = 100)\n",
    "\n",
    "# import pyLDAvis.gensim\n",
    "\n",
    "# pyLDAvis.enable_notebook()\n",
    "# pyLDAvis.gensim.prepare(lda, corpus, dictionary)"
   ]
  }
 ],
 "metadata": {
  "kernelspec": {
   "display_name": "Python 3",
   "language": "python",
   "name": "python3"
  },
  "language_info": {
   "codemirror_mode": {
    "name": "ipython",
    "version": 3
   },
   "file_extension": ".py",
   "mimetype": "text/x-python",
   "name": "python",
   "nbconvert_exporter": "python",
   "pygments_lexer": "ipython3",
   "version": "3.7.2"
  }
 },
 "nbformat": 4,
 "nbformat_minor": 5
}
