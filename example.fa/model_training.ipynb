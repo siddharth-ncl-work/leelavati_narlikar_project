{
 "cells": [
  {
   "cell_type": "markdown",
   "id": "acute-accreditation",
   "metadata": {},
   "source": [
    "# LDA Model Training"
   ]
  },
  {
   "cell_type": "code",
   "execution_count": 26,
   "id": "southeast-hampshire",
   "metadata": {},
   "outputs": [],
   "source": [
    "import numpy as np\n",
    "import pandas as pd\n",
    "import matplotlib.pyplot as plt\n",
    "from tqdm import tqdm"
   ]
  },
  {
   "cell_type": "markdown",
   "id": "departmental-pension",
   "metadata": {},
   "source": [
    "## Data"
   ]
  },
  {
   "cell_type": "code",
   "execution_count": 9,
   "id": "comparative-pointer",
   "metadata": {},
   "outputs": [
    {
     "data": {
      "text/html": [
       "<div>\n",
       "<style scoped>\n",
       "    .dataframe tbody tr th:only-of-type {\n",
       "        vertical-align: middle;\n",
       "    }\n",
       "\n",
       "    .dataframe tbody tr th {\n",
       "        vertical-align: top;\n",
       "    }\n",
       "\n",
       "    .dataframe thead th {\n",
       "        text-align: right;\n",
       "    }\n",
       "</style>\n",
       "<table border=\"1\" class=\"dataframe\">\n",
       "  <thead>\n",
       "    <tr style=\"text-align: right;\">\n",
       "      <th></th>\n",
       "      <th>seq_no.</th>\n",
       "      <th>seq</th>\n",
       "      <th>module</th>\n",
       "      <th>motif_1</th>\n",
       "      <th>motif_2</th>\n",
       "      <th>motif_3</th>\n",
       "      <th>motif_4</th>\n",
       "      <th>motif_5</th>\n",
       "      <th>motif_string</th>\n",
       "      <th>motif_list</th>\n",
       "    </tr>\n",
       "  </thead>\n",
       "  <tbody>\n",
       "    <tr>\n",
       "      <th>0</th>\n",
       "      <td>0</td>\n",
       "      <td>GGAGGAGGAAGAGGCTGGGCCCCTGCTGTGTGGGGGCAAGTTCCCA...</td>\n",
       "      <td>0</td>\n",
       "      <td>0.0</td>\n",
       "      <td>1.0</td>\n",
       "      <td>1.0</td>\n",
       "      <td>0.0</td>\n",
       "      <td>0.0</td>\n",
       "      <td>motif_2,motif_3</td>\n",
       "      <td>[motif_2, motif_3]</td>\n",
       "    </tr>\n",
       "    <tr>\n",
       "      <th>1</th>\n",
       "      <td>1</td>\n",
       "      <td>CAAATACCCTGGGGTGCAATACGACTTATATCTCACGTATTGGAAG...</td>\n",
       "      <td>1</td>\n",
       "      <td>1.0</td>\n",
       "      <td>0.0</td>\n",
       "      <td>0.0</td>\n",
       "      <td>1.0</td>\n",
       "      <td>0.0</td>\n",
       "      <td>motif_1,motif_4</td>\n",
       "      <td>[motif_1, motif_4]</td>\n",
       "    </tr>\n",
       "    <tr>\n",
       "      <th>2</th>\n",
       "      <td>2</td>\n",
       "      <td>AACTAGGACACAGAAGTTGATCTAACGTAAACATCAAGAGCTTCCT...</td>\n",
       "      <td>1</td>\n",
       "      <td>1.0</td>\n",
       "      <td>0.0</td>\n",
       "      <td>0.0</td>\n",
       "      <td>1.0</td>\n",
       "      <td>0.0</td>\n",
       "      <td>motif_1,motif_4</td>\n",
       "      <td>[motif_1, motif_4]</td>\n",
       "    </tr>\n",
       "    <tr>\n",
       "      <th>3</th>\n",
       "      <td>3</td>\n",
       "      <td>CACAGCTGGGCCTGGTTGGTCTTTGTCCAGGGAACAATGGAGCGCC...</td>\n",
       "      <td>1</td>\n",
       "      <td>1.0</td>\n",
       "      <td>0.0</td>\n",
       "      <td>0.0</td>\n",
       "      <td>1.0</td>\n",
       "      <td>0.0</td>\n",
       "      <td>motif_1,motif_4</td>\n",
       "      <td>[motif_1, motif_4]</td>\n",
       "    </tr>\n",
       "    <tr>\n",
       "      <th>4</th>\n",
       "      <td>4</td>\n",
       "      <td>TTGTTTTATTTGTTTGTTGGGGGGCGGCGGGGAGCGACAGGGGAGT...</td>\n",
       "      <td>0</td>\n",
       "      <td>0.0</td>\n",
       "      <td>1.0</td>\n",
       "      <td>1.0</td>\n",
       "      <td>0.0</td>\n",
       "      <td>0.0</td>\n",
       "      <td>motif_2,motif_3</td>\n",
       "      <td>[motif_2, motif_3]</td>\n",
       "    </tr>\n",
       "    <tr>\n",
       "      <th>...</th>\n",
       "      <td>...</td>\n",
       "      <td>...</td>\n",
       "      <td>...</td>\n",
       "      <td>...</td>\n",
       "      <td>...</td>\n",
       "      <td>...</td>\n",
       "      <td>...</td>\n",
       "      <td>...</td>\n",
       "      <td>...</td>\n",
       "      <td>...</td>\n",
       "    </tr>\n",
       "    <tr>\n",
       "      <th>995</th>\n",
       "      <td>995</td>\n",
       "      <td>CTATTATTAAGAAATATACACAATTTTAACTTCAAATATCTCTCAT...</td>\n",
       "      <td>0</td>\n",
       "      <td>0.0</td>\n",
       "      <td>1.0</td>\n",
       "      <td>1.0</td>\n",
       "      <td>0.0</td>\n",
       "      <td>0.0</td>\n",
       "      <td>motif_2,motif_3</td>\n",
       "      <td>[motif_2, motif_3]</td>\n",
       "    </tr>\n",
       "    <tr>\n",
       "      <th>996</th>\n",
       "      <td>996</td>\n",
       "      <td>ATTGATTCTCACTTGCTTGACTCAAGGGAGGGTTTGATTTTGGTCA...</td>\n",
       "      <td>1</td>\n",
       "      <td>1.0</td>\n",
       "      <td>0.0</td>\n",
       "      <td>0.0</td>\n",
       "      <td>1.0</td>\n",
       "      <td>0.0</td>\n",
       "      <td>motif_1,motif_4</td>\n",
       "      <td>[motif_1, motif_4]</td>\n",
       "    </tr>\n",
       "    <tr>\n",
       "      <th>997</th>\n",
       "      <td>997</td>\n",
       "      <td>ATGTGGTTCTACCATATAGTTTATCAATTTTAAACAGGTAAAATAT...</td>\n",
       "      <td>1</td>\n",
       "      <td>1.0</td>\n",
       "      <td>0.0</td>\n",
       "      <td>0.0</td>\n",
       "      <td>1.0</td>\n",
       "      <td>0.0</td>\n",
       "      <td>motif_1,motif_4</td>\n",
       "      <td>[motif_1, motif_4]</td>\n",
       "    </tr>\n",
       "    <tr>\n",
       "      <th>998</th>\n",
       "      <td>998</td>\n",
       "      <td>ATTTTGTTGGTTAGGTGATGGAAGTATGATGCTATTGATATTTCCC...</td>\n",
       "      <td>2</td>\n",
       "      <td>0.0</td>\n",
       "      <td>1.0</td>\n",
       "      <td>0.0</td>\n",
       "      <td>0.0</td>\n",
       "      <td>1.0</td>\n",
       "      <td>motif_2,motif_5</td>\n",
       "      <td>[motif_2, motif_5]</td>\n",
       "    </tr>\n",
       "    <tr>\n",
       "      <th>999</th>\n",
       "      <td>999</td>\n",
       "      <td>AAGGAAAAGTGAGGAAGTATGGCCATTCCTCTGATAGGACACAAGA...</td>\n",
       "      <td>1</td>\n",
       "      <td>1.0</td>\n",
       "      <td>0.0</td>\n",
       "      <td>0.0</td>\n",
       "      <td>1.0</td>\n",
       "      <td>0.0</td>\n",
       "      <td>motif_1,motif_4</td>\n",
       "      <td>[motif_1, motif_4]</td>\n",
       "    </tr>\n",
       "  </tbody>\n",
       "</table>\n",
       "<p>1000 rows × 10 columns</p>\n",
       "</div>"
      ],
      "text/plain": [
       "    seq_no.                                                seq  module  \\\n",
       "0         0  GGAGGAGGAAGAGGCTGGGCCCCTGCTGTGTGGGGGCAAGTTCCCA...       0   \n",
       "1         1  CAAATACCCTGGGGTGCAATACGACTTATATCTCACGTATTGGAAG...       1   \n",
       "2         2  AACTAGGACACAGAAGTTGATCTAACGTAAACATCAAGAGCTTCCT...       1   \n",
       "3         3  CACAGCTGGGCCTGGTTGGTCTTTGTCCAGGGAACAATGGAGCGCC...       1   \n",
       "4         4  TTGTTTTATTTGTTTGTTGGGGGGCGGCGGGGAGCGACAGGGGAGT...       0   \n",
       "..      ...                                                ...     ...   \n",
       "995     995  CTATTATTAAGAAATATACACAATTTTAACTTCAAATATCTCTCAT...       0   \n",
       "996     996  ATTGATTCTCACTTGCTTGACTCAAGGGAGGGTTTGATTTTGGTCA...       1   \n",
       "997     997  ATGTGGTTCTACCATATAGTTTATCAATTTTAAACAGGTAAAATAT...       1   \n",
       "998     998  ATTTTGTTGGTTAGGTGATGGAAGTATGATGCTATTGATATTTCCC...       2   \n",
       "999     999  AAGGAAAAGTGAGGAAGTATGGCCATTCCTCTGATAGGACACAAGA...       1   \n",
       "\n",
       "     motif_1  motif_2  motif_3  motif_4  motif_5     motif_string  \\\n",
       "0        0.0      1.0      1.0      0.0      0.0  motif_2,motif_3   \n",
       "1        1.0      0.0      0.0      1.0      0.0  motif_1,motif_4   \n",
       "2        1.0      0.0      0.0      1.0      0.0  motif_1,motif_4   \n",
       "3        1.0      0.0      0.0      1.0      0.0  motif_1,motif_4   \n",
       "4        0.0      1.0      1.0      0.0      0.0  motif_2,motif_3   \n",
       "..       ...      ...      ...      ...      ...              ...   \n",
       "995      0.0      1.0      1.0      0.0      0.0  motif_2,motif_3   \n",
       "996      1.0      0.0      0.0      1.0      0.0  motif_1,motif_4   \n",
       "997      1.0      0.0      0.0      1.0      0.0  motif_1,motif_4   \n",
       "998      0.0      1.0      0.0      0.0      1.0  motif_2,motif_5   \n",
       "999      1.0      0.0      0.0      1.0      0.0  motif_1,motif_4   \n",
       "\n",
       "             motif_list  \n",
       "0    [motif_2, motif_3]  \n",
       "1    [motif_1, motif_4]  \n",
       "2    [motif_1, motif_4]  \n",
       "3    [motif_1, motif_4]  \n",
       "4    [motif_2, motif_3]  \n",
       "..                  ...  \n",
       "995  [motif_2, motif_3]  \n",
       "996  [motif_1, motif_4]  \n",
       "997  [motif_1, motif_4]  \n",
       "998  [motif_2, motif_5]  \n",
       "999  [motif_1, motif_4]  \n",
       "\n",
       "[1000 rows x 10 columns]"
      ]
     },
     "execution_count": 9,
     "metadata": {},
     "output_type": "execute_result"
    }
   ],
   "source": [
    "data_file_path='DATA.pkl'\n",
    "data=pd.read_pickle(data_file_path)\n",
    "data"
   ]
  },
  {
   "cell_type": "code",
   "execution_count": 10,
   "id": "southern-oracle",
   "metadata": {},
   "outputs": [],
   "source": [
    "# print(data[data['motif_string'].isna()])\n",
    "# data.dropna(subset=['motif_string'],inplace=True)\n",
    "# data['motif_list']=data['motif_string'].apply(lambda x:x.split(','))\n",
    "# data"
   ]
  },
  {
   "cell_type": "code",
   "execution_count": 11,
   "id": "concrete-freeze",
   "metadata": {},
   "outputs": [
    {
     "name": "stdout",
     "output_type": "stream",
     "text": [
      "Motif-Index to Motif-Name Mapping:\n",
      "0 - motif_2\n",
      "1 - motif_3\n",
      "2 - motif_1\n",
      "3 - motif_4\n",
      "4 - motif_5\n"
     ]
    }
   ],
   "source": [
    "from gensim.corpora import Dictionary\n",
    "\n",
    "docs=data['motif_list'].values\n",
    "dictionary=Dictionary(docs)\n",
    "\n",
    "print('Motif-Index to Motif-Name Mapping:')\n",
    "for i,v in dictionary.items():\n",
    "    print(f'{i} - {v}')\n",
    "    if i==10:\n",
    "        break"
   ]
  },
  {
   "cell_type": "code",
   "execution_count": 12,
   "id": "renewable-particular",
   "metadata": {},
   "outputs": [
    {
     "name": "stdout",
     "output_type": "stream",
     "text": [
      "BOW (Sequence-0):\n"
     ]
    },
    {
     "data": {
      "text/plain": [
       "(['motif_2', 'motif_3'], [(0, 1), (1, 1)])"
      ]
     },
     "execution_count": 12,
     "metadata": {},
     "output_type": "execute_result"
    }
   ],
   "source": [
    "corpus = [dictionary.doc2bow(doc) for doc in docs]\n",
    "print('BOW (Sequence-0):')\n",
    "docs[0],corpus[0]"
   ]
  },
  {
   "cell_type": "markdown",
   "id": "heated-sampling",
   "metadata": {},
   "source": [
    "## Training Test"
   ]
  },
  {
   "cell_type": "code",
   "execution_count": 13,
   "id": "possible-residence",
   "metadata": {},
   "outputs": [
    {
     "name": "stderr",
     "output_type": "stream",
     "text": [
      "2021-03-09 16:49:28,986 : INFO : using autotuned alpha, starting with [0.33333334, 0.33333334, 0.33333334]\n",
      "2021-03-09 16:49:28,987 : INFO : using serial LDA version on this node\n",
      "2021-03-09 16:49:29,007 : INFO : running online (multi-pass) LDA training, 3 topics, 5 passes over the supplied corpus of 1000 documents, updating model once every 1000 documents, evaluating perplexity every 1000 documents, iterating 1000x with a convergence threshold of 0.001000\n",
      "2021-03-09 16:49:29,008 : WARNING : too few updates, training might not converge; consider increasing the number of passes or iterations to improve accuracy\n",
      "2021-03-09 16:49:29,011 : DEBUG : bound: at document #0\n",
      "2021-03-09 16:49:29,614 : INFO : -2.604 per-word bound, 6.1 perplexity estimate based on a held-out corpus of 1000 documents with 1976 words\n",
      "2021-03-09 16:49:29,615 : INFO : PROGRESS: pass 0, at document #1000/1000\n",
      "2021-03-09 16:49:29,616 : DEBUG : performing inference on a chunk of 1000 documents\n",
      "2021-03-09 16:49:30,231 : DEBUG : 1000/1000 documents converged within 1000 iterations\n",
      "2021-03-09 16:49:30,245 : INFO : optimized alpha [0.3966543, 0.2739079, 0.44297463]\n",
      "2021-03-09 16:49:30,246 : DEBUG : updating topics\n",
      "2021-03-09 16:49:30,246 : INFO : topic #0 (0.397): 0.540*\"motif_1\" + 0.411*\"motif_4\" + 0.022*\"motif_3\" + 0.021*\"motif_2\" + 0.006*\"motif_5\"\n",
      "2021-03-09 16:49:30,247 : INFO : topic #1 (0.274): 0.389*\"motif_1\" + 0.232*\"motif_3\" + 0.192*\"motif_4\" + 0.163*\"motif_2\" + 0.025*\"motif_5\"\n",
      "2021-03-09 16:49:30,248 : INFO : topic #2 (0.443): 0.431*\"motif_2\" + 0.391*\"motif_3\" + 0.133*\"motif_1\" + 0.032*\"motif_5\" + 0.014*\"motif_4\"\n",
      "2021-03-09 16:49:30,249 : INFO : topic diff=1.273417, rho=1.000000\n",
      "2021-03-09 16:49:30,258 : INFO : Epoch 0: Convergence estimate: 0.0\n",
      "2021-03-09 16:49:30,261 : DEBUG : bound: at document #0\n",
      "2021-03-09 16:49:30,519 : INFO : -1.612 per-word bound, 3.1 perplexity estimate based on a held-out corpus of 1000 documents with 1976 words\n",
      "2021-03-09 16:49:30,519 : INFO : PROGRESS: pass 1, at document #1000/1000\n",
      "2021-03-09 16:49:30,520 : DEBUG : performing inference on a chunk of 1000 documents\n",
      "2021-03-09 16:49:30,673 : DEBUG : 1000/1000 documents converged within 1000 iterations\n",
      "2021-03-09 16:49:30,677 : INFO : optimized alpha [0.42025125, 0.23103826, 0.47186857]\n",
      "2021-03-09 16:49:30,677 : DEBUG : updating topics\n",
      "2021-03-09 16:49:30,678 : INFO : topic #0 (0.420): 0.572*\"motif_1\" + 0.406*\"motif_4\" + 0.010*\"motif_3\" + 0.010*\"motif_2\" + 0.003*\"motif_5\"\n",
      "2021-03-09 16:49:30,679 : INFO : topic #1 (0.231): 0.413*\"motif_1\" + 0.225*\"motif_3\" + 0.177*\"motif_4\" + 0.158*\"motif_2\" + 0.027*\"motif_5\"\n",
      "2021-03-09 16:49:30,679 : INFO : topic #2 (0.472): 0.449*\"motif_2\" + 0.411*\"motif_3\" + 0.099*\"motif_1\" + 0.035*\"motif_5\" + 0.007*\"motif_4\"\n",
      "2021-03-09 16:49:30,681 : INFO : topic diff=0.279587, rho=0.577350\n",
      "2021-03-09 16:49:30,682 : INFO : Epoch 1: Convergence estimate: 0.0\n",
      "2021-03-09 16:49:30,685 : DEBUG : bound: at document #0\n",
      "2021-03-09 16:49:30,903 : INFO : -1.553 per-word bound, 2.9 perplexity estimate based on a held-out corpus of 1000 documents with 1976 words\n",
      "2021-03-09 16:49:30,903 : INFO : PROGRESS: pass 2, at document #1000/1000\n",
      "2021-03-09 16:49:30,904 : DEBUG : performing inference on a chunk of 1000 documents\n",
      "2021-03-09 16:49:31,046 : DEBUG : 1000/1000 documents converged within 1000 iterations\n",
      "2021-03-09 16:49:31,050 : INFO : optimized alpha [0.44208142, 0.20209204, 0.49231815]\n",
      "2021-03-09 16:49:31,051 : DEBUG : updating topics\n",
      "2021-03-09 16:49:31,051 : INFO : topic #0 (0.442): 0.590*\"motif_1\" + 0.397*\"motif_4\" + 0.006*\"motif_3\" + 0.005*\"motif_2\" + 0.002*\"motif_5\"\n",
      "2021-03-09 16:49:31,052 : INFO : topic #1 (0.202): 0.421*\"motif_1\" + 0.221*\"motif_3\" + 0.170*\"motif_4\" + 0.157*\"motif_2\" + 0.031*\"motif_5\"\n",
      "2021-03-09 16:49:31,053 : INFO : topic #2 (0.492): 0.461*\"motif_2\" + 0.424*\"motif_3\" + 0.075*\"motif_1\" + 0.037*\"motif_5\" + 0.004*\"motif_4\"\n",
      "2021-03-09 16:49:31,053 : INFO : topic diff=0.223639, rho=0.500000\n",
      "2021-03-09 16:49:31,055 : INFO : Epoch 2: Convergence estimate: 0.0\n",
      "2021-03-09 16:49:31,059 : DEBUG : bound: at document #0\n",
      "2021-03-09 16:49:31,263 : INFO : -1.517 per-word bound, 2.9 perplexity estimate based on a held-out corpus of 1000 documents with 1976 words\n",
      "2021-03-09 16:49:31,263 : INFO : PROGRESS: pass 3, at document #1000/1000\n",
      "2021-03-09 16:49:31,264 : DEBUG : performing inference on a chunk of 1000 documents\n",
      "2021-03-09 16:49:31,393 : DEBUG : 1000/1000 documents converged within 1000 iterations\n",
      "2021-03-09 16:49:31,397 : INFO : optimized alpha [0.46103016, 0.18136394, 0.5075902]\n",
      "2021-03-09 16:49:31,398 : DEBUG : updating topics\n",
      "2021-03-09 16:49:31,398 : INFO : topic #0 (0.461): 0.602*\"motif_1\" + 0.390*\"motif_4\" + 0.004*\"motif_3\" + 0.003*\"motif_2\" + 0.001*\"motif_5\"\n",
      "2021-03-09 16:49:31,399 : INFO : topic #1 (0.181): 0.421*\"motif_1\" + 0.218*\"motif_3\" + 0.167*\"motif_4\" + 0.157*\"motif_2\" + 0.037*\"motif_5\"\n",
      "2021-03-09 16:49:31,400 : INFO : topic #2 (0.508): 0.469*\"motif_2\" + 0.433*\"motif_3\" + 0.058*\"motif_1\" + 0.038*\"motif_5\" + 0.002*\"motif_4\"\n",
      "2021-03-09 16:49:31,401 : INFO : topic diff=0.193426, rho=0.447214\n",
      "2021-03-09 16:49:31,402 : INFO : Epoch 3: Convergence estimate: 0.0\n",
      "2021-03-09 16:49:31,406 : DEBUG : bound: at document #0\n",
      "2021-03-09 16:49:31,599 : INFO : -1.493 per-word bound, 2.8 perplexity estimate based on a held-out corpus of 1000 documents with 1976 words\n",
      "2021-03-09 16:49:31,600 : INFO : PROGRESS: pass 4, at document #1000/1000\n",
      "2021-03-09 16:49:31,600 : DEBUG : performing inference on a chunk of 1000 documents\n",
      "2021-03-09 16:49:31,728 : DEBUG : 1000/1000 documents converged within 1000 iterations\n",
      "2021-03-09 16:49:31,732 : INFO : optimized alpha [0.4772663, 0.16574262, 0.5194231]\n",
      "2021-03-09 16:49:31,733 : DEBUG : updating topics\n",
      "2021-03-09 16:49:31,734 : INFO : topic #0 (0.477): 0.609*\"motif_1\" + 0.385*\"motif_4\" + 0.002*\"motif_3\" + 0.002*\"motif_2\" + 0.001*\"motif_5\"\n",
      "2021-03-09 16:49:31,735 : INFO : topic #1 (0.166): 0.415*\"motif_1\" + 0.215*\"motif_3\" + 0.166*\"motif_4\" + 0.158*\"motif_2\" + 0.045*\"motif_5\"\n",
      "2021-03-09 16:49:31,736 : INFO : topic #2 (0.519): 0.476*\"motif_2\" + 0.439*\"motif_3\" + 0.046*\"motif_1\" + 0.038*\"motif_5\" + 0.002*\"motif_4\"\n",
      "2021-03-09 16:49:31,736 : INFO : topic diff=0.174079, rho=0.408248\n",
      "2021-03-09 16:49:31,738 : INFO : Epoch 4: Convergence estimate: 0.0\n",
      "100%|██████████| 1000/1000 [00:00<00:00, 6084.33it/s]"
     ]
    },
    {
     "name": "stdout",
     "output_type": "stream",
     "text": [
      "CPU times: user 2.89 s, sys: 43 ms, total: 2.93 s\n",
      "Wall time: 2.95 s\n"
     ]
    },
    {
     "name": "stderr",
     "output_type": "stream",
     "text": [
      "\n"
     ]
    }
   ],
   "source": [
    "%%time\n",
    "import logging\n",
    "from gensim.models.callbacks import Callback,PerplexityMetric, ConvergenceMetric, CoherenceMetric\n",
    "\n",
    "logging.basicConfig(format='%(asctime)s : %(levelname)s : %(message)s', level=logging.DEBUG)\n",
    "convergence_logger = ConvergenceMetric(logger='shell')\n",
    "from gensim.models import LdaModel,LdaMulticore\n",
    "\n",
    "temp = dictionary[0]\n",
    "id2word = dictionary.id2token\n",
    "lda = LdaModel(corpus, id2word=id2word, alpha='auto',chunksize=10000,\n",
    "               eta='auto',num_topics=3, iterations=1000, passes = 5,\n",
    "              minimum_probability=0.0,callbacks=[convergence_logger])\n",
    "\n",
    "lda_predictions=lda.get_document_topics(corpus,minimum_probability=0.0)\n",
    "lda_pred_topic=[]\n",
    "for pred in tqdm(lda_predictions):\n",
    "    top_topic=sorted(pred,key=lambda x:-x[1])[0][0]\n",
    "    lda_pred_topic.append(top_topic)\n",
    "lda_pred_data=data.copy()\n",
    "lda_pred_data['pred_topic']=lda_pred_topic\n",
    "\n",
    "logging.getLogger().setLevel(logging.CRITICAL)"
   ]
  },
  {
   "cell_type": "markdown",
   "id": "falling-google",
   "metadata": {},
   "source": [
    "## Model Evaluation Metrics"
   ]
  },
  {
   "cell_type": "code",
   "execution_count": 14,
   "id": "bottom-equipment",
   "metadata": {},
   "outputs": [
    {
     "data": {
      "text/plain": [
       "[(2, 0.6094305),\n",
       " (3, 0.38511375),\n",
       " (1, 0.0023913234),\n",
       " (0, 0.0022632114),\n",
       " (4, 0.00080125243)]"
      ]
     },
     "execution_count": 14,
     "metadata": {},
     "output_type": "execute_result"
    }
   ],
   "source": [
    "lda.get_topic_terms(0)"
   ]
  },
  {
   "cell_type": "code",
   "execution_count": 28,
   "id": "exceptional-booth",
   "metadata": {},
   "outputs": [
    {
     "name": "stderr",
     "output_type": "stream",
     "text": [
      "194it [00:00, 1934.72it/s]"
     ]
    },
    {
     "name": "stdout",
     "output_type": "stream",
     "text": [
      "{0: 0.478, 1: 0, 2: 0.522}\n"
     ]
    },
    {
     "name": "stderr",
     "output_type": "stream",
     "text": [
      "1000it [00:00, 2402.35it/s]"
     ]
    },
    {
     "name": "stdout",
     "output_type": "stream",
     "text": [
      "-1092.4173899022528\n"
     ]
    },
    {
     "name": "stderr",
     "output_type": "stream",
     "text": [
      "\n"
     ]
    },
    {
     "data": {
      "text/plain": [
       "-1092.4173899022528"
      ]
     },
     "execution_count": 28,
     "metadata": {},
     "output_type": "execute_result"
    }
   ],
   "source": [
    "def getTopicDistribution(pred_data,ntopics):\n",
    "    topic_dist_dict={i:0 for i in range(ntopics)}\n",
    "    value_count=pred_data['pred_topic'].value_counts(normalize=True)\n",
    "    for k,v in value_count.to_dict().items():\n",
    "        topic_dist_dict[k]=v\n",
    "    return topic_dist_dict\n",
    "\n",
    "def likelihoodMetric(model,pred_data,dictionary,ntopics):\n",
    "    likelihood=0\n",
    "    P_T=getTopicDistribution(pred_data,ntopics)\n",
    "    print(P_T)\n",
    "    for idx,row in tqdm(pred_data.iterrows()):\n",
    "        motif_list=dictionary.doc2idx(row['motif_list'])\n",
    "        assigned_topic_no=row['pred_topic']\n",
    "        P_Xi_M=0\n",
    "        for topic_no in range(ntopics):\n",
    "            ttd=model.get_topic_terms(topic_no)\n",
    "#             print(ttd)\n",
    "            filtered_ttd=list(filter(lambda x:x[0] in motif_list,ttd))\n",
    "            P_X_Ti=1\n",
    "            for motif,P_mj_T in filtered_ttd:\n",
    "                P_X_Ti*=P_mj_T\n",
    "            P_Xi_M+=P_X_Ti*P_T[topic_no]\n",
    "        likelihood+=np.log10(P_Xi_M)\n",
    "    print(likelihood)\n",
    "    return likelihood\n",
    "likelihoodMetric(lda,lda_pred_data,dictionary,3)"
   ]
  },
  {
   "cell_type": "code",
   "execution_count": 16,
   "id": "fitting-extreme",
   "metadata": {},
   "outputs": [],
   "source": [
    "# def getTopicDistribution(predictions,ntopics):\n",
    "#     topic_count_dict={i:0 for i in range(ntopics)}\n",
    "#     ndocs=len(predictions)\n",
    "#     for pred in predictions:\n",
    "#         top_topic=sorted(pred,key=lambda x:-x[1])[0][0]\n",
    "#         topic_count_dict[top_topic]+=1\n",
    "#     topic_dist_dict={k:v/ndocs for k,v in topic_count_dict.items()}\n",
    "#     print(topic_dist_dict)\n",
    "#     return topic_dist_dict\n",
    "\n",
    "# def likelihoodMetric(predictions,ntopics):\n",
    "#     likelihood=0\n",
    "#     P_T=getTopicDistribution(predictions,ntopics)\n",
    "# #     print(P_T)\n",
    "#     for pred in tqdm(predictions):\n",
    "#         P_Xi_M=0\n",
    "#         for topic_no,P_Xi_T in pred:\n",
    "#             P_Xi_M+=P_Xi_T*P_T[topic_no]\n",
    "#         likelihood+=np.log10(P_Xi_M)\n",
    "#     print(likelihood)\n",
    "#     return likelihood"
   ]
  },
  {
   "cell_type": "code",
   "execution_count": 17,
   "id": "macro-input",
   "metadata": {},
   "outputs": [],
   "source": [
    "from gensim.models.coherencemodel import CoherenceModel\n",
    "\n",
    "def coherenceMetric_cv(model,dictionary,docs):\n",
    "    cm=CoherenceModel(model=model,dictionary=dictionary ,\n",
    "                      texts=docs, coherence='c_v',processes=30,\n",
    "                     window_size=2000)\n",
    "    coherence = cm.get_coherence()\n",
    "    print(coherence)\n",
    "    return coherence\n",
    "# coherenceMetric_cv(lda,dictionary ,docs)"
   ]
  },
  {
   "cell_type": "code",
   "execution_count": 18,
   "id": "rural-indication",
   "metadata": {},
   "outputs": [],
   "source": [
    "from gensim.models.coherencemodel import CoherenceModel\n",
    "\n",
    "def coherenceMetric_umass(model,dictionary,corpus):\n",
    "    cm = CoherenceModel(model=model, corpus=corpus, \\\n",
    "                        coherence='u_mass',processes=30)\n",
    "    coherence = cm.get_coherence()\n",
    "    print(coherence)\n",
    "    return coherence\n",
    "# coherenceMetric_umass(lda,dictionary ,corpus)"
   ]
  },
  {
   "cell_type": "code",
   "execution_count": 19,
   "id": "burning-scenario",
   "metadata": {},
   "outputs": [
    {
     "name": "stdout",
     "output_type": "stream",
     "text": [
      "-12.292968805048053\n"
     ]
    },
    {
     "data": {
      "text/plain": [
       "-12.292968805048053"
      ]
     },
     "execution_count": 19,
     "metadata": {},
     "output_type": "execute_result"
    }
   ],
   "source": [
    "from gensim.models.coherencemodel import CoherenceModel\n",
    "\n",
    "def coherenceMetric_uci(model,dictionary,docs):\n",
    "    cm=CoherenceModel(model=model,dictionary=dictionary ,\n",
    "                      texts=docs, coherence='c_uci',processes=30,\n",
    "                     window_size =2000)\n",
    "    coherence = cm.get_coherence()\n",
    "    print(coherence)\n",
    "    return coherence\n",
    "coherenceMetric_uci(lda,dictionary ,docs)"
   ]
  },
  {
   "cell_type": "code",
   "execution_count": 20,
   "id": "induced-penetration",
   "metadata": {},
   "outputs": [],
   "source": [
    "def perplexityMetric(model,corpus):\n",
    "    perplexity=model.log_perplexity(corpus)\n",
    "    print(perplexity)\n",
    "    return perplexity"
   ]
  },
  {
   "cell_type": "code",
   "execution_count": 21,
   "id": "stretch-satellite",
   "metadata": {},
   "outputs": [],
   "source": [
    "from sklearn.metrics.cluster import adjusted_rand_score\n",
    "\n",
    "def randIndexMetric(predictions,data):\n",
    "    pred_topic=[]\n",
    "    for pred in tqdm(predictions):\n",
    "        topic_prob=sorted(pred,key=lambda x:-x[1])\n",
    "#         print(topic_prob)\n",
    "        top_topic=topic_prob[0][0]\n",
    "        pred_topic.append(top_topic)\n",
    "    _data=data.copy()\n",
    "    _data['pred_topic']=pred_topic\n",
    "    ari=adjusted_rand_score(_data['module'], _data['pred_topic'])\n",
    "    print(ari)\n",
    "    return ari"
   ]
  },
  {
   "cell_type": "code",
   "execution_count": 22,
   "id": "characteristic-retreat",
   "metadata": {
    "scrolled": true
   },
   "outputs": [],
   "source": [
    "from collections import Counter\n",
    "\n",
    "def findTopMotifs(pred_data,ntopics,ntop=5,outdir=None):     \n",
    "    gb=pred_data[['motif_string','pred_topic']].groupby('pred_topic').\\\n",
    "    agg(lambda x: ','.join(x))\n",
    "    gb['top_motif']=gb['motif_string'].\\\n",
    "    apply(lambda x:Counter(x.split(',')).most_common(ntop))\n",
    "    gb.reset_index(inplace=True)\n",
    "    gb=gb[['pred_topic','top_motif']]\n",
    "    if outdir is not None:\n",
    "        gb.to_csv(f'{outdir}/top{ntop}_motifs_topics_{ntopics}.csv',index=False)\n",
    "    print(gb)\n",
    "    return gb\n",
    "# findTopMotifs(lda_pred_data,3)"
   ]
  },
  {
   "cell_type": "markdown",
   "id": "exposed-argument",
   "metadata": {},
   "source": [
    "## Training & Evaluation"
   ]
  },
  {
   "cell_type": "code",
   "execution_count": 23,
   "id": "south-desperate",
   "metadata": {},
   "outputs": [
    {
     "name": "stdout",
     "output_type": "stream",
     "text": [
      "\n",
      "========================================\n",
      "Num of Topics = 2\n"
     ]
    },
    {
     "name": "stderr",
     "output_type": "stream",
     "text": [
      "100%|██████████| 1000/1000 [00:00<00:00, 5116.47it/s]\n",
      "267it [00:00, 2668.13it/s]"
     ]
    },
    {
     "name": "stdout",
     "output_type": "stream",
     "text": [
      "\n",
      "Finding likelihood...\n",
      "{0: 0.481, 1: 0.519}\n"
     ]
    },
    {
     "name": "stderr",
     "output_type": "stream",
     "text": [
      "1000it [00:00, 2647.68it/s]"
     ]
    },
    {
     "name": "stdout",
     "output_type": "stream",
     "text": [
      "-1115.2293026321174\n",
      "\n",
      "Finding coherence_cv...\n"
     ]
    },
    {
     "name": "stderr",
     "output_type": "stream",
     "text": [
      "\n"
     ]
    },
    {
     "name": "stdout",
     "output_type": "stream",
     "text": [
      "0.22450482415521444\n",
      "\n",
      "Finding coherence_umass...\n",
      "-13.792294337173225\n",
      "\n",
      "Finding coherence_uci...\n",
      "-12.292968805048053\n",
      "\n",
      "Finding perplexity...\n",
      "-1.4222376219143993\n",
      "\n",
      "Finding Top Motifs...\n",
      "   pred_topic                                          top_motif\n",
      "0           0     [(motif_1, 478), (motif_4, 343), (motif_5, 3)]\n",
      "1           1  [(motif_2, 519), (motif_3, 480), (motif_1, 114...\n",
      "\n",
      "========================================\n",
      "Num of Topics = 3\n"
     ]
    },
    {
     "name": "stderr",
     "output_type": "stream",
     "text": [
      "100%|██████████| 1000/1000 [00:00<00:00, 3427.22it/s]\n",
      "230it [00:00, 2290.39it/s]"
     ]
    },
    {
     "name": "stdout",
     "output_type": "stream",
     "text": [
      "\n",
      "Finding likelihood...\n",
      "{0: 0.522, 1: 0.135, 2: 0.343}\n"
     ]
    },
    {
     "name": "stderr",
     "output_type": "stream",
     "text": [
      "1000it [00:00, 2513.55it/s]"
     ]
    },
    {
     "name": "stdout",
     "output_type": "stream",
     "text": [
      "-1187.0911612814077\n",
      "\n",
      "Finding coherence_cv...\n"
     ]
    },
    {
     "name": "stderr",
     "output_type": "stream",
     "text": [
      "\n"
     ]
    },
    {
     "name": "stdout",
     "output_type": "stream",
     "text": [
      "0.22450482415521444\n",
      "\n",
      "Finding coherence_umass...\n",
      "-13.894599967488512\n",
      "\n",
      "Finding coherence_uci...\n",
      "-12.292968805048053\n",
      "\n",
      "Finding perplexity...\n",
      "-1.532063183031584\n",
      "\n",
      "Finding Top Motifs...\n",
      "   pred_topic                                          top_motif\n",
      "0           0  [(motif_2, 519), (motif_3, 480), (motif_1, 114...\n",
      "1           1                                   [(motif_1, 135)]\n",
      "2           2                   [(motif_1, 343), (motif_4, 343)]\n",
      "\n",
      "========================================\n",
      "Num of Topics = 4\n"
     ]
    },
    {
     "name": "stderr",
     "output_type": "stream",
     "text": [
      "100%|██████████| 1000/1000 [00:00<00:00, 3798.32it/s]\n",
      "428it [00:00, 1978.74it/s]"
     ]
    },
    {
     "name": "stdout",
     "output_type": "stream",
     "text": [
      "\n",
      "Finding likelihood...\n",
      "{0: 0.478, 1: 0.48, 2: 0, 3: 0.042}\n"
     ]
    },
    {
     "name": "stderr",
     "output_type": "stream",
     "text": [
      "1000it [00:00, 1934.37it/s]\n"
     ]
    },
    {
     "name": "stdout",
     "output_type": "stream",
     "text": [
      "-1186.3800143385113\n",
      "\n",
      "Finding coherence_cv...\n",
      "0.2245048241552145\n",
      "\n",
      "Finding coherence_umass...\n",
      "-13.813003008973224\n",
      "\n",
      "Finding coherence_uci...\n",
      "-12.292968805048053\n",
      "\n",
      "Finding perplexity...\n",
      "-1.5200592862641975\n",
      "\n",
      "Finding Top Motifs...\n",
      "   pred_topic                                         top_motif\n",
      "0           0                  [(motif_1, 478), (motif_4, 343)]\n",
      "1           1  [(motif_2, 480), (motif_3, 480), (motif_1, 114)]\n",
      "2           3                    [(motif_5, 42), (motif_2, 39)]\n",
      "\n",
      "========================================\n",
      "Num of Topics = 5\n"
     ]
    },
    {
     "name": "stderr",
     "output_type": "stream",
     "text": [
      "100%|██████████| 1000/1000 [00:00<00:00, 4442.81it/s]\n",
      "524it [00:00, 2562.32it/s]"
     ]
    },
    {
     "name": "stdout",
     "output_type": "stream",
     "text": [
      "\n",
      "Finding likelihood...\n",
      "{0: 0.112, 1: 0.042, 2: 0.001, 3: 0.367, 4: 0.478}\n"
     ]
    },
    {
     "name": "stderr",
     "output_type": "stream",
     "text": [
      "1000it [00:00, 2298.78it/s]"
     ]
    },
    {
     "name": "stdout",
     "output_type": "stream",
     "text": [
      "-1107.6002348155819\n",
      "\n",
      "Finding coherence_cv...\n"
     ]
    },
    {
     "name": "stderr",
     "output_type": "stream",
     "text": [
      "\n"
     ]
    },
    {
     "name": "stdout",
     "output_type": "stream",
     "text": [
      "0.22450482415521447\n",
      "\n",
      "Finding coherence_umass...\n",
      "-13.776889051478008\n",
      "\n",
      "Finding coherence_uci...\n",
      "-12.292968805048053\n",
      "\n",
      "Finding perplexity...\n",
      "-1.6768657571451384\n",
      "\n",
      "Finding Top Motifs...\n",
      "   pred_topic                                         top_motif\n",
      "0           0  [(motif_1, 112), (motif_2, 112), (motif_3, 112)]\n",
      "1           1                    [(motif_5, 42), (motif_2, 39)]\n",
      "2           2                      [(motif_2, 1), (motif_3, 1)]\n",
      "3           3    [(motif_2, 367), (motif_3, 367), (motif_1, 2)]\n",
      "4           4                  [(motif_1, 478), (motif_4, 343)]\n",
      "\n",
      "========================================\n",
      "Num of Topics = 6\n"
     ]
    },
    {
     "name": "stderr",
     "output_type": "stream",
     "text": [
      "100%|██████████| 1000/1000 [00:00<00:00, 2686.23it/s]\n",
      "300it [00:00, 1489.91it/s]"
     ]
    },
    {
     "name": "stdout",
     "output_type": "stream",
     "text": [
      "\n",
      "Finding likelihood...\n",
      "{0: 0.343, 1: 0, 2: 0.042, 3: 0.434, 4: 0.135, 5: 0.046}\n"
     ]
    },
    {
     "name": "stderr",
     "output_type": "stream",
     "text": [
      "1000it [00:00, 1526.62it/s]"
     ]
    },
    {
     "name": "stdout",
     "output_type": "stream",
     "text": [
      "-1173.969833803714\n",
      "\n",
      "Finding coherence_cv...\n"
     ]
    },
    {
     "name": "stderr",
     "output_type": "stream",
     "text": [
      "\n"
     ]
    },
    {
     "name": "stdout",
     "output_type": "stream",
     "text": [
      "0.22450482415521447\n",
      "\n",
      "Finding coherence_umass...\n",
      "-13.81250466842699\n",
      "\n",
      "Finding coherence_uci...\n",
      "-12.292968805048053\n",
      "\n",
      "Finding perplexity...\n",
      "-1.8287697968672705\n",
      "\n",
      "Finding Top Motifs...\n",
      "   pred_topic                                         top_motif\n",
      "0           0                  [(motif_1, 343), (motif_4, 343)]\n",
      "1           2                    [(motif_5, 42), (motif_2, 39)]\n",
      "2           3  [(motif_2, 434), (motif_3, 434), (motif_1, 107)]\n",
      "3           4                                  [(motif_1, 135)]\n",
      "4           5      [(motif_2, 46), (motif_3, 46), (motif_1, 7)]\n",
      "\n",
      "========================================\n",
      "Num of Topics = 7\n"
     ]
    },
    {
     "name": "stderr",
     "output_type": "stream",
     "text": [
      "100%|██████████| 1000/1000 [00:00<00:00, 2993.86it/s]\n",
      "382it [00:00, 1908.88it/s]"
     ]
    },
    {
     "name": "stdout",
     "output_type": "stream",
     "text": [
      "\n",
      "Finding likelihood...\n",
      "{0: 0.186, 1: 0.042, 2: 0.23, 3: 0.342, 4: 0.001, 5: 0.064, 6: 0.135}\n"
     ]
    },
    {
     "name": "stderr",
     "output_type": "stream",
     "text": [
      "1000it [00:00, 1630.77it/s]"
     ]
    },
    {
     "name": "stdout",
     "output_type": "stream",
     "text": [
      "-1135.7891378358813\n",
      "\n",
      "Finding coherence_cv...\n"
     ]
    },
    {
     "name": "stderr",
     "output_type": "stream",
     "text": [
      "\n"
     ]
    },
    {
     "name": "stdout",
     "output_type": "stream",
     "text": [
      "0.22450482415521447\n",
      "\n",
      "Finding coherence_umass...\n",
      "-13.72232954018428\n",
      "\n",
      "Finding coherence_uci...\n",
      "-12.292968805048051\n",
      "\n",
      "Finding perplexity...\n",
      "-1.9121518351273377\n",
      "\n",
      "Finding Top Motifs...\n",
      "   pred_topic                                        top_motif\n",
      "0           0  [(motif_2, 186), (motif_3, 186), (motif_1, 10)]\n",
      "1           1                   [(motif_5, 42), (motif_2, 39)]\n",
      "2           2  [(motif_2, 230), (motif_3, 230), (motif_1, 40)]\n",
      "3           3                 [(motif_1, 342), (motif_4, 342)]\n",
      "4           4                     [(motif_1, 1), (motif_4, 1)]\n",
      "5           5    [(motif_1, 64), (motif_2, 64), (motif_3, 64)]\n",
      "6           6                                 [(motif_1, 135)]\n",
      "\n",
      "========================================\n",
      "Num of Topics = 8\n"
     ]
    },
    {
     "name": "stderr",
     "output_type": "stream",
     "text": [
      "100%|██████████| 1000/1000 [00:00<00:00, 4864.41it/s]\n",
      "400it [00:00, 1829.84it/s]"
     ]
    },
    {
     "name": "stdout",
     "output_type": "stream",
     "text": [
      "\n",
      "Finding likelihood...\n",
      "{0: 0, 1: 0.478, 2: 0.366, 3: 0, 4: 0, 5: 0.114, 6: 0, 7: 0.042}\n"
     ]
    },
    {
     "name": "stderr",
     "output_type": "stream",
     "text": [
      "1000it [00:00, 1832.16it/s]"
     ]
    },
    {
     "name": "stdout",
     "output_type": "stream",
     "text": [
      "-1095.2703647158364\n",
      "\n",
      "Finding coherence_cv...\n"
     ]
    },
    {
     "name": "stderr",
     "output_type": "stream",
     "text": [
      "\n"
     ]
    },
    {
     "name": "stdout",
     "output_type": "stream",
     "text": [
      "0.22450482415521444\n",
      "\n",
      "Finding coherence_umass...\n",
      "-13.865865181765843\n",
      "\n",
      "Finding coherence_uci...\n",
      "-12.292968805048053\n",
      "\n",
      "Finding perplexity...\n",
      "-1.8431932463080656\n",
      "\n",
      "Finding Top Motifs...\n",
      "   pred_topic                                         top_motif\n",
      "0           1                  [(motif_1, 478), (motif_4, 343)]\n",
      "1           2                  [(motif_2, 366), (motif_3, 366)]\n",
      "2           5  [(motif_1, 114), (motif_2, 114), (motif_3, 114)]\n",
      "3           7                    [(motif_5, 42), (motif_2, 39)]\n",
      "\n",
      "========================================\n",
      "Num of Topics = 9\n"
     ]
    },
    {
     "name": "stderr",
     "output_type": "stream",
     "text": [
      "100%|██████████| 1000/1000 [00:00<00:00, 4552.96it/s]\n",
      "390it [00:00, 1894.40it/s]"
     ]
    },
    {
     "name": "stdout",
     "output_type": "stream",
     "text": [
      "\n",
      "Finding likelihood...\n",
      "{0: 0.044, 1: 0.049, 2: 0, 3: 0.387, 4: 0.135, 5: 0.042, 6: 0.11, 7: 0.233, 8: 0}\n"
     ]
    },
    {
     "name": "stderr",
     "output_type": "stream",
     "text": [
      "1000it [00:00, 1753.25it/s]"
     ]
    },
    {
     "name": "stdout",
     "output_type": "stream",
     "text": [
      "-1143.98340634628\n",
      "\n",
      "Finding coherence_cv...\n"
     ]
    },
    {
     "name": "stderr",
     "output_type": "stream",
     "text": [
      "\n"
     ]
    },
    {
     "name": "stdout",
     "output_type": "stream",
     "text": [
      "0.22450482415521444\n",
      "\n",
      "Finding coherence_umass...\n",
      "-13.851133946774283\n",
      "\n",
      "Finding coherence_uci...\n",
      "-12.292968805048053\n",
      "\n",
      "Finding perplexity...\n",
      "-2.007941265518849\n",
      "\n",
      "Finding Top Motifs...\n",
      "   pred_topic                                        top_motif\n",
      "0           0    [(motif_1, 44), (motif_2, 44), (motif_3, 44)]\n",
      "1           1    [(motif_1, 49), (motif_2, 49), (motif_3, 49)]\n",
      "2           3  [(motif_2, 387), (motif_3, 387), (motif_1, 21)]\n",
      "3           4                                 [(motif_1, 135)]\n",
      "4           5                   [(motif_5, 42), (motif_2, 39)]\n",
      "5           6                 [(motif_1, 110), (motif_4, 110)]\n",
      "6           7                 [(motif_1, 233), (motif_4, 233)]\n"
     ]
    },
    {
     "data": {
      "text/html": [
       "<div>\n",
       "<style scoped>\n",
       "    .dataframe tbody tr th:only-of-type {\n",
       "        vertical-align: middle;\n",
       "    }\n",
       "\n",
       "    .dataframe tbody tr th {\n",
       "        vertical-align: top;\n",
       "    }\n",
       "\n",
       "    .dataframe thead th {\n",
       "        text-align: right;\n",
       "    }\n",
       "</style>\n",
       "<table border=\"1\" class=\"dataframe\">\n",
       "  <thead>\n",
       "    <tr style=\"text-align: right;\">\n",
       "      <th></th>\n",
       "      <th>num_topics</th>\n",
       "      <th>likelihood</th>\n",
       "      <th>coherence_cv</th>\n",
       "      <th>coherence_umass</th>\n",
       "      <th>coherence_uci</th>\n",
       "      <th>perplexity</th>\n",
       "    </tr>\n",
       "  </thead>\n",
       "  <tbody>\n",
       "    <tr>\n",
       "      <th>0</th>\n",
       "      <td>2</td>\n",
       "      <td>-1115.229303</td>\n",
       "      <td>0.224505</td>\n",
       "      <td>-13.792294</td>\n",
       "      <td>-12.292969</td>\n",
       "      <td>-1.422238</td>\n",
       "    </tr>\n",
       "    <tr>\n",
       "      <th>1</th>\n",
       "      <td>3</td>\n",
       "      <td>-1187.091161</td>\n",
       "      <td>0.224505</td>\n",
       "      <td>-13.894600</td>\n",
       "      <td>-12.292969</td>\n",
       "      <td>-1.532063</td>\n",
       "    </tr>\n",
       "    <tr>\n",
       "      <th>2</th>\n",
       "      <td>4</td>\n",
       "      <td>-1186.380014</td>\n",
       "      <td>0.224505</td>\n",
       "      <td>-13.813003</td>\n",
       "      <td>-12.292969</td>\n",
       "      <td>-1.520059</td>\n",
       "    </tr>\n",
       "    <tr>\n",
       "      <th>3</th>\n",
       "      <td>5</td>\n",
       "      <td>-1107.600235</td>\n",
       "      <td>0.224505</td>\n",
       "      <td>-13.776889</td>\n",
       "      <td>-12.292969</td>\n",
       "      <td>-1.676866</td>\n",
       "    </tr>\n",
       "    <tr>\n",
       "      <th>4</th>\n",
       "      <td>6</td>\n",
       "      <td>-1173.969834</td>\n",
       "      <td>0.224505</td>\n",
       "      <td>-13.812505</td>\n",
       "      <td>-12.292969</td>\n",
       "      <td>-1.828770</td>\n",
       "    </tr>\n",
       "    <tr>\n",
       "      <th>5</th>\n",
       "      <td>7</td>\n",
       "      <td>-1135.789138</td>\n",
       "      <td>0.224505</td>\n",
       "      <td>-13.722330</td>\n",
       "      <td>-12.292969</td>\n",
       "      <td>-1.912152</td>\n",
       "    </tr>\n",
       "    <tr>\n",
       "      <th>6</th>\n",
       "      <td>8</td>\n",
       "      <td>-1095.270365</td>\n",
       "      <td>0.224505</td>\n",
       "      <td>-13.865865</td>\n",
       "      <td>-12.292969</td>\n",
       "      <td>-1.843193</td>\n",
       "    </tr>\n",
       "    <tr>\n",
       "      <th>7</th>\n",
       "      <td>9</td>\n",
       "      <td>-1143.983406</td>\n",
       "      <td>0.224505</td>\n",
       "      <td>-13.851134</td>\n",
       "      <td>-12.292969</td>\n",
       "      <td>-2.007941</td>\n",
       "    </tr>\n",
       "  </tbody>\n",
       "</table>\n",
       "</div>"
      ],
      "text/plain": [
       "   num_topics   likelihood  coherence_cv  coherence_umass  coherence_uci  \\\n",
       "0           2 -1115.229303      0.224505       -13.792294     -12.292969   \n",
       "1           3 -1187.091161      0.224505       -13.894600     -12.292969   \n",
       "2           4 -1186.380014      0.224505       -13.813003     -12.292969   \n",
       "3           5 -1107.600235      0.224505       -13.776889     -12.292969   \n",
       "4           6 -1173.969834      0.224505       -13.812505     -12.292969   \n",
       "5           7 -1135.789138      0.224505       -13.722330     -12.292969   \n",
       "6           8 -1095.270365      0.224505       -13.865865     -12.292969   \n",
       "7           9 -1143.983406      0.224505       -13.851134     -12.292969   \n",
       "\n",
       "   perplexity  \n",
       "0   -1.422238  \n",
       "1   -1.532063  \n",
       "2   -1.520059  \n",
       "3   -1.676866  \n",
       "4   -1.828770  \n",
       "5   -1.912152  \n",
       "6   -1.843193  \n",
       "7   -2.007941  "
      ]
     },
     "execution_count": 23,
     "metadata": {},
     "output_type": "execute_result"
    }
   ],
   "source": [
    "\n",
    "from gensim.models import LdaModel,LdaMulticore\n",
    "\n",
    "outdir='model_output'\n",
    "eval_dict={'num_topics':[],'likelihood':[],'coherence_cv':[],\\\n",
    "          'coherence_umass':[],'coherence_uci':[],'perplexity':[]}\n",
    "temp = dictionary[0]\n",
    "id2word = dictionary.id2token\n",
    "for ntopics in range(2,10):\n",
    "    print('\\n'+'='*40)\n",
    "    print('Num of Topics = '+str(ntopics))\n",
    "    model = LdaModel(corpus, id2word=id2word, alpha='auto',chunksize=10000,\n",
    "                   eta='auto',num_topics=ntopics, iterations=1000, passes = 5,\n",
    "                  minimum_probability=0.0)\n",
    "    \n",
    "    predictions=model.get_document_topics(corpus,minimum_probability=0.0)\n",
    "    pred_topic=[]\n",
    "    for pred in tqdm(predictions):\n",
    "        top_topic=sorted(pred,key=lambda x:-x[1])[0][0]\n",
    "        pred_topic.append(top_topic)\n",
    "    pred_data=data.copy()\n",
    "    pred_data['pred_topic']=pred_topic\n",
    "    print('\\nFinding likelihood...')\n",
    "#     likelihood=likelihoodMetric(pred_data,predictions,ntopics)\n",
    "    likelihood=likelihoodMetric(model,pred_data,dictionary,ntopics)\n",
    "    print('\\nFinding coherence_cv...')\n",
    "    coherence_cv=coherenceMetric_cv(model,dictionary,docs)\n",
    "    print('\\nFinding coherence_umass...')\n",
    "    coherence_umass=coherenceMetric_umass(model,dictionary ,corpus)\n",
    "    print('\\nFinding coherence_uci...')\n",
    "    coherence_uci=coherenceMetric_uci(model,dictionary,docs)\n",
    "    print('\\nFinding perplexity...')\n",
    "    perplexity=perplexityMetric(model,corpus)\n",
    "    print('\\nFinding Top Motifs...')\n",
    "    findTopMotifs(pred_data,ntopics,outdir=outdir)\n",
    "#     print('\\nFindng avg. distance from TSS per topic...')\n",
    "#     getAvgTssDist(pred_data,ntopics,outdir=outdir)\n",
    "    eval_dict['num_topics'].append(ntopics)\n",
    "    eval_dict['likelihood'].append(likelihood)\n",
    "    eval_dict['coherence_cv'].append(coherence_cv)\n",
    "    eval_dict['coherence_umass'].append(coherence_umass)\n",
    "    eval_dict['coherence_uci'].append(coherence_uci)\n",
    "    eval_dict['perplexity'].append(perplexity)\n",
    "eval_df=pd.DataFrame(eval_dict)\n",
    "eval_df.to_csv(f'{outdir}/metrics.csv',index=False)\n",
    "eval_df"
   ]
  },
  {
   "cell_type": "code",
   "execution_count": 24,
   "id": "assisted-diesel",
   "metadata": {},
   "outputs": [
    {
     "data": {
      "image/png": "[encoded data removed]",
      "text/plain": [
       "<Figure size 720x360 with 1 Axes>"
      ]
     },
     "metadata": {
      "needs_background": "light"
     },
     "output_type": "display_data"
    }
   ],
   "source": [
    "plt.figure(figsize=(10,5))\n",
    "plt.plot(eval_df['num_topics'],eval_df['likelihood'],marker='o')\n",
    "plt.grid()"
   ]
  },
  {
   "cell_type": "code",
   "execution_count": 25,
   "id": "unlikely-accommodation",
   "metadata": {},
   "outputs": [],
   "source": [
    "# #setup logging for trainging metrics \n",
    "# import logging\n",
    "# logging.basicConfig(filename='test_output/model_callbacks.log', filemode='w',\n",
    "#                     format=\"%(asctime)s:%(levelname)s:%(message)s\",\n",
    "#                     level=logging.NOTSET)\n",
    "\n",
    "# from gensim.models.callbacks import Callback,PerplexityMetric, ConvergenceMetric, CoherenceMetric\n",
    "# perplexity_logger = PerplexityMetric(corpus=corpus, logger='shell')\n",
    "# convergence_logger = ConvergenceMetric(logger='shell')\n",
    "# # coherence_cv_logger = CoherenceMetric(corpus=corpus, coherence = 'c_v', texts = docs)\n",
    "\n",
    "# %%time\n",
    "# from gensim.models import LdaModel,LdaMulticore\n",
    "\n",
    "# #HYPERPARAMETERS\n",
    "# #passes = epochs\n",
    "# temp = dictionary[0]\n",
    "# id2word = dictionary.id2token\n",
    "# lda = LdaModel(corpus, id2word=id2word, alpha='auto',eval_every = 1,\\\n",
    "#                eta='auto',num_topics=3, iterations=5, passes = 10,\n",
    "#               callbacks=[perplexity_logger,convergence_logger])\n",
    "\n",
    "# lda.print_topics()\n",
    "\n",
    "# %%time\n",
    "# from gensim.models import LdaModel,LdaMulticore\n",
    "\n",
    "# id2word = dictionary.id2token\n",
    "# lda = LdaMulticore(corpus, id2word=id2word,eval_every = 1,\\\n",
    "#                eta='auto',num_topics=3, iterations=500, passes = 100)\n",
    "\n",
    "# import pyLDAvis.gensim\n",
    "\n",
    "# pyLDAvis.enable_notebook()\n",
    "# pyLDAvis.gensim.prepare(lda, corpus, dictionary)"
   ]
  }
 ],
 "metadata": {
  "kernelspec": {
   "display_name": "Python 3",
   "language": "python",
   "name": "python3"
  },
  "language_info": {
   "codemirror_mode": {
    "name": "ipython",
    "version": 3
   },
   "file_extension": ".py",
   "mimetype": "text/x-python",
   "name": "python",
   "nbconvert_exporter": "python",
   "pygments_lexer": "ipython3",
   "version": "3.7.2"
  }
 },
 "nbformat": 4,
 "nbformat_minor": 5
}
