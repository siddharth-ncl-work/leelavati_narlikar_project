{
  "nbformat": 4,
  "nbformat_minor": 0,
  "metadata": {
    "colab": {
      "name": "lda_topic_modeling_try.ipynb",
      "provenance": [],
      "collapsed_sections": [],
      "authorship_tag": "ABX9TyPgZ5FTt+fiLxbNnxnxS4qe",
      "include_colab_link": true
    },
    "kernelspec": {
      "name": "python3",
      "display_name": "Python 3"
    }
  },
  "cells": [
    {
      "cell_type": "markdown",
      "metadata": {
        "id": "view-in-github",
        "colab_type": "text"
      },
      "source": [
        "<a href=\"https://colab.research.google.com/gist/siddharth-ncl-work/e465e7c88d2c2436152ac266e280de3b/lda_topic_modeling_try.ipynb\" target=\"_parent\"><img src=\"https://colab.research.google.com/assets/colab-badge.svg\" alt=\"Open In Colab\"/></a>"
      ]
    },
    {
      "cell_type": "markdown",
      "metadata": {
        "id": "bU1EG5FEmfLw"
      },
      "source": [
        "# LDA (Topic Modeling)"
      ]
    },
    {
      "cell_type": "code",
      "metadata": {
        "id": "I8rQsIav3E5v"
      },
      "source": [
        "import numpy as np\r\n",
        "import pandas as pd\r\n",
        "import matplotlib.pyplot as plt"
      ],
      "execution_count": 121,
      "outputs": []
    },
    {
      "cell_type": "markdown",
      "metadata": {
        "id": "v5gC8_Numssc"
      },
      "source": [
        "## Download Data"
      ]
    },
    {
      "cell_type": "code",
      "metadata": {
        "colab": {
          "base_uri": "https://localhost:8080/"
        },
        "id": "JQAXcH473PtF",
        "outputId": "8d449d4a-3095-4b7b-f657-80e02c353728"
      },
      "source": [
        "!wget https://raw.githubusercontent.com/NarlikarLab/cisDIVERSITY/master/example.fa"
      ],
      "execution_count": 122,
      "outputs": [
        {
          "output_type": "stream",
          "text": [
            "--2021-02-20 02:20:21--  https://raw.githubusercontent.com/NarlikarLab/cisDIVERSITY/master/example.fa\n",
            "Resolving raw.githubusercontent.com (raw.githubusercontent.com)... 185.199.108.133, 185.199.109.133, 185.199.110.133, ...\n",
            "Connecting to raw.githubusercontent.com (raw.githubusercontent.com)|185.199.108.133|:443... connected.\n",
            "HTTP request sent, awaiting response... 200 OK\n",
            "Length: 215890 (211K) [text/plain]\n",
            "Saving to: ‘example.fa.1’\n",
            "\n",
            "example.fa.1        100%[===================>] 210.83K  --.-KB/s    in 0.03s   \n",
            "\n",
            "2021-02-20 02:20:21 (7.89 MB/s) - ‘example.fa.1’ saved [215890/215890]\n",
            "\n"
          ],
          "name": "stdout"
        }
      ]
    },
    {
      "cell_type": "markdown",
      "metadata": {
        "id": "MCsVP_wUmu9x"
      },
      "source": [
        "## Extract and Transform"
      ]
    },
    {
      "cell_type": "code",
      "metadata": {
        "colab": {
          "base_uri": "https://localhost:8080/",
          "height": 212
        },
        "id": "mv13QC0O3ZSH",
        "outputId": "e8787c05-e737-4810-8ae7-8bc1041db9b0"
      },
      "source": [
        "_data={'seq_no.':[],'seq':[],'module':[]}\r\n",
        "for line in open('example.fa','r').readlines():\r\n",
        "  if '>' in line[0]:\r\n",
        "    id=line.split('_')[0].split(':')[1]\r\n",
        "    _data['seq_no.'].append(id)\r\n",
        "    module=int(line.split('_')[1].split(':')[1])\r\n",
        "    _data['module'].append(module)\r\n",
        "  else:\r\n",
        "    _data['seq'].append(line)\r\n",
        "data=pd.DataFrame.from_dict(_data)\r\n",
        "print(f'Dataset Size = {data.shape[0]}')\r\n",
        "data.head()"
      ],
      "execution_count": 123,
      "outputs": [
        {
          "output_type": "stream",
          "text": [
            "Dataset Size = 1000\n"
          ],
          "name": "stdout"
        },
        {
          "output_type": "execute_result",
          "data": {
            "text/html": [
              "<div>\n",
              "<style scoped>\n",
              "    .dataframe tbody tr th:only-of-type {\n",
              "        vertical-align: middle;\n",
              "    }\n",
              "\n",
              "    .dataframe tbody tr th {\n",
              "        vertical-align: top;\n",
              "    }\n",
              "\n",
              "    .dataframe thead th {\n",
              "        text-align: right;\n",
              "    }\n",
              "</style>\n",
              "<table border=\"1\" class=\"dataframe\">\n",
              "  <thead>\n",
              "    <tr style=\"text-align: right;\">\n",
              "      <th></th>\n",
              "      <th>seq_no.</th>\n",
              "      <th>seq</th>\n",
              "      <th>module</th>\n",
              "    </tr>\n",
              "  </thead>\n",
              "  <tbody>\n",
              "    <tr>\n",
              "      <th>0</th>\n",
              "      <td>0</td>\n",
              "      <td>GGAGGAGGAAGAGGCTGGGCCCCTGCTGTGTGGGGGCAAGTTCCCA...</td>\n",
              "      <td>0</td>\n",
              "    </tr>\n",
              "    <tr>\n",
              "      <th>1</th>\n",
              "      <td>1</td>\n",
              "      <td>CAAATACCCTGGGGTGCAATACGACTTATATCTCACGTATTGGAAG...</td>\n",
              "      <td>1</td>\n",
              "    </tr>\n",
              "    <tr>\n",
              "      <th>2</th>\n",
              "      <td>2</td>\n",
              "      <td>AACTAGGACACAGAAGTTGATCTAACGTAAACATCAAGAGCTTCCT...</td>\n",
              "      <td>1</td>\n",
              "    </tr>\n",
              "    <tr>\n",
              "      <th>3</th>\n",
              "      <td>3</td>\n",
              "      <td>CACAGCTGGGCCTGGTTGGTCTTTGTCCAGGGAACAATGGAGCGCC...</td>\n",
              "      <td>1</td>\n",
              "    </tr>\n",
              "    <tr>\n",
              "      <th>4</th>\n",
              "      <td>4</td>\n",
              "      <td>TTGTTTTATTTGTTTGTTGGGGGGCGGCGGGGAGCGACAGGGGAGT...</td>\n",
              "      <td>0</td>\n",
              "    </tr>\n",
              "  </tbody>\n",
              "</table>\n",
              "</div>"
            ],
            "text/plain": [
              "  seq_no.                                                seq  module\n",
              "0       0  GGAGGAGGAAGAGGCTGGGCCCCTGCTGTGTGGGGGCAAGTTCCCA...       0\n",
              "1       1  CAAATACCCTGGGGTGCAATACGACTTATATCTCACGTATTGGAAG...       1\n",
              "2       2  AACTAGGACACAGAAGTTGATCTAACGTAAACATCAAGAGCTTCCT...       1\n",
              "3       3  CACAGCTGGGCCTGGTTGGTCTTTGTCCAGGGAACAATGGAGCGCC...       1\n",
              "4       4  TTGTTTTATTTGTTTGTTGGGGGGCGGCGGGGAGCGACAGGGGAGT...       0"
            ]
          },
          "metadata": {
            "tags": []
          },
          "execution_count": 123
        }
      ]
    },
    {
      "cell_type": "markdown",
      "metadata": {
        "id": "50wuXSUbm4mW"
      },
      "source": [
        "## Generate Motif Distribution"
      ]
    },
    {
      "cell_type": "code",
      "metadata": {
        "id": "0BHwBZ8z5-Ze"
      },
      "source": [
        "#m1\r\n",
        "motif_data=-1000*np.ones(1000)\r\n",
        "module1_data=data[data['module']==0]\r\n",
        "module1_size=module1_data.shape[0]\r\n",
        "motif_data[module1_data.index]=np.random.choice([0,1],size=module1_size,p=[0.8,0.2])\r\n",
        "module2_data=data[data['module']==1]\r\n",
        "module2_size=module2_data.shape[0]\r\n",
        "motif_data[module2_data.index]=np.random.choice([0,1],size=module2_size,p=[0,1])\r\n",
        "module3_data=data[data['module']==2]\r\n",
        "module3_size=module3_data.shape[0]\r\n",
        "motif_data[module3_data.index]=np.random.choice([0,1],size=module3_size,p=[1,0])\r\n",
        "data['m1']=motif_data"
      ],
      "execution_count": 124,
      "outputs": []
    },
    {
      "cell_type": "code",
      "metadata": {
        "id": "rkeJ4T0463pT"
      },
      "source": [
        "#m2\r\n",
        "motif_data=-1000*np.ones(1000)\r\n",
        "module1_data=data[data['module']==0]\r\n",
        "module1_size=module1_data.shape[0]\r\n",
        "motif_data[module1_data.index]=np.random.choice([0,1],size=module1_size,p=[0,1])\r\n",
        "module2_data=data[data['module']==1]\r\n",
        "module2_size=module2_data.shape[0]\r\n",
        "motif_data[module2_data.index]=np.random.choice([0,1],size=module2_size,p=[1,0])\r\n",
        "module3_data=data[data['module']==2]\r\n",
        "module3_size=module3_data.shape[0]\r\n",
        "motif_data[module3_data.index]=np.random.choice([0,1],size=module3_size,p=[0.1,0.9])\r\n",
        "data['m2']=motif_data"
      ],
      "execution_count": 125,
      "outputs": []
    },
    {
      "cell_type": "code",
      "metadata": {
        "id": "-j0T729FBQ-A"
      },
      "source": [
        "#m3\r\n",
        "motif_data=-1000*np.ones(1000)\r\n",
        "module1_data=data[data['module']==0]\r\n",
        "module1_size=module1_data.shape[0]\r\n",
        "motif_data[module1_data.index]=np.random.choice([0,1],size=module1_size,p=[0,1])\r\n",
        "module2_data=data[data['module']==1]\r\n",
        "module2_size=module2_data.shape[0]\r\n",
        "motif_data[module2_data.index]=np.random.choice([0,1],size=module2_size,p=[1,0])\r\n",
        "module3_data=data[data['module']==2]\r\n",
        "module3_size=module3_data.shape[0]\r\n",
        "motif_data[module3_data.index]=np.random.choice([0,1],size=module3_size,p=[1,0])\r\n",
        "data['m3']=motif_data"
      ],
      "execution_count": 126,
      "outputs": []
    },
    {
      "cell_type": "code",
      "metadata": {
        "id": "QZxZ5SSgBSlL"
      },
      "source": [
        "#m4\r\n",
        "motif_data=-1000*np.ones(1000)\r\n",
        "module1_data=data[data['module']==0]\r\n",
        "module1_size=module1_data.shape[0]\r\n",
        "motif_data[module1_data.index]=np.random.choice([0,1],size=module1_size,p=[1,0])\r\n",
        "module2_data=data[data['module']==1]\r\n",
        "module2_size=module2_data.shape[0]\r\n",
        "motif_data[module2_data.index]=np.random.choice([0,1],size=module2_size,p=[0.3,0.7])\r\n",
        "module3_data=data[data['module']==2]\r\n",
        "module3_size=module3_data.shape[0]\r\n",
        "motif_data[module3_data.index]=np.random.choice([0,1],size=module3_size,p=[1,0])\r\n",
        "data['m4']=motif_data"
      ],
      "execution_count": 127,
      "outputs": []
    },
    {
      "cell_type": "code",
      "metadata": {
        "id": "C-mx28u3BTWK"
      },
      "source": [
        "#m5\r\n",
        "motif_data=-1000*np.ones(1000)\r\n",
        "module1_data=data[data['module']==0]\r\n",
        "module1_size=module1_data.shape[0]\r\n",
        "motif_data[module1_data.index]=np.random.choice([0,1],size=module1_size,p=[1,0])\r\n",
        "module2_data=data[data['module']==1]\r\n",
        "module2_size=module2_data.shape[0]\r\n",
        "motif_data[module2_data.index]=np.random.choice([0,1],size=module2_size,p=[1,0])\r\n",
        "module3_data=data[data['module']==2]\r\n",
        "module3_size=module3_data.shape[0]\r\n",
        "motif_data[module3_data.index]=np.random.choice([0,1],size=module3_size,p=[0,1])\r\n",
        "data['m5']=motif_data"
      ],
      "execution_count": 128,
      "outputs": []
    },
    {
      "cell_type": "code",
      "metadata": {
        "colab": {
          "base_uri": "https://localhost:8080/"
        },
        "id": "w5_oXcPsCnxV",
        "outputId": "9b24bf9a-3192-4c9c-fe14-64aa4a096ac0"
      },
      "source": [
        "module=0\r\n",
        "print(data[data['module']==module]['m1'].value_counts(normalize=True))\r\n",
        "print(data[data['module']==module]['m2'].value_counts(normalize=True))\r\n",
        "print(data[data['module']==module]['m3'].value_counts(normalize=True))\r\n",
        "print(data[data['module']==module]['m4'].value_counts(normalize=True))\r\n",
        "print(data[data['module']==module]['m5'].value_counts(normalize=True))"
      ],
      "execution_count": 129,
      "outputs": [
        {
          "output_type": "stream",
          "text": [
            "0.0    0.795833\n",
            "1.0    0.204167\n",
            "Name: m1, dtype: float64\n",
            "1.0    1.0\n",
            "Name: m2, dtype: float64\n",
            "1.0    1.0\n",
            "Name: m3, dtype: float64\n",
            "0.0    1.0\n",
            "Name: m4, dtype: float64\n",
            "0.0    1.0\n",
            "Name: m5, dtype: float64\n"
          ],
          "name": "stdout"
        }
      ]
    },
    {
      "cell_type": "code",
      "metadata": {
        "colab": {
          "base_uri": "https://localhost:8080/"
        },
        "id": "lCCqpPpcHnd6",
        "outputId": "d5f21208-b16e-49b8-bfd0-a66d5149143b"
      },
      "source": [
        "module=1\r\n",
        "print(data[data['module']==module]['m1'].value_counts(normalize=True))\r\n",
        "print(data[data['module']==module]['m2'].value_counts(normalize=True))\r\n",
        "print(data[data['module']==module]['m3'].value_counts(normalize=True))\r\n",
        "print(data[data['module']==module]['m4'].value_counts(normalize=True))\r\n",
        "print(data[data['module']==module]['m5'].value_counts(normalize=True))"
      ],
      "execution_count": 130,
      "outputs": [
        {
          "output_type": "stream",
          "text": [
            "1.0    1.0\n",
            "Name: m1, dtype: float64\n",
            "0.0    1.0\n",
            "Name: m2, dtype: float64\n",
            "0.0    1.0\n",
            "Name: m3, dtype: float64\n",
            "1.0    0.742678\n",
            "0.0    0.257322\n",
            "Name: m4, dtype: float64\n",
            "0.0    1.0\n",
            "Name: m5, dtype: float64\n"
          ],
          "name": "stdout"
        }
      ]
    },
    {
      "cell_type": "code",
      "metadata": {
        "colab": {
          "base_uri": "https://localhost:8080/"
        },
        "id": "zABORI8iIMN5",
        "outputId": "87aeb925-1ccb-48dc-d67d-61a49a2f7665"
      },
      "source": [
        "module=2\r\n",
        "print(data[data['module']==module]['m1'].value_counts(normalize=True))\r\n",
        "print(data[data['module']==module]['m2'].value_counts(normalize=True))\r\n",
        "print(data[data['module']==module]['m3'].value_counts(normalize=True))\r\n",
        "print(data[data['module']==module]['m4'].value_counts(normalize=True))\r\n",
        "print(data[data['module']==module]['m5'].value_counts(normalize=True))"
      ],
      "execution_count": 131,
      "outputs": [
        {
          "output_type": "stream",
          "text": [
            "0.0    1.0\n",
            "Name: m1, dtype: float64\n",
            "1.0    0.904762\n",
            "0.0    0.095238\n",
            "Name: m2, dtype: float64\n",
            "0.0    1.0\n",
            "Name: m3, dtype: float64\n",
            "0.0    1.0\n",
            "Name: m4, dtype: float64\n",
            "1.0    1.0\n",
            "Name: m5, dtype: float64\n"
          ],
          "name": "stdout"
        }
      ]
    },
    {
      "cell_type": "markdown",
      "metadata": {
        "id": "8L-oWNxwnLVP"
      },
      "source": [
        "## Preprocessing"
      ]
    },
    {
      "cell_type": "code",
      "metadata": {
        "id": "WXG_zWURNr9d"
      },
      "source": [
        "_data=data.copy()\r\n",
        "_data['m1']=_data['m1'].map({1:'m1',0:'--'})\r\n",
        "_data['m2']=_data['m2'].map({1:'m2',0:'--'})\r\n",
        "_data['m3']=_data['m3'].map({1:'m3',0:'--'})\r\n",
        "_data['m4']=_data['m4'].map({1:'m4',0:'--'})\r\n",
        "_data['m5']=_data['m5'].map({1:'m5',0:'--'})"
      ],
      "execution_count": 132,
      "outputs": []
    },
    {
      "cell_type": "code",
      "metadata": {
        "id": "gLgmkLman1T_"
      },
      "source": [
        "from gensim.corpora import Dictionary\r\n",
        "\r\n",
        "_docs=_data[['m1','m2','m3','m4','m5']].values"
      ],
      "execution_count": 133,
      "outputs": []
    },
    {
      "cell_type": "code",
      "metadata": {
        "colab": {
          "base_uri": "https://localhost:8080/"
        },
        "id": "1SF2c2CJZbFQ",
        "outputId": "d4bf062b-0387-4210-ad21-0cb156ae241e"
      },
      "source": [
        "_docs"
      ],
      "execution_count": 134,
      "outputs": [
        {
          "output_type": "execute_result",
          "data": {
            "text/plain": [
              "array([['m1', 'm2', 'm3', '--', '--'],\n",
              "       ['m1', '--', '--', 'm4', '--'],\n",
              "       ['m1', '--', '--', 'm4', '--'],\n",
              "       ...,\n",
              "       ['m1', '--', '--', 'm4', '--'],\n",
              "       ['--', 'm2', '--', '--', 'm5'],\n",
              "       ['m1', '--', '--', 'm4', '--']], dtype=object)"
            ]
          },
          "metadata": {
            "tags": []
          },
          "execution_count": 134
        }
      ]
    },
    {
      "cell_type": "code",
      "metadata": {
        "id": "fjfm4YHSqAsN"
      },
      "source": [
        "docs=[]\r\n",
        "def processDoc(seq):\r\n",
        "  motifs=[]\r\n",
        "  for m in seq:\r\n",
        "    if 'm' in m:\r\n",
        "      motifs.append(m)\r\n",
        "  return motifs\r\n",
        "for i,doc in enumerate(_docs):\r\n",
        "  docs.append(processDoc(doc))"
      ],
      "execution_count": 135,
      "outputs": []
    },
    {
      "cell_type": "code",
      "metadata": {
        "colab": {
          "base_uri": "https://localhost:8080/"
        },
        "id": "Q-e0w7yIxvuh",
        "outputId": "a37d1161-f7b4-4d7d-e078-f707922ef453"
      },
      "source": [
        "docs[:10]"
      ],
      "execution_count": 136,
      "outputs": [
        {
          "output_type": "execute_result",
          "data": {
            "text/plain": [
              "[['m1', 'm2', 'm3'],\n",
              " ['m1', 'm4'],\n",
              " ['m1', 'm4'],\n",
              " ['m1', 'm4'],\n",
              " ['m1', 'm2', 'm3'],\n",
              " ['m1', 'm4'],\n",
              " ['m1'],\n",
              " ['m2', 'm3'],\n",
              " ['m1', 'm4'],\n",
              " ['m2', 'm3']]"
            ]
          },
          "metadata": {
            "tags": []
          },
          "execution_count": 136
        }
      ]
    },
    {
      "cell_type": "code",
      "metadata": {
        "id": "5OdekSWBySjm"
      },
      "source": [
        "dictionary=Dictionary(docs)\r\n",
        "corpus = [dictionary.doc2bow(doc) for doc in docs]"
      ],
      "execution_count": 137,
      "outputs": []
    },
    {
      "cell_type": "code",
      "metadata": {
        "colab": {
          "base_uri": "https://localhost:8080/"
        },
        "id": "jKSs_uL8ZGh9",
        "outputId": "09e46ea4-fd30-4909-dc4e-ec7b05d03dcb"
      },
      "source": [
        "for i,v in dictionary.items():\r\n",
        "  print(i,v)"
      ],
      "execution_count": 138,
      "outputs": [
        {
          "output_type": "stream",
          "text": [
            "0 m1\n",
            "1 m2\n",
            "2 m3\n",
            "3 m4\n",
            "4 m5\n"
          ],
          "name": "stdout"
        }
      ]
    },
    {
      "cell_type": "code",
      "metadata": {
        "colab": {
          "base_uri": "https://localhost:8080/"
        },
        "id": "jmLX1h2-ZhUF",
        "outputId": "3ba1c6fc-ebfe-446d-dafc-b76232c44799"
      },
      "source": [
        "corpus[:10]"
      ],
      "execution_count": 139,
      "outputs": [
        {
          "output_type": "execute_result",
          "data": {
            "text/plain": [
              "[[(0, 1), (1, 1), (2, 1)],\n",
              " [(0, 1), (3, 1)],\n",
              " [(0, 1), (3, 1)],\n",
              " [(0, 1), (3, 1)],\n",
              " [(0, 1), (1, 1), (2, 1)],\n",
              " [(0, 1), (3, 1)],\n",
              " [(0, 1)],\n",
              " [(1, 1), (2, 1)],\n",
              " [(0, 1), (3, 1)],\n",
              " [(1, 1), (2, 1)]]"
            ]
          },
          "metadata": {
            "tags": []
          },
          "execution_count": 139
        }
      ]
    },
    {
      "cell_type": "markdown",
      "metadata": {
        "id": "28tWSSBDnQ5D"
      },
      "source": [
        "## LDA Model Training"
      ]
    },
    {
      "cell_type": "code",
      "metadata": {
        "id": "GZEcaZNlIpCt"
      },
      "source": [
        "from gensim.models import LdaModel,LdaMulticore\r\n",
        "\r\n",
        "temp = dictionary[0]\r\n",
        "id2word = dictionary.id2token\r\n",
        "lda = LdaModel(corpus, id2word=id2word, alpha='auto',\\\r\n",
        "               eta='auto',num_topics=3, iterations=50, passes = 5)"
      ],
      "execution_count": 169,
      "outputs": []
    },
    {
      "cell_type": "code",
      "metadata": {
        "colab": {
          "base_uri": "https://localhost:8080/"
        },
        "id": "lauPE27WRr-T",
        "outputId": "92179fd7-89e1-4f33-ea93-0e52b17d6ec0"
      },
      "source": [
        "lda.print_topics()"
      ],
      "execution_count": 170,
      "outputs": [
        {
          "output_type": "execute_result",
          "data": {
            "text/plain": [
              "[(0, '0.588*\"m1\" + 0.406*\"m4\" + 0.003*\"m3\" + 0.003*\"m2\" + 0.000*\"m5\"'),\n",
              " (1, '0.441*\"m2\" + 0.437*\"m3\" + 0.095*\"m1\" + 0.027*\"m4\" + 0.000*\"m5\"'),\n",
              " (2, '0.497*\"m5\" + 0.421*\"m2\" + 0.039*\"m1\" + 0.022*\"m4\" + 0.021*\"m3\"')]"
            ]
          },
          "metadata": {
            "tags": []
          },
          "execution_count": 170
        }
      ]
    },
    {
      "cell_type": "markdown",
      "metadata": {
        "id": "Y1U0e4Ub10ZI"
      },
      "source": [
        "## LDA Model Evaluation of Training Data"
      ]
    },
    {
      "cell_type": "code",
      "metadata": {
        "id": "TYw_OBQCTGEW"
      },
      "source": [
        "pred_module=[]\r\n",
        "for doc in corpus:\r\n",
        "  top_topic=sorted(lda[doc],key=lambda x:-x[1])[0][0]\r\n",
        "  pred_module.append(top_topic)\r\n",
        "_data['pred_module']=pred_module"
      ],
      "execution_count": 171,
      "outputs": []
    },
    {
      "cell_type": "code",
      "metadata": {
        "colab": {
          "base_uri": "https://localhost:8080/"
        },
        "id": "hoc4lRvtay3F",
        "outputId": "4d4bbb63-68ec-434b-9959-b1f6e491cc56"
      },
      "source": [
        "_data[_data['pred_module']==0][['module','pred_module']].value_counts()"
      ],
      "execution_count": 172,
      "outputs": [
        {
          "output_type": "execute_result",
          "data": {
            "text/plain": [
              "module  pred_module\n",
              "1       0              478\n",
              "dtype: int64"
            ]
          },
          "metadata": {
            "tags": []
          },
          "execution_count": 172
        }
      ]
    },
    {
      "cell_type": "code",
      "metadata": {
        "id": "a4AtccBVVF1f",
        "colab": {
          "base_uri": "https://localhost:8080/"
        },
        "outputId": "b332979a-bae5-44f3-a244-00e6147208f9"
      },
      "source": [
        "_data[_data['pred_module']==1][['module','pred_module']].value_counts()"
      ],
      "execution_count": 173,
      "outputs": [
        {
          "output_type": "execute_result",
          "data": {
            "text/plain": [
              "module  pred_module\n",
              "0       1              480\n",
              "dtype: int64"
            ]
          },
          "metadata": {
            "tags": []
          },
          "execution_count": 173
        }
      ]
    },
    {
      "cell_type": "code",
      "metadata": {
        "id": "A3BGb95xVGIZ",
        "colab": {
          "base_uri": "https://localhost:8080/"
        },
        "outputId": "cdaa4d46-b2db-4e23-986b-b0863ee61969"
      },
      "source": [
        "_data[_data['pred_module']==2][['module','pred_module']].value_counts()"
      ],
      "execution_count": 174,
      "outputs": [
        {
          "output_type": "execute_result",
          "data": {
            "text/plain": [
              "module  pred_module\n",
              "2       2              42\n",
              "dtype: int64"
            ]
          },
          "metadata": {
            "tags": []
          },
          "execution_count": 174
        }
      ]
    },
    {
      "cell_type": "code",
      "metadata": {
        "id": "IQ-2O9HzbKHn"
      },
      "source": [
        "class_dict={0:1,1:0,2:2}"
      ],
      "execution_count": 175,
      "outputs": []
    },
    {
      "cell_type": "code",
      "metadata": {
        "id": "c5XHbySFcm_J"
      },
      "source": [
        "_data['pred_module']=_data['pred_module'].map(class_dict)"
      ],
      "execution_count": 176,
      "outputs": []
    },
    {
      "cell_type": "markdown",
      "metadata": {
        "id": "YAXvjdGy1-2A"
      },
      "source": [
        "### Accuracy Score (best performance is 1)"
      ]
    },
    {
      "cell_type": "code",
      "metadata": {
        "colab": {
          "base_uri": "https://localhost:8080/"
        },
        "id": "3nFG3a3OjgpT",
        "outputId": "03f0f015-092f-4322-d062-1bfebf4fdcae"
      },
      "source": [
        "from sklearn.metrics import accuracy_score\r\n",
        "accuracy_score(_data['module'],_data['pred_module'])"
      ],
      "execution_count": 177,
      "outputs": [
        {
          "output_type": "execute_result",
          "data": {
            "text/plain": [
              "1.0"
            ]
          },
          "metadata": {
            "tags": []
          },
          "execution_count": 177
        }
      ]
    },
    {
      "cell_type": "markdown",
      "metadata": {
        "id": "pekvTU288Ita"
      },
      "source": [
        "## K-Means Clustering "
      ]
    },
    {
      "cell_type": "code",
      "metadata": {
        "colab": {
          "base_uri": "https://localhost:8080/"
        },
        "id": "0lEEx8gQUMwc",
        "outputId": "c1a29d64-a34c-466a-b3ce-b243484e5566"
      },
      "source": [
        "X=data[['m1','m2','m3','m4','m5']].values\r\n",
        "X"
      ],
      "execution_count": 149,
      "outputs": [
        {
          "output_type": "execute_result",
          "data": {
            "text/plain": [
              "array([[1., 1., 1., 0., 0.],\n",
              "       [1., 0., 0., 1., 0.],\n",
              "       [1., 0., 0., 1., 0.],\n",
              "       ...,\n",
              "       [1., 0., 0., 1., 0.],\n",
              "       [0., 1., 0., 0., 1.],\n",
              "       [1., 0., 0., 1., 0.]])"
            ]
          },
          "metadata": {
            "tags": []
          },
          "execution_count": 149
        }
      ]
    },
    {
      "cell_type": "code",
      "metadata": {
        "id": "F67BJm8w1xoD"
      },
      "source": [
        "from sklearn.cluster import KMeans\r\n",
        "\r\n",
        "kmeans=KMeans(n_clusters=3,max_iter=10000,tol=1e-10,n_init=10,verbose=0).fit(X)"
      ],
      "execution_count": 150,
      "outputs": []
    },
    {
      "cell_type": "code",
      "metadata": {
        "colab": {
          "base_uri": "https://localhost:8080/"
        },
        "id": "0cJsz8XZ9qNs",
        "outputId": "abbfc044-2aca-4411-a6cc-efb95c41533f"
      },
      "source": [
        "np.unique(kmeans.predict(X),return_counts=True)"
      ],
      "execution_count": 151,
      "outputs": [
        {
          "output_type": "execute_result",
          "data": {
            "text/plain": [
              "(array([0, 1, 2], dtype=int32), array([518, 355, 127]))"
            ]
          },
          "metadata": {
            "tags": []
          },
          "execution_count": 151
        }
      ]
    },
    {
      "cell_type": "markdown",
      "metadata": {
        "id": "75HOEWrxWwSc"
      },
      "source": [
        "## AffinityPropagation"
      ]
    },
    {
      "cell_type": "code",
      "metadata": {
        "colab": {
          "base_uri": "https://localhost:8080/"
        },
        "id": "6njpCVhJBAFc",
        "outputId": "24d70694-7f0f-426e-858c-2ab816bf0c16"
      },
      "source": [
        "from sklearn.cluster import AffinityPropagation\r\n",
        "\r\n",
        "X=data[['m1','m2','m3','m4','m5']].values\r\n",
        "kmeans=AffinityPropagation(max_iter=1000,convergence_iter=100).fit(X)"
      ],
      "execution_count": 152,
      "outputs": [
        {
          "output_type": "stream",
          "text": [
            "/usr/local/lib/python3.6/dist-packages/sklearn/cluster/_affinity_propagation.py:226: ConvergenceWarning: Affinity propagation did not converge, this model will not have any cluster centers.\n",
            "  \"will not have any cluster centers.\", ConvergenceWarning)\n"
          ],
          "name": "stderr"
        }
      ]
    },
    {
      "cell_type": "code",
      "metadata": {
        "colab": {
          "base_uri": "https://localhost:8080/"
        },
        "id": "9Y268MXqEPm-",
        "outputId": "7ea0ab8f-d1e0-4075-b5ed-1483d82b955f"
      },
      "source": [
        "np.unique(kmeans.predict(X),return_counts=True)"
      ],
      "execution_count": 153,
      "outputs": [
        {
          "output_type": "stream",
          "text": [
            "/usr/local/lib/python3.6/dist-packages/sklearn/cluster/_affinity_propagation.py:423: ConvergenceWarning: This model does not have any cluster centers because affinity propagation did not converge. Labeling every sample as '-1'.\n",
            "  \"Labeling every sample as '-1'.\", ConvergenceWarning)\n"
          ],
          "name": "stderr"
        },
        {
          "output_type": "execute_result",
          "data": {
            "text/plain": [
              "(array([-1]), array([1000]))"
            ]
          },
          "metadata": {
            "tags": []
          },
          "execution_count": 153
        }
      ]
    },
    {
      "cell_type": "markdown",
      "metadata": {
        "id": "NjGhdROsjBwA"
      },
      "source": [
        "## metric : adjusted rand index = 0 to 1"
      ]
    }
  ]
}