{
 "cells": [
  {
   "cell_type": "markdown",
   "id": "acute-accreditation",
   "metadata": {},
   "source": [
    "# LDA Model Training"
   ]
  },
  {
   "cell_type": "code",
   "execution_count": 1,
   "id": "southeast-hampshire",
   "metadata": {},
   "outputs": [],
   "source": [
    "import numpy as np\n",
    "import pandas as pd\n",
    "import matplotlib.pyplot as plt\n",
    "from tqdm import tqdm"
   ]
  },
  {
   "cell_type": "markdown",
   "id": "departmental-pension",
   "metadata": {},
   "source": [
    "## Data"
   ]
  },
  {
   "cell_type": "code",
   "execution_count": 2,
   "id": "downtown-phrase",
   "metadata": {},
   "outputs": [
    {
     "data": {
      "text/html": [
       "<div>\n",
       "<style scoped>\n",
       "    .dataframe tbody tr th:only-of-type {\n",
       "        vertical-align: middle;\n",
       "    }\n",
       "\n",
       "    .dataframe tbody tr th {\n",
       "        vertical-align: top;\n",
       "    }\n",
       "\n",
       "    .dataframe thead th {\n",
       "        text-align: right;\n",
       "    }\n",
       "</style>\n",
       "<table border=\"1\" class=\"dataframe\">\n",
       "  <thead>\n",
       "    <tr style=\"text-align: right;\">\n",
       "      <th></th>\n",
       "      <th>PeakID</th>\n",
       "      <th>Distance to TSS</th>\n",
       "      <th>motif_string</th>\n",
       "    </tr>\n",
       "  </thead>\n",
       "  <tbody>\n",
       "    <tr>\n",
       "      <th>0</th>\n",
       "      <td>seq_40800</td>\n",
       "      <td>-81</td>\n",
       "      <td>motif_149,motif_162,motif_166,motif_166,motif_...</td>\n",
       "    </tr>\n",
       "    <tr>\n",
       "      <th>1</th>\n",
       "      <td>seq_10314</td>\n",
       "      <td>-228</td>\n",
       "      <td>motif_144</td>\n",
       "    </tr>\n",
       "    <tr>\n",
       "      <th>2</th>\n",
       "      <td>seq_18866</td>\n",
       "      <td>9616</td>\n",
       "      <td>motif_104,motif_126,motif_126,motif_147,motif_...</td>\n",
       "    </tr>\n",
       "    <tr>\n",
       "      <th>3</th>\n",
       "      <td>seq_45348</td>\n",
       "      <td>5770</td>\n",
       "      <td>motif_120,motif_121,motif_128,motif_128,motif_...</td>\n",
       "    </tr>\n",
       "    <tr>\n",
       "      <th>4</th>\n",
       "      <td>seq_2616</td>\n",
       "      <td>-12540</td>\n",
       "      <td>motif_100,motif_103,motif_126,motif_126,motif_...</td>\n",
       "    </tr>\n",
       "    <tr>\n",
       "      <th>...</th>\n",
       "      <td>...</td>\n",
       "      <td>...</td>\n",
       "      <td>...</td>\n",
       "    </tr>\n",
       "    <tr>\n",
       "      <th>60095</th>\n",
       "      <td>seq_5507</td>\n",
       "      <td>-127293</td>\n",
       "      <td>motif_137,motif_137,motif_13,motif_174,motif_1...</td>\n",
       "    </tr>\n",
       "    <tr>\n",
       "      <th>60096</th>\n",
       "      <td>seq_11070</td>\n",
       "      <td>37721</td>\n",
       "      <td>motif_132,motif_132,motif_132,motif_142,motif_...</td>\n",
       "    </tr>\n",
       "    <tr>\n",
       "      <th>60097</th>\n",
       "      <td>seq_17945</td>\n",
       "      <td>88589</td>\n",
       "      <td>motif_161,motif_162,motif_162,motif_174,motif_...</td>\n",
       "    </tr>\n",
       "    <tr>\n",
       "      <th>60098</th>\n",
       "      <td>seq_29137</td>\n",
       "      <td>93216</td>\n",
       "      <td>motif_104,motif_105,motif_117,motif_117,motif_...</td>\n",
       "    </tr>\n",
       "    <tr>\n",
       "      <th>60099</th>\n",
       "      <td>seq_48859</td>\n",
       "      <td>74528</td>\n",
       "      <td>motif_136,motif_145,motif_146,motif_158,motif_...</td>\n",
       "    </tr>\n",
       "  </tbody>\n",
       "</table>\n",
       "<p>60100 rows × 3 columns</p>\n",
       "</div>"
      ],
      "text/plain": [
       "          PeakID  Distance to TSS  \\\n",
       "0      seq_40800              -81   \n",
       "1      seq_10314             -228   \n",
       "2      seq_18866             9616   \n",
       "3      seq_45348             5770   \n",
       "4       seq_2616           -12540   \n",
       "...          ...              ...   \n",
       "60095   seq_5507          -127293   \n",
       "60096  seq_11070            37721   \n",
       "60097  seq_17945            88589   \n",
       "60098  seq_29137            93216   \n",
       "60099  seq_48859            74528   \n",
       "\n",
       "                                            motif_string  \n",
       "0      motif_149,motif_162,motif_166,motif_166,motif_...  \n",
       "1                                              motif_144  \n",
       "2      motif_104,motif_126,motif_126,motif_147,motif_...  \n",
       "3      motif_120,motif_121,motif_128,motif_128,motif_...  \n",
       "4      motif_100,motif_103,motif_126,motif_126,motif_...  \n",
       "...                                                  ...  \n",
       "60095  motif_137,motif_137,motif_13,motif_174,motif_1...  \n",
       "60096  motif_132,motif_132,motif_132,motif_142,motif_...  \n",
       "60097  motif_161,motif_162,motif_162,motif_174,motif_...  \n",
       "60098  motif_104,motif_105,motif_117,motif_117,motif_...  \n",
       "60099  motif_136,motif_145,motif_146,motif_158,motif_...  \n",
       "\n",
       "[60100 rows x 3 columns]"
      ]
     },
     "execution_count": 2,
     "metadata": {},
     "output_type": "execute_result"
    }
   ],
   "source": [
    "data_file_path='DATA.csv'\n",
    "data=pd.read_csv(data_file_path)\n",
    "data"
   ]
  },
  {
   "cell_type": "code",
   "execution_count": 3,
   "id": "southern-oracle",
   "metadata": {},
   "outputs": [
    {
     "name": "stdout",
     "output_type": "stream",
     "text": [
      "          PeakID  Distance to TSS motif_string\n",
      "18840  seq_57232             -180          NaN\n",
      "23892  seq_20216             -147          NaN\n",
      "29667  seq_31231              483          NaN\n",
      "46832   seq_8465             -341          NaN\n",
      "47219  seq_46451             4737          NaN\n"
     ]
    },
    {
     "data": {
      "text/html": [
       "<div>\n",
       "<style scoped>\n",
       "    .dataframe tbody tr th:only-of-type {\n",
       "        vertical-align: middle;\n",
       "    }\n",
       "\n",
       "    .dataframe tbody tr th {\n",
       "        vertical-align: top;\n",
       "    }\n",
       "\n",
       "    .dataframe thead th {\n",
       "        text-align: right;\n",
       "    }\n",
       "</style>\n",
       "<table border=\"1\" class=\"dataframe\">\n",
       "  <thead>\n",
       "    <tr style=\"text-align: right;\">\n",
       "      <th></th>\n",
       "      <th>PeakID</th>\n",
       "      <th>Distance to TSS</th>\n",
       "      <th>motif_string</th>\n",
       "      <th>motif_list</th>\n",
       "    </tr>\n",
       "  </thead>\n",
       "  <tbody>\n",
       "    <tr>\n",
       "      <th>0</th>\n",
       "      <td>seq_40800</td>\n",
       "      <td>-81</td>\n",
       "      <td>motif_149,motif_162,motif_166,motif_166,motif_...</td>\n",
       "      <td>[motif_149, motif_162, motif_166, motif_166, m...</td>\n",
       "    </tr>\n",
       "    <tr>\n",
       "      <th>1</th>\n",
       "      <td>seq_10314</td>\n",
       "      <td>-228</td>\n",
       "      <td>motif_144</td>\n",
       "      <td>[motif_144]</td>\n",
       "    </tr>\n",
       "    <tr>\n",
       "      <th>2</th>\n",
       "      <td>seq_18866</td>\n",
       "      <td>9616</td>\n",
       "      <td>motif_104,motif_126,motif_126,motif_147,motif_...</td>\n",
       "      <td>[motif_104, motif_126, motif_126, motif_147, m...</td>\n",
       "    </tr>\n",
       "    <tr>\n",
       "      <th>3</th>\n",
       "      <td>seq_45348</td>\n",
       "      <td>5770</td>\n",
       "      <td>motif_120,motif_121,motif_128,motif_128,motif_...</td>\n",
       "      <td>[motif_120, motif_121, motif_128, motif_128, m...</td>\n",
       "    </tr>\n",
       "    <tr>\n",
       "      <th>4</th>\n",
       "      <td>seq_2616</td>\n",
       "      <td>-12540</td>\n",
       "      <td>motif_100,motif_103,motif_126,motif_126,motif_...</td>\n",
       "      <td>[motif_100, motif_103, motif_126, motif_126, m...</td>\n",
       "    </tr>\n",
       "    <tr>\n",
       "      <th>...</th>\n",
       "      <td>...</td>\n",
       "      <td>...</td>\n",
       "      <td>...</td>\n",
       "      <td>...</td>\n",
       "    </tr>\n",
       "    <tr>\n",
       "      <th>60095</th>\n",
       "      <td>seq_5507</td>\n",
       "      <td>-127293</td>\n",
       "      <td>motif_137,motif_137,motif_13,motif_174,motif_1...</td>\n",
       "      <td>[motif_137, motif_137, motif_13, motif_174, mo...</td>\n",
       "    </tr>\n",
       "    <tr>\n",
       "      <th>60096</th>\n",
       "      <td>seq_11070</td>\n",
       "      <td>37721</td>\n",
       "      <td>motif_132,motif_132,motif_132,motif_142,motif_...</td>\n",
       "      <td>[motif_132, motif_132, motif_132, motif_142, m...</td>\n",
       "    </tr>\n",
       "    <tr>\n",
       "      <th>60097</th>\n",
       "      <td>seq_17945</td>\n",
       "      <td>88589</td>\n",
       "      <td>motif_161,motif_162,motif_162,motif_174,motif_...</td>\n",
       "      <td>[motif_161, motif_162, motif_162, motif_174, m...</td>\n",
       "    </tr>\n",
       "    <tr>\n",
       "      <th>60098</th>\n",
       "      <td>seq_29137</td>\n",
       "      <td>93216</td>\n",
       "      <td>motif_104,motif_105,motif_117,motif_117,motif_...</td>\n",
       "      <td>[motif_104, motif_105, motif_117, motif_117, m...</td>\n",
       "    </tr>\n",
       "    <tr>\n",
       "      <th>60099</th>\n",
       "      <td>seq_48859</td>\n",
       "      <td>74528</td>\n",
       "      <td>motif_136,motif_145,motif_146,motif_158,motif_...</td>\n",
       "      <td>[motif_136, motif_145, motif_146, motif_158, m...</td>\n",
       "    </tr>\n",
       "  </tbody>\n",
       "</table>\n",
       "<p>60095 rows × 4 columns</p>\n",
       "</div>"
      ],
      "text/plain": [
       "          PeakID  Distance to TSS  \\\n",
       "0      seq_40800              -81   \n",
       "1      seq_10314             -228   \n",
       "2      seq_18866             9616   \n",
       "3      seq_45348             5770   \n",
       "4       seq_2616           -12540   \n",
       "...          ...              ...   \n",
       "60095   seq_5507          -127293   \n",
       "60096  seq_11070            37721   \n",
       "60097  seq_17945            88589   \n",
       "60098  seq_29137            93216   \n",
       "60099  seq_48859            74528   \n",
       "\n",
       "                                            motif_string  \\\n",
       "0      motif_149,motif_162,motif_166,motif_166,motif_...   \n",
       "1                                              motif_144   \n",
       "2      motif_104,motif_126,motif_126,motif_147,motif_...   \n",
       "3      motif_120,motif_121,motif_128,motif_128,motif_...   \n",
       "4      motif_100,motif_103,motif_126,motif_126,motif_...   \n",
       "...                                                  ...   \n",
       "60095  motif_137,motif_137,motif_13,motif_174,motif_1...   \n",
       "60096  motif_132,motif_132,motif_132,motif_142,motif_...   \n",
       "60097  motif_161,motif_162,motif_162,motif_174,motif_...   \n",
       "60098  motif_104,motif_105,motif_117,motif_117,motif_...   \n",
       "60099  motif_136,motif_145,motif_146,motif_158,motif_...   \n",
       "\n",
       "                                              motif_list  \n",
       "0      [motif_149, motif_162, motif_166, motif_166, m...  \n",
       "1                                            [motif_144]  \n",
       "2      [motif_104, motif_126, motif_126, motif_147, m...  \n",
       "3      [motif_120, motif_121, motif_128, motif_128, m...  \n",
       "4      [motif_100, motif_103, motif_126, motif_126, m...  \n",
       "...                                                  ...  \n",
       "60095  [motif_137, motif_137, motif_13, motif_174, mo...  \n",
       "60096  [motif_132, motif_132, motif_132, motif_142, m...  \n",
       "60097  [motif_161, motif_162, motif_162, motif_174, m...  \n",
       "60098  [motif_104, motif_105, motif_117, motif_117, m...  \n",
       "60099  [motif_136, motif_145, motif_146, motif_158, m...  \n",
       "\n",
       "[60095 rows x 4 columns]"
      ]
     },
     "execution_count": 3,
     "metadata": {},
     "output_type": "execute_result"
    }
   ],
   "source": [
    "print(data[data['motif_string'].isna()])\n",
    "data.dropna(subset=['motif_string'],inplace=True)\n",
    "data['motif_list']=data['motif_string'].apply(lambda x:x.split(','))\n",
    "data"
   ]
  },
  {
   "cell_type": "code",
   "execution_count": 4,
   "id": "concrete-freeze",
   "metadata": {},
   "outputs": [
    {
     "name": "stdout",
     "output_type": "stream",
     "text": [
      "Motif-Index to Motif-Name Mapping:\n",
      "0 - motif_149\n",
      "1 - motif_162\n",
      "2 - motif_166\n",
      "3 - motif_174\n",
      "4 - motif_199\n",
      "5 - motif_230\n",
      "6 - motif_248\n",
      "7 - motif_295\n",
      "8 - motif_60\n",
      "9 - motif_66\n",
      "10 - motif_98\n"
     ]
    }
   ],
   "source": [
    "from gensim.corpora import Dictionary\n",
    "\n",
    "docs=data['motif_list'].values\n",
    "dictionary=Dictionary(docs)\n",
    "\n",
    "print('Motif-Index to Motif-Name Mapping:')\n",
    "for i,v in dictionary.items():\n",
    "    print(f'{i} - {v}')\n",
    "    if i==10:\n",
    "        break\n",
    "    "
   ]
  },
  {
   "cell_type": "code",
   "execution_count": 5,
   "id": "renewable-particular",
   "metadata": {},
   "outputs": [
    {
     "name": "stdout",
     "output_type": "stream",
     "text": [
      "BOW (Sequence-0):\n"
     ]
    },
    {
     "data": {
      "text/plain": [
       "(['motif_149',\n",
       "  'motif_162',\n",
       "  'motif_166',\n",
       "  'motif_166',\n",
       "  'motif_174',\n",
       "  'motif_199',\n",
       "  'motif_230',\n",
       "  'motif_248',\n",
       "  'motif_295',\n",
       "  'motif_295',\n",
       "  'motif_60',\n",
       "  'motif_60',\n",
       "  'motif_66',\n",
       "  'motif_98'],\n",
       " [(0, 1),\n",
       "  (1, 1),\n",
       "  (2, 2),\n",
       "  (3, 1),\n",
       "  (4, 1),\n",
       "  (5, 1),\n",
       "  (6, 1),\n",
       "  (7, 2),\n",
       "  (8, 2),\n",
       "  (9, 1),\n",
       "  (10, 1)])"
      ]
     },
     "execution_count": 5,
     "metadata": {},
     "output_type": "execute_result"
    }
   ],
   "source": [
    "corpus = [dictionary.doc2bow(doc) for doc in docs]\n",
    "print('BOW (Sequence-0):')\n",
    "docs[0],corpus[0]"
   ]
  },
  {
   "cell_type": "markdown",
   "id": "heated-sampling",
   "metadata": {},
   "source": [
    "## Training Test"
   ]
  },
  {
   "cell_type": "code",
   "execution_count": 6,
   "id": "possible-residence",
   "metadata": {},
   "outputs": [
    {
     "name": "stderr",
     "output_type": "stream",
     "text": [
      "2021-02-24 12:32:44,044 : INFO : using autotuned alpha, starting with [0.33333334, 0.33333334, 0.33333334]\n",
      "2021-02-24 12:32:44,045 : INFO : using serial LDA version on this node\n",
      "2021-02-24 12:32:44,047 : INFO : running online (multi-pass) LDA training, 3 topics, 5 passes over the supplied corpus of 60095 documents, updating model once every 10000 documents, evaluating perplexity every 60095 documents, iterating 1000x with a convergence threshold of 0.001000\n",
      "2021-02-24 12:32:44,050 : INFO : PROGRESS: pass 0, at document #10000/60095\n",
      "2021-02-24 12:32:44,051 : DEBUG : performing inference on a chunk of 10000 documents\n",
      "2021-02-24 12:33:06,206 : DEBUG : 9827/10000 documents converged within 1000 iterations\n",
      "2021-02-24 12:33:06,236 : INFO : optimized alpha [0.08902334, 0.081018746, 0.16586225]\n",
      "2021-02-24 12:33:06,237 : DEBUG : updating topics\n",
      "2021-02-24 12:33:06,237 : INFO : merging changes from 10000 documents into a model of 60095 documents\n",
      "2021-02-24 12:33:06,238 : INFO : topic #0 (0.089): 0.024*\"motif_60\" + 0.024*\"motif_184\" + 0.017*\"motif_239\" + 0.016*\"motif_218\" + 0.016*\"motif_62\" + 0.014*\"motif_84\" + 0.014*\"motif_126\" + 0.014*\"motif_37\" + 0.013*\"motif_2\" + 0.013*\"motif_1\"\n",
      "2021-02-24 12:33:06,239 : INFO : topic #1 (0.081): 0.048*\"motif_60\" + 0.027*\"motif_23\" + 0.027*\"motif_37\" + 0.024*\"motif_40\" + 0.021*\"motif_13\" + 0.021*\"motif_19\" + 0.020*\"motif_42\" + 0.018*\"motif_184\" + 0.017*\"motif_39\" + 0.015*\"motif_174\"\n",
      "2021-02-24 12:33:06,240 : INFO : topic #2 (0.166): 0.042*\"motif_60\" + 0.021*\"motif_184\" + 0.017*\"motif_42\" + 0.017*\"motif_218\" + 0.015*\"motif_62\" + 0.014*\"motif_37\" + 0.012*\"motif_202\" + 0.012*\"motif_11\" + 0.012*\"motif_126\" + 0.012*\"motif_12\"\n",
      "2021-02-24 12:33:06,241 : INFO : topic diff=1.028269, rho=1.000000\n",
      "2021-02-24 12:33:06,257 : WARNING : updated prior is not positive\n",
      "2021-02-24 12:33:06,258 : INFO : PROGRESS: pass 0, at document #20000/60095\n",
      "2021-02-24 12:33:06,259 : DEBUG : performing inference on a chunk of 10000 documents\n",
      "2021-02-24 12:33:12,033 : DEBUG : 9998/10000 documents converged within 1000 iterations\n",
      "2021-02-24 12:33:12,062 : INFO : optimized alpha [0.0827005, 0.07399592, 0.071692795]\n",
      "2021-02-24 12:33:12,063 : DEBUG : updating topics\n",
      "2021-02-24 12:33:12,064 : INFO : merging changes from 10000 documents into a model of 60095 documents\n",
      "2021-02-24 12:33:12,065 : INFO : topic #0 (0.083): 0.026*\"motif_60\" + 0.021*\"motif_184\" + 0.019*\"motif_62\" + 0.016*\"motif_84\" + 0.016*\"motif_126\" + 0.016*\"motif_218\" + 0.014*\"motif_239\" + 0.013*\"motif_54\" + 0.012*\"motif_2\" + 0.012*\"motif_1\"\n",
      "2021-02-24 12:33:12,066 : INFO : topic #1 (0.074): 0.046*\"motif_60\" + 0.034*\"motif_37\" + 0.033*\"motif_23\" + 0.029*\"motif_42\" + 0.027*\"motif_40\" + 0.026*\"motif_13\" + 0.024*\"motif_19\" + 0.021*\"motif_184\" + 0.020*\"motif_39\" + 0.017*\"motif_218\"\n",
      "2021-02-24 12:33:12,066 : INFO : topic #2 (0.072): 0.045*\"motif_60\" + 0.021*\"motif_184\" + 0.019*\"motif_11\" + 0.018*\"motif_12\" + 0.017*\"motif_10\" + 0.016*\"motif_6\" + 0.016*\"motif_218\" + 0.016*\"motif_9\" + 0.015*\"motif_5\" + 0.014*\"motif_8\"\n",
      "2021-02-24 12:33:12,067 : INFO : topic diff=0.271425, rho=0.707107\n",
      "2021-02-24 12:33:12,081 : WARNING : updated prior is not positive\n",
      "2021-02-24 12:33:12,083 : INFO : PROGRESS: pass 0, at document #30000/60095\n",
      "2021-02-24 12:33:12,083 : DEBUG : performing inference on a chunk of 10000 documents\n",
      "2021-02-24 12:33:16,503 : DEBUG : 10000/10000 documents converged within 1000 iterations\n",
      "2021-02-24 12:33:16,528 : INFO : optimized alpha [0.081932575, 0.07224506, 0.059544057]\n",
      "2021-02-24 12:33:16,528 : DEBUG : updating topics\n",
      "2021-02-24 12:33:16,529 : INFO : merging changes from 10000 documents into a model of 60095 documents\n",
      "2021-02-24 12:33:16,529 : INFO : topic #0 (0.082): 0.028*\"motif_60\" + 0.021*\"motif_62\" + 0.019*\"motif_184\" + 0.018*\"motif_126\" + 0.018*\"motif_84\" + 0.014*\"motif_54\" + 0.014*\"motif_218\" + 0.014*\"motif_239\" + 0.012*\"motif_17\" + 0.012*\"motif_2\"\n",
      "2021-02-24 12:33:16,530 : INFO : topic #1 (0.072): 0.046*\"motif_60\" + 0.036*\"motif_37\" + 0.034*\"motif_23\" + 0.032*\"motif_42\" + 0.027*\"motif_40\" + 0.026*\"motif_13\" + 0.024*\"motif_19\" + 0.023*\"motif_184\" + 0.021*\"motif_39\" + 0.019*\"motif_218\"\n",
      "2021-02-24 12:33:16,530 : INFO : topic #2 (0.060): 0.045*\"motif_60\" + 0.024*\"motif_11\" + 0.024*\"motif_12\" + 0.022*\"motif_10\" + 0.021*\"motif_184\" + 0.021*\"motif_6\" + 0.020*\"motif_9\" + 0.019*\"motif_5\" + 0.018*\"motif_8\" + 0.016*\"motif_218\"\n",
      "2021-02-24 12:33:16,531 : INFO : topic diff=0.186150, rho=0.577350\n",
      "2021-02-24 12:33:16,542 : INFO : PROGRESS: pass 0, at document #40000/60095\n",
      "2021-02-24 12:33:16,543 : DEBUG : performing inference on a chunk of 10000 documents\n",
      "2021-02-24 12:33:20,385 : DEBUG : 10000/10000 documents converged within 1000 iterations\n",
      "2021-02-24 12:33:20,415 : INFO : optimized alpha [0.08322404, 0.0737785, 0.05274201]\n",
      "2021-02-24 12:33:20,416 : DEBUG : updating topics\n",
      "2021-02-24 12:33:20,416 : INFO : merging changes from 10000 documents into a model of 60095 documents\n",
      "2021-02-24 12:33:20,417 : INFO : topic #0 (0.083): 0.028*\"motif_60\" + 0.022*\"motif_62\" + 0.019*\"motif_126\" + 0.018*\"motif_84\" + 0.017*\"motif_184\" + 0.016*\"motif_54\" + 0.013*\"motif_17\" + 0.013*\"motif_239\" + 0.013*\"motif_218\" + 0.012*\"motif_121\"\n",
      "2021-02-24 12:33:20,418 : INFO : topic #1 (0.074): 0.046*\"motif_60\" + 0.036*\"motif_37\" + 0.034*\"motif_23\" + 0.032*\"motif_42\" + 0.027*\"motif_40\" + 0.026*\"motif_13\" + 0.025*\"motif_184\" + 0.024*\"motif_19\" + 0.021*\"motif_39\" + 0.020*\"motif_218\"\n",
      "2021-02-24 12:33:20,419 : INFO : topic #2 (0.053): 0.043*\"motif_60\" + 0.027*\"motif_11\" + 0.027*\"motif_12\" + 0.026*\"motif_10\" + 0.024*\"motif_6\" + 0.023*\"motif_9\" + 0.022*\"motif_5\" + 0.021*\"motif_8\" + 0.021*\"motif_184\" + 0.018*\"motif_4\"\n",
      "2021-02-24 12:33:20,419 : INFO : topic diff=0.142906, rho=0.500000\n",
      "2021-02-24 12:33:20,421 : INFO : PROGRESS: pass 0, at document #50000/60095\n",
      "2021-02-24 12:33:20,422 : DEBUG : performing inference on a chunk of 10000 documents\n",
      "2021-02-24 12:33:24,085 : DEBUG : 10000/10000 documents converged within 1000 iterations\n",
      "2021-02-24 12:33:24,113 : INFO : optimized alpha [0.08563079, 0.07608444, 0.048383005]\n",
      "2021-02-24 12:33:24,114 : DEBUG : updating topics\n",
      "2021-02-24 12:33:24,114 : INFO : merging changes from 10000 documents into a model of 60095 documents\n",
      "2021-02-24 12:33:24,115 : INFO : topic #0 (0.086): 0.029*\"motif_60\" + 0.023*\"motif_62\" + 0.021*\"motif_126\" + 0.019*\"motif_84\" + 0.016*\"motif_54\" + 0.015*\"motif_184\" + 0.013*\"motif_17\" + 0.013*\"motif_121\" + 0.013*\"motif_239\" + 0.012*\"motif_31\"\n",
      "2021-02-24 12:33:24,116 : INFO : topic #1 (0.076): 0.046*\"motif_60\" + 0.037*\"motif_37\" + 0.034*\"motif_23\" + 0.032*\"motif_42\" + 0.027*\"motif_40\" + 0.027*\"motif_13\" + 0.026*\"motif_184\" + 0.024*\"motif_19\" + 0.021*\"motif_218\" + 0.021*\"motif_39\"\n",
      "2021-02-24 12:33:24,117 : INFO : topic #2 (0.048): 0.041*\"motif_60\" + 0.030*\"motif_11\" + 0.029*\"motif_12\" + 0.028*\"motif_10\" + 0.026*\"motif_6\" + 0.025*\"motif_9\" + 0.024*\"motif_5\" + 0.023*\"motif_8\" + 0.021*\"motif_219\" + 0.021*\"motif_184\"\n",
      "2021-02-24 12:33:24,117 : INFO : topic diff=0.120483, rho=0.447214\n",
      "2021-02-24 12:33:24,119 : INFO : PROGRESS: pass 0, at document #60000/60095\n",
      "2021-02-24 12:33:24,120 : DEBUG : performing inference on a chunk of 10000 documents\n",
      "2021-02-24 12:33:27,153 : DEBUG : 10000/10000 documents converged within 1000 iterations\n",
      "2021-02-24 12:33:27,181 : INFO : optimized alpha [0.088501446, 0.078755185, 0.045363344]\n",
      "2021-02-24 12:33:27,181 : DEBUG : updating topics\n",
      "2021-02-24 12:33:27,182 : INFO : merging changes from 10000 documents into a model of 60095 documents\n",
      "2021-02-24 12:33:27,183 : INFO : topic #0 (0.089): 0.030*\"motif_60\" + 0.023*\"motif_62\" + 0.021*\"motif_126\" + 0.020*\"motif_84\" + 0.017*\"motif_54\" + 0.014*\"motif_184\" + 0.014*\"motif_17\" + 0.013*\"motif_121\" + 0.013*\"motif_93\" + 0.013*\"motif_86\"\n",
      "2021-02-24 12:33:27,184 : INFO : topic #1 (0.079): 0.047*\"motif_60\" + 0.036*\"motif_37\" + 0.034*\"motif_23\" + 0.032*\"motif_42\" + 0.028*\"motif_184\" + 0.027*\"motif_40\" + 0.026*\"motif_13\" + 0.024*\"motif_19\" + 0.022*\"motif_218\" + 0.020*\"motif_39\"\n",
      "2021-02-24 12:33:27,184 : INFO : topic #2 (0.045): 0.038*\"motif_60\" + 0.032*\"motif_11\" + 0.032*\"motif_12\" + 0.030*\"motif_10\" + 0.028*\"motif_6\" + 0.027*\"motif_9\" + 0.026*\"motif_5\" + 0.025*\"motif_8\" + 0.025*\"motif_219\" + 0.021*\"motif_4\"\n",
      "2021-02-24 12:33:27,185 : INFO : topic diff=0.102566, rho=0.408248\n"
     ]
    },
    {
     "name": "stderr",
     "output_type": "stream",
     "text": [
      "2021-02-24 12:33:27,186 : DEBUG : bound: at document #0\n",
      "2021-02-24 12:33:27,223 : INFO : -5.081 per-word bound, 33.9 perplexity estimate based on a held-out corpus of 95 documents with 2924 words\n",
      "2021-02-24 12:33:27,224 : INFO : PROGRESS: pass 0, at document #60095/60095\n",
      "2021-02-24 12:33:27,224 : DEBUG : performing inference on a chunk of 95 documents\n",
      "2021-02-24 12:33:27,249 : DEBUG : 95/95 documents converged within 1000 iterations\n",
      "2021-02-24 12:33:27,249 : INFO : optimized alpha [0.0945066, 0.08372216, 0.04379249]\n",
      "2021-02-24 12:33:27,250 : DEBUG : updating topics\n",
      "2021-02-24 12:33:27,250 : INFO : merging changes from 95 documents into a model of 60095 documents\n",
      "2021-02-24 12:33:27,252 : INFO : topic #0 (0.095): 0.027*\"motif_60\" + 0.024*\"motif_62\" + 0.018*\"motif_126\" + 0.018*\"motif_84\" + 0.016*\"motif_54\" + 0.015*\"motif_93\" + 0.013*\"motif_2\" + 0.013*\"motif_1\" + 0.013*\"motif_121\" + 0.012*\"motif_86\"\n",
      "2021-02-24 12:33:27,252 : INFO : topic #1 (0.084): 0.048*\"motif_60\" + 0.035*\"motif_37\" + 0.032*\"motif_23\" + 0.030*\"motif_184\" + 0.029*\"motif_42\" + 0.026*\"motif_13\" + 0.025*\"motif_40\" + 0.024*\"motif_218\" + 0.023*\"motif_19\" + 0.020*\"motif_39\"\n",
      "2021-02-24 12:33:27,253 : INFO : topic #2 (0.044): 0.038*\"motif_10\" + 0.038*\"motif_11\" + 0.038*\"motif_12\" + 0.036*\"motif_9\" + 0.033*\"motif_60\" + 0.033*\"motif_6\" + 0.029*\"motif_5\" + 0.029*\"motif_8\" + 0.025*\"motif_219\" + 0.023*\"motif_4\"\n",
      "2021-02-24 12:33:27,253 : INFO : topic diff=0.278502, rho=0.377964\n",
      "2021-02-24 12:33:27,256 : INFO : Epoch 0: Convergence estimate: 2.9110442714476688\n",
      "2021-02-24 12:33:27,259 : INFO : PROGRESS: pass 1, at document #10000/60095\n",
      "2021-02-24 12:33:27,259 : DEBUG : performing inference on a chunk of 10000 documents\n",
      "2021-02-24 12:33:29,843 : DEBUG : 10000/10000 documents converged within 1000 iterations\n",
      "2021-02-24 12:33:29,870 : INFO : optimized alpha [0.09801122, 0.0880942, 0.042061333]\n",
      "2021-02-24 12:33:29,871 : DEBUG : updating topics\n",
      "2021-02-24 12:33:29,871 : INFO : merging changes from 10000 documents into a model of 60095 documents\n",
      "2021-02-24 12:33:29,873 : INFO : topic #0 (0.098): 0.027*\"motif_60\" + 0.024*\"motif_62\" + 0.019*\"motif_126\" + 0.019*\"motif_84\" + 0.017*\"motif_54\" + 0.014*\"motif_93\" + 0.013*\"motif_17\" + 0.013*\"motif_121\" + 0.013*\"motif_86\" + 0.013*\"motif_31\"\n",
      "2021-02-24 12:33:29,873 : INFO : topic #1 (0.088): 0.049*\"motif_60\" + 0.035*\"motif_37\" + 0.032*\"motif_23\" + 0.031*\"motif_184\" + 0.030*\"motif_42\" + 0.025*\"motif_13\" + 0.025*\"motif_40\" + 0.025*\"motif_218\" + 0.022*\"motif_19\" + 0.020*\"motif_39\"\n",
      "2021-02-24 12:33:29,874 : INFO : topic #2 (0.042): 0.039*\"motif_11\" + 0.038*\"motif_12\" + 0.038*\"motif_10\" + 0.035*\"motif_9\" + 0.033*\"motif_6\" + 0.031*\"motif_60\" + 0.030*\"motif_5\" + 0.030*\"motif_8\" + 0.028*\"motif_219\" + 0.024*\"motif_4\"\n",
      "2021-02-24 12:33:29,874 : INFO : topic diff=0.108442, rho=0.353344\n",
      "2021-02-24 12:33:29,876 : INFO : PROGRESS: pass 1, at document #20000/60095\n",
      "2021-02-24 12:33:29,877 : DEBUG : performing inference on a chunk of 10000 documents\n",
      "2021-02-24 12:33:32,510 : DEBUG : 10000/10000 documents converged within 1000 iterations\n",
      "2021-02-24 12:33:32,539 : INFO : optimized alpha [0.101487584, 0.093166545, 0.0407762]\n",
      "2021-02-24 12:33:32,539 : DEBUG : updating topics\n",
      "2021-02-24 12:33:32,540 : INFO : merging changes from 10000 documents into a model of 60095 documents\n",
      "2021-02-24 12:33:32,541 : INFO : topic #0 (0.101): 0.028*\"motif_60\" + 0.024*\"motif_62\" + 0.020*\"motif_126\" + 0.019*\"motif_84\" + 0.017*\"motif_54\" + 0.014*\"motif_93\" + 0.014*\"motif_17\" + 0.013*\"motif_121\" + 0.013*\"motif_86\" + 0.013*\"motif_31\"\n",
      "2021-02-24 12:33:32,542 : INFO : topic #1 (0.093): 0.050*\"motif_60\" + 0.035*\"motif_37\" + 0.032*\"motif_23\" + 0.031*\"motif_184\" + 0.030*\"motif_42\" + 0.025*\"motif_218\" + 0.025*\"motif_40\" + 0.025*\"motif_13\" + 0.022*\"motif_19\" + 0.020*\"motif_166\"\n",
      "2021-02-24 12:33:32,542 : INFO : topic #2 (0.041): 0.039*\"motif_11\" + 0.039*\"motif_12\" + 0.038*\"motif_10\" + 0.035*\"motif_9\" + 0.034*\"motif_6\" + 0.032*\"motif_219\" + 0.031*\"motif_5\" + 0.030*\"motif_8\" + 0.029*\"motif_60\" + 0.025*\"motif_4\"\n",
      "2021-02-24 12:33:32,543 : INFO : topic diff=0.094583, rho=0.353344\n",
      "2021-02-24 12:33:32,545 : INFO : PROGRESS: pass 1, at document #30000/60095\n",
      "2021-02-24 12:33:32,545 : DEBUG : performing inference on a chunk of 10000 documents\n",
      "2021-02-24 12:33:35,443 : DEBUG : 10000/10000 documents converged within 1000 iterations\n",
      "2021-02-24 12:33:35,470 : INFO : optimized alpha [0.105242684, 0.09767462, 0.039811693]\n",
      "2021-02-24 12:33:35,470 : DEBUG : updating topics\n",
      "2021-02-24 12:33:35,471 : INFO : merging changes from 10000 documents into a model of 60095 documents\n",
      "2021-02-24 12:33:35,472 : INFO : topic #0 (0.105): 0.028*\"motif_60\" + 0.024*\"motif_62\" + 0.021*\"motif_126\" + 0.020*\"motif_84\" + 0.017*\"motif_54\" + 0.014*\"motif_17\" + 0.014*\"motif_93\" + 0.013*\"motif_121\" + 0.013*\"motif_31\" + 0.013*\"motif_86\"\n",
      "2021-02-24 12:33:35,473 : INFO : topic #1 (0.098): 0.051*\"motif_60\" + 0.035*\"motif_37\" + 0.032*\"motif_23\" + 0.032*\"motif_184\" + 0.031*\"motif_42\" + 0.026*\"motif_218\" + 0.025*\"motif_40\" + 0.025*\"motif_13\" + 0.022*\"motif_19\" + 0.020*\"motif_166\"\n",
      "2021-02-24 12:33:35,473 : INFO : topic #2 (0.040): 0.040*\"motif_11\" + 0.040*\"motif_12\" + 0.039*\"motif_10\" + 0.035*\"motif_219\" + 0.035*\"motif_9\" + 0.034*\"motif_6\" + 0.032*\"motif_5\" + 0.031*\"motif_8\" + 0.028*\"motif_60\" + 0.026*\"motif_264\"\n",
      "2021-02-24 12:33:35,474 : INFO : topic diff=0.085403, rho=0.353344\n",
      "2021-02-24 12:33:35,475 : INFO : PROGRESS: pass 1, at document #40000/60095\n",
      "2021-02-24 12:33:35,476 : DEBUG : performing inference on a chunk of 10000 documents\n",
      "2021-02-24 12:33:37,825 : DEBUG : 10000/10000 documents converged within 1000 iterations\n",
      "2021-02-24 12:33:37,850 : INFO : optimized alpha [0.10991058, 0.103054024, 0.03915084]\n",
      "2021-02-24 12:33:37,850 : DEBUG : updating topics\n",
      "2021-02-24 12:33:37,851 : INFO : merging changes from 10000 documents into a model of 60095 documents\n",
      "2021-02-24 12:33:37,852 : INFO : topic #0 (0.110): 0.028*\"motif_60\" + 0.024*\"motif_62\" + 0.021*\"motif_126\" + 0.020*\"motif_84\" + 0.018*\"motif_54\" + 0.015*\"motif_17\" + 0.014*\"motif_93\" + 0.014*\"motif_121\" + 0.013*\"motif_31\" + 0.013*\"motif_86\"\n",
      "2021-02-24 12:33:37,853 : INFO : topic #1 (0.103): 0.050*\"motif_60\" + 0.035*\"motif_37\" + 0.033*\"motif_184\" + 0.032*\"motif_23\" + 0.031*\"motif_42\" + 0.026*\"motif_218\" + 0.025*\"motif_40\" + 0.025*\"motif_13\" + 0.022*\"motif_19\" + 0.020*\"motif_166\"\n",
      "2021-02-24 12:33:37,853 : INFO : topic #2 (0.039): 0.041*\"motif_11\" + 0.040*\"motif_12\" + 0.039*\"motif_10\" + 0.038*\"motif_219\" + 0.035*\"motif_6\" + 0.035*\"motif_9\" + 0.032*\"motif_5\" + 0.031*\"motif_8\" + 0.028*\"motif_264\" + 0.027*\"motif_60\"\n",
      "2021-02-24 12:33:37,854 : INFO : topic diff=0.078909, rho=0.353344\n",
      "2021-02-24 12:33:37,855 : INFO : PROGRESS: pass 1, at document #50000/60095\n",
      "2021-02-24 12:33:37,856 : DEBUG : performing inference on a chunk of 10000 documents\n",
      "2021-02-24 12:33:40,145 : DEBUG : 10000/10000 documents converged within 1000 iterations\n",
      "2021-02-24 12:33:40,176 : INFO : optimized alpha [0.11483445, 0.108078405, 0.038595483]\n",
      "2021-02-24 12:33:40,177 : DEBUG : updating topics\n",
      "2021-02-24 12:33:40,178 : INFO : merging changes from 10000 documents into a model of 60095 documents\n",
      "2021-02-24 12:33:40,180 : INFO : topic #0 (0.115): 0.029*\"motif_60\" + 0.025*\"motif_62\" + 0.022*\"motif_126\" + 0.021*\"motif_84\" + 0.018*\"motif_54\" + 0.015*\"motif_17\" + 0.014*\"motif_121\" + 0.014*\"motif_93\" + 0.014*\"motif_31\" + 0.013*\"motif_86\"\n",
      "2021-02-24 12:33:40,181 : INFO : topic #1 (0.108): 0.050*\"motif_60\" + 0.035*\"motif_37\" + 0.033*\"motif_184\" + 0.033*\"motif_23\" + 0.031*\"motif_42\" + 0.026*\"motif_218\" + 0.026*\"motif_40\" + 0.025*\"motif_13\" + 0.023*\"motif_19\" + 0.020*\"motif_166\"\n",
      "2021-02-24 12:33:40,181 : INFO : topic #2 (0.039): 0.041*\"motif_11\" + 0.041*\"motif_219\" + 0.041*\"motif_12\" + 0.039*\"motif_10\" + 0.035*\"motif_6\" + 0.035*\"motif_9\" + 0.033*\"motif_5\" + 0.032*\"motif_8\" + 0.030*\"motif_264\" + 0.027*\"motif_4\"\n",
      "2021-02-24 12:33:40,182 : INFO : topic diff=0.078230, rho=0.353344\n",
      "2021-02-24 12:33:40,184 : INFO : PROGRESS: pass 1, at document #60000/60095\n",
      "2021-02-24 12:33:40,185 : DEBUG : performing inference on a chunk of 10000 documents\n",
      "2021-02-24 12:33:42,838 : DEBUG : 10000/10000 documents converged within 1000 iterations\n",
      "2021-02-24 12:33:42,867 : INFO : optimized alpha [0.11944964, 0.1131393, 0.03825616]\n"
     ]
    },
    {
     "name": "stderr",
     "output_type": "stream",
     "text": [
      "2021-02-24 12:33:42,868 : DEBUG : updating topics\n",
      "2021-02-24 12:33:42,868 : INFO : merging changes from 10000 documents into a model of 60095 documents\n",
      "2021-02-24 12:33:42,870 : INFO : topic #0 (0.119): 0.029*\"motif_60\" + 0.025*\"motif_62\" + 0.022*\"motif_126\" + 0.021*\"motif_84\" + 0.018*\"motif_54\" + 0.015*\"motif_17\" + 0.014*\"motif_121\" + 0.014*\"motif_93\" + 0.014*\"motif_31\" + 0.014*\"motif_86\"\n",
      "2021-02-24 12:33:42,870 : INFO : topic #1 (0.113): 0.051*\"motif_60\" + 0.035*\"motif_37\" + 0.033*\"motif_184\" + 0.033*\"motif_23\" + 0.031*\"motif_42\" + 0.027*\"motif_218\" + 0.025*\"motif_40\" + 0.025*\"motif_13\" + 0.023*\"motif_19\" + 0.021*\"motif_166\"\n",
      "2021-02-24 12:33:42,871 : INFO : topic #2 (0.038): 0.043*\"motif_219\" + 0.042*\"motif_11\" + 0.041*\"motif_12\" + 0.040*\"motif_10\" + 0.036*\"motif_6\" + 0.036*\"motif_9\" + 0.034*\"motif_5\" + 0.032*\"motif_8\" + 0.031*\"motif_264\" + 0.028*\"motif_4\"\n",
      "2021-02-24 12:33:42,872 : INFO : topic diff=0.073180, rho=0.353344\n",
      "2021-02-24 12:33:42,873 : DEBUG : bound: at document #0\n",
      "2021-02-24 12:33:42,910 : INFO : -5.041 per-word bound, 32.9 perplexity estimate based on a held-out corpus of 95 documents with 2924 words\n",
      "2021-02-24 12:33:42,910 : INFO : PROGRESS: pass 1, at document #60095/60095\n",
      "2021-02-24 12:33:42,911 : DEBUG : performing inference on a chunk of 95 documents\n",
      "2021-02-24 12:33:42,932 : DEBUG : 95/95 documents converged within 1000 iterations\n",
      "2021-02-24 12:33:42,933 : INFO : optimized alpha [0.124078624, 0.117803946, 0.03856354]\n",
      "2021-02-24 12:33:42,933 : DEBUG : updating topics\n",
      "2021-02-24 12:33:42,934 : INFO : merging changes from 95 documents into a model of 60095 documents\n",
      "2021-02-24 12:33:42,935 : INFO : topic #0 (0.124): 0.027*\"motif_60\" + 0.025*\"motif_62\" + 0.019*\"motif_126\" + 0.019*\"motif_84\" + 0.018*\"motif_54\" + 0.016*\"motif_93\" + 0.013*\"motif_17\" + 0.013*\"motif_121\" + 0.013*\"motif_86\" + 0.013*\"motif_122\"\n",
      "2021-02-24 12:33:42,936 : INFO : topic #1 (0.118): 0.051*\"motif_60\" + 0.035*\"motif_184\" + 0.034*\"motif_37\" + 0.031*\"motif_23\" + 0.028*\"motif_42\" + 0.028*\"motif_218\" + 0.025*\"motif_13\" + 0.024*\"motif_40\" + 0.021*\"motif_19\" + 0.021*\"motif_166\"\n",
      "2021-02-24 12:33:42,936 : INFO : topic #2 (0.039): 0.047*\"motif_10\" + 0.047*\"motif_11\" + 0.046*\"motif_12\" + 0.043*\"motif_9\" + 0.041*\"motif_219\" + 0.040*\"motif_6\" + 0.036*\"motif_5\" + 0.036*\"motif_8\" + 0.029*\"motif_264\" + 0.028*\"motif_4\"\n",
      "2021-02-24 12:33:42,937 : INFO : topic diff=0.258034, rho=0.353344\n",
      "2021-02-24 12:33:42,940 : INFO : Epoch 1: Convergence estimate: 2.0161873330190163\n",
      "2021-02-24 12:33:42,943 : INFO : PROGRESS: pass 2, at document #10000/60095\n",
      "2021-02-24 12:33:42,944 : DEBUG : performing inference on a chunk of 10000 documents\n",
      "2021-02-24 12:33:45,514 : DEBUG : 10000/10000 documents converged within 1000 iterations\n",
      "2021-02-24 12:33:45,542 : INFO : optimized alpha [0.12915726, 0.123671226, 0.038362667]\n",
      "2021-02-24 12:33:45,543 : DEBUG : updating topics\n",
      "2021-02-24 12:33:45,544 : INFO : merging changes from 10000 documents into a model of 60095 documents\n",
      "2021-02-24 12:33:45,545 : INFO : topic #0 (0.129): 0.027*\"motif_60\" + 0.025*\"motif_62\" + 0.020*\"motif_126\" + 0.019*\"motif_84\" + 0.018*\"motif_54\" + 0.015*\"motif_93\" + 0.014*\"motif_17\" + 0.014*\"motif_121\" + 0.013*\"motif_86\" + 0.013*\"motif_31\"\n",
      "2021-02-24 12:33:45,545 : INFO : topic #1 (0.124): 0.052*\"motif_60\" + 0.035*\"motif_184\" + 0.034*\"motif_37\" + 0.031*\"motif_23\" + 0.029*\"motif_42\" + 0.028*\"motif_218\" + 0.024*\"motif_13\" + 0.024*\"motif_40\" + 0.021*\"motif_19\" + 0.021*\"motif_166\"\n",
      "2021-02-24 12:33:45,546 : INFO : topic #2 (0.038): 0.046*\"motif_11\" + 0.046*\"motif_12\" + 0.046*\"motif_10\" + 0.044*\"motif_219\" + 0.042*\"motif_9\" + 0.039*\"motif_6\" + 0.036*\"motif_5\" + 0.035*\"motif_8\" + 0.031*\"motif_264\" + 0.029*\"motif_4\"\n",
      "2021-02-24 12:33:45,547 : INFO : topic diff=0.095407, rho=0.333158\n",
      "2021-02-24 12:33:45,548 : INFO : PROGRESS: pass 2, at document #20000/60095\n",
      "2021-02-24 12:33:45,549 : DEBUG : performing inference on a chunk of 10000 documents\n",
      "2021-02-24 12:33:47,784 : DEBUG : 10000/10000 documents converged within 1000 iterations\n",
      "2021-02-24 12:33:47,810 : INFO : optimized alpha [0.13405347, 0.13017751, 0.038329232]\n",
      "2021-02-24 12:33:47,810 : DEBUG : updating topics\n",
      "2021-02-24 12:33:47,811 : INFO : merging changes from 10000 documents into a model of 60095 documents\n",
      "2021-02-24 12:33:47,812 : INFO : topic #0 (0.134): 0.027*\"motif_60\" + 0.025*\"motif_62\" + 0.021*\"motif_126\" + 0.020*\"motif_84\" + 0.018*\"motif_54\" + 0.015*\"motif_93\" + 0.015*\"motif_17\" + 0.014*\"motif_121\" + 0.014*\"motif_31\" + 0.014*\"motif_86\"\n",
      "2021-02-24 12:33:47,813 : INFO : topic #1 (0.130): 0.052*\"motif_60\" + 0.035*\"motif_184\" + 0.034*\"motif_37\" + 0.032*\"motif_23\" + 0.030*\"motif_42\" + 0.028*\"motif_218\" + 0.025*\"motif_40\" + 0.024*\"motif_13\" + 0.022*\"motif_19\" + 0.021*\"motif_166\"\n",
      "2021-02-24 12:33:47,813 : INFO : topic #2 (0.038): 0.046*\"motif_219\" + 0.046*\"motif_11\" + 0.046*\"motif_12\" + 0.045*\"motif_10\" + 0.041*\"motif_9\" + 0.039*\"motif_6\" + 0.036*\"motif_5\" + 0.035*\"motif_8\" + 0.033*\"motif_264\" + 0.029*\"motif_4\"\n",
      "2021-02-24 12:33:47,814 : INFO : topic diff=0.084989, rho=0.333158\n",
      "2021-02-24 12:33:47,816 : INFO : PROGRESS: pass 2, at document #30000/60095\n",
      "2021-02-24 12:33:47,817 : DEBUG : performing inference on a chunk of 10000 documents\n",
      "2021-02-24 12:33:49,978 : DEBUG : 10000/10000 documents converged within 1000 iterations\n",
      "2021-02-24 12:33:50,005 : INFO : optimized alpha [0.13879244, 0.13557582, 0.038361326]\n",
      "2021-02-24 12:33:50,005 : DEBUG : updating topics\n",
      "2021-02-24 12:33:50,006 : INFO : merging changes from 10000 documents into a model of 60095 documents\n",
      "2021-02-24 12:33:50,007 : INFO : topic #0 (0.139): 0.028*\"motif_60\" + 0.025*\"motif_62\" + 0.022*\"motif_126\" + 0.020*\"motif_84\" + 0.018*\"motif_54\" + 0.015*\"motif_17\" + 0.015*\"motif_93\" + 0.014*\"motif_121\" + 0.014*\"motif_31\" + 0.013*\"motif_86\"\n",
      "2021-02-24 12:33:50,007 : INFO : topic #1 (0.136): 0.052*\"motif_60\" + 0.036*\"motif_184\" + 0.034*\"motif_37\" + 0.032*\"motif_23\" + 0.030*\"motif_42\" + 0.029*\"motif_218\" + 0.025*\"motif_40\" + 0.024*\"motif_13\" + 0.022*\"motif_19\" + 0.021*\"motif_166\"\n",
      "2021-02-24 12:33:50,008 : INFO : topic #2 (0.038): 0.048*\"motif_219\" + 0.046*\"motif_11\" + 0.046*\"motif_12\" + 0.044*\"motif_10\" + 0.040*\"motif_9\" + 0.039*\"motif_6\" + 0.036*\"motif_5\" + 0.035*\"motif_8\" + 0.034*\"motif_264\" + 0.029*\"motif_4\"\n",
      "2021-02-24 12:33:50,009 : INFO : topic diff=0.076449, rho=0.333158\n",
      "2021-02-24 12:33:50,010 : INFO : PROGRESS: pass 2, at document #40000/60095\n",
      "2021-02-24 12:33:50,011 : DEBUG : performing inference on a chunk of 10000 documents\n",
      "2021-02-24 12:33:52,653 : DEBUG : 10000/10000 documents converged within 1000 iterations\n",
      "2021-02-24 12:33:52,679 : INFO : optimized alpha [0.14427456, 0.14159895, 0.038512517]\n",
      "2021-02-24 12:33:52,679 : DEBUG : updating topics\n",
      "2021-02-24 12:33:52,680 : INFO : merging changes from 10000 documents into a model of 60095 documents\n",
      "2021-02-24 12:33:52,681 : INFO : topic #0 (0.144): 0.028*\"motif_60\" + 0.025*\"motif_62\" + 0.022*\"motif_126\" + 0.020*\"motif_84\" + 0.019*\"motif_54\" + 0.015*\"motif_17\" + 0.014*\"motif_93\" + 0.014*\"motif_121\" + 0.014*\"motif_31\" + 0.014*\"motif_86\"\n",
      "2021-02-24 12:33:52,681 : INFO : topic #1 (0.142): 0.052*\"motif_60\" + 0.036*\"motif_184\" + 0.035*\"motif_37\" + 0.032*\"motif_23\" + 0.030*\"motif_42\" + 0.029*\"motif_218\" + 0.025*\"motif_40\" + 0.025*\"motif_13\" + 0.022*\"motif_19\" + 0.021*\"motif_166\"\n",
      "2021-02-24 12:33:52,682 : INFO : topic #2 (0.039): 0.050*\"motif_219\" + 0.046*\"motif_11\" + 0.046*\"motif_12\" + 0.044*\"motif_10\" + 0.040*\"motif_6\" + 0.039*\"motif_9\" + 0.037*\"motif_5\" + 0.036*\"motif_264\" + 0.035*\"motif_8\" + 0.030*\"motif_4\"\n",
      "2021-02-24 12:33:52,682 : INFO : topic diff=0.068937, rho=0.333158\n",
      "2021-02-24 12:33:52,684 : INFO : PROGRESS: pass 2, at document #50000/60095\n",
      "2021-02-24 12:33:52,684 : DEBUG : performing inference on a chunk of 10000 documents\n",
      "2021-02-24 12:33:54,716 : DEBUG : 10000/10000 documents converged within 1000 iterations\n",
      "2021-02-24 12:33:54,741 : INFO : optimized alpha [0.14983791, 0.14715567, 0.038631618]\n",
      "2021-02-24 12:33:54,742 : DEBUG : updating topics\n",
      "2021-02-24 12:33:54,742 : INFO : merging changes from 10000 documents into a model of 60095 documents\n",
      "2021-02-24 12:33:54,743 : INFO : topic #0 (0.150): 0.028*\"motif_60\" + 0.026*\"motif_62\" + 0.023*\"motif_126\" + 0.021*\"motif_84\" + 0.019*\"motif_54\" + 0.015*\"motif_17\" + 0.015*\"motif_121\" + 0.014*\"motif_31\" + 0.014*\"motif_93\" + 0.014*\"motif_86\"\n"
     ]
    },
    {
     "name": "stderr",
     "output_type": "stream",
     "text": [
      "2021-02-24 12:33:54,744 : INFO : topic #1 (0.147): 0.052*\"motif_60\" + 0.036*\"motif_184\" + 0.035*\"motif_37\" + 0.032*\"motif_23\" + 0.031*\"motif_42\" + 0.029*\"motif_218\" + 0.025*\"motif_40\" + 0.025*\"motif_13\" + 0.022*\"motif_19\" + 0.021*\"motif_166\"\n",
      "2021-02-24 12:33:54,745 : INFO : topic #2 (0.039): 0.052*\"motif_219\" + 0.046*\"motif_11\" + 0.046*\"motif_12\" + 0.044*\"motif_10\" + 0.039*\"motif_6\" + 0.039*\"motif_9\" + 0.037*\"motif_5\" + 0.037*\"motif_264\" + 0.035*\"motif_8\" + 0.030*\"motif_4\"\n",
      "2021-02-24 12:33:54,745 : INFO : topic diff=0.069256, rho=0.333158\n",
      "2021-02-24 12:33:54,747 : INFO : PROGRESS: pass 2, at document #60000/60095\n",
      "2021-02-24 12:33:54,747 : DEBUG : performing inference on a chunk of 10000 documents\n",
      "2021-02-24 12:33:56,810 : DEBUG : 10000/10000 documents converged within 1000 iterations\n",
      "2021-02-24 12:33:56,837 : INFO : optimized alpha [0.15484232, 0.15223075, 0.038841385]\n",
      "2021-02-24 12:33:56,837 : DEBUG : updating topics\n",
      "2021-02-24 12:33:56,838 : INFO : merging changes from 10000 documents into a model of 60095 documents\n",
      "2021-02-24 12:33:56,839 : INFO : topic #0 (0.155): 0.029*\"motif_60\" + 0.026*\"motif_62\" + 0.023*\"motif_126\" + 0.021*\"motif_84\" + 0.019*\"motif_54\" + 0.015*\"motif_17\" + 0.015*\"motif_121\" + 0.014*\"motif_31\" + 0.014*\"motif_93\" + 0.014*\"motif_26\"\n",
      "2021-02-24 12:33:56,839 : INFO : topic #1 (0.152): 0.052*\"motif_60\" + 0.036*\"motif_184\" + 0.035*\"motif_37\" + 0.032*\"motif_23\" + 0.031*\"motif_42\" + 0.029*\"motif_218\" + 0.025*\"motif_40\" + 0.025*\"motif_13\" + 0.022*\"motif_19\" + 0.022*\"motif_166\"\n",
      "2021-02-24 12:33:56,840 : INFO : topic #2 (0.039): 0.054*\"motif_219\" + 0.046*\"motif_11\" + 0.046*\"motif_12\" + 0.044*\"motif_10\" + 0.040*\"motif_6\" + 0.039*\"motif_9\" + 0.038*\"motif_264\" + 0.037*\"motif_5\" + 0.035*\"motif_8\" + 0.031*\"motif_4\"\n",
      "2021-02-24 12:33:56,841 : INFO : topic diff=0.063379, rho=0.333158\n",
      "2021-02-24 12:33:56,842 : DEBUG : bound: at document #0\n",
      "2021-02-24 12:33:56,875 : INFO : -5.029 per-word bound, 32.6 perplexity estimate based on a held-out corpus of 95 documents with 2924 words\n",
      "2021-02-24 12:33:56,876 : INFO : PROGRESS: pass 2, at document #60095/60095\n",
      "2021-02-24 12:33:56,876 : DEBUG : performing inference on a chunk of 95 documents\n",
      "2021-02-24 12:33:56,896 : DEBUG : 95/95 documents converged within 1000 iterations\n",
      "2021-02-24 12:33:56,897 : INFO : optimized alpha [0.15685917, 0.1549477, 0.039542966]\n",
      "2021-02-24 12:33:56,897 : DEBUG : updating topics\n",
      "2021-02-24 12:33:56,898 : INFO : merging changes from 95 documents into a model of 60095 documents\n",
      "2021-02-24 12:33:56,899 : INFO : topic #0 (0.157): 0.026*\"motif_60\" + 0.026*\"motif_62\" + 0.020*\"motif_126\" + 0.019*\"motif_84\" + 0.019*\"motif_54\" + 0.017*\"motif_93\" + 0.014*\"motif_17\" + 0.014*\"motif_121\" + 0.014*\"motif_86\" + 0.013*\"motif_31\"\n",
      "2021-02-24 12:33:56,900 : INFO : topic #1 (0.155): 0.052*\"motif_60\" + 0.038*\"motif_184\" + 0.034*\"motif_37\" + 0.031*\"motif_23\" + 0.030*\"motif_218\" + 0.028*\"motif_42\" + 0.024*\"motif_13\" + 0.024*\"motif_40\" + 0.022*\"motif_166\" + 0.021*\"motif_19\"\n",
      "2021-02-24 12:33:56,900 : INFO : topic #2 (0.040): 0.051*\"motif_10\" + 0.050*\"motif_11\" + 0.050*\"motif_219\" + 0.050*\"motif_12\" + 0.047*\"motif_9\" + 0.043*\"motif_6\" + 0.039*\"motif_5\" + 0.039*\"motif_8\" + 0.034*\"motif_264\" + 0.031*\"motif_4\"\n",
      "2021-02-24 12:33:56,901 : INFO : topic diff=0.239698, rho=0.333158\n",
      "2021-02-24 12:33:56,903 : INFO : Epoch 2: Convergence estimate: 1.6794871794871793\n",
      "2021-02-24 12:33:56,908 : INFO : PROGRESS: pass 3, at document #10000/60095\n",
      "2021-02-24 12:33:56,909 : DEBUG : performing inference on a chunk of 10000 documents\n",
      "2021-02-24 12:33:58,864 : DEBUG : 10000/10000 documents converged within 1000 iterations\n",
      "2021-02-24 12:33:58,888 : INFO : optimized alpha [0.16231215, 0.16105044, 0.03972144]\n",
      "2021-02-24 12:33:58,889 : DEBUG : updating topics\n",
      "2021-02-24 12:33:58,889 : INFO : merging changes from 10000 documents into a model of 60095 documents\n",
      "2021-02-24 12:33:58,890 : INFO : topic #0 (0.162): 0.026*\"motif_60\" + 0.026*\"motif_62\" + 0.021*\"motif_126\" + 0.020*\"motif_84\" + 0.019*\"motif_54\" + 0.016*\"motif_93\" + 0.014*\"motif_17\" + 0.014*\"motif_121\" + 0.014*\"motif_31\" + 0.014*\"motif_86\"\n",
      "2021-02-24 12:33:58,891 : INFO : topic #1 (0.161): 0.053*\"motif_60\" + 0.037*\"motif_184\" + 0.034*\"motif_37\" + 0.031*\"motif_23\" + 0.030*\"motif_218\" + 0.029*\"motif_42\" + 0.024*\"motif_13\" + 0.024*\"motif_40\" + 0.022*\"motif_166\" + 0.021*\"motif_19\"\n",
      "2021-02-24 12:33:58,891 : INFO : topic #2 (0.040): 0.052*\"motif_219\" + 0.050*\"motif_11\" + 0.049*\"motif_12\" + 0.049*\"motif_10\" + 0.045*\"motif_9\" + 0.042*\"motif_6\" + 0.039*\"motif_5\" + 0.038*\"motif_8\" + 0.036*\"motif_264\" + 0.031*\"motif_4\"\n",
      "2021-02-24 12:33:58,892 : INFO : topic diff=0.083483, rho=0.316078\n",
      "2021-02-24 12:33:58,893 : INFO : PROGRESS: pass 3, at document #20000/60095\n",
      "2021-02-24 12:33:58,894 : DEBUG : performing inference on a chunk of 10000 documents\n",
      "2021-02-24 12:34:00,832 : DEBUG : 10000/10000 documents converged within 1000 iterations\n",
      "2021-02-24 12:34:00,857 : INFO : optimized alpha [0.16737875, 0.16767079, 0.0399792]\n",
      "2021-02-24 12:34:00,857 : DEBUG : updating topics\n",
      "2021-02-24 12:34:00,858 : INFO : merging changes from 10000 documents into a model of 60095 documents\n",
      "2021-02-24 12:34:00,859 : INFO : topic #0 (0.167): 0.027*\"motif_60\" + 0.026*\"motif_62\" + 0.021*\"motif_126\" + 0.020*\"motif_84\" + 0.019*\"motif_54\" + 0.015*\"motif_93\" + 0.015*\"motif_17\" + 0.014*\"motif_121\" + 0.014*\"motif_31\" + 0.014*\"motif_86\"\n",
      "2021-02-24 12:34:00,859 : INFO : topic #1 (0.168): 0.053*\"motif_60\" + 0.037*\"motif_184\" + 0.034*\"motif_37\" + 0.031*\"motif_23\" + 0.030*\"motif_218\" + 0.030*\"motif_42\" + 0.024*\"motif_40\" + 0.024*\"motif_13\" + 0.022*\"motif_166\" + 0.021*\"motif_19\"\n",
      "2021-02-24 12:34:00,860 : INFO : topic #2 (0.040): 0.055*\"motif_219\" + 0.049*\"motif_11\" + 0.049*\"motif_12\" + 0.048*\"motif_10\" + 0.043*\"motif_9\" + 0.042*\"motif_6\" + 0.039*\"motif_5\" + 0.038*\"motif_264\" + 0.038*\"motif_8\" + 0.031*\"motif_4\"\n",
      "2021-02-24 12:34:00,861 : INFO : topic diff=0.075115, rho=0.316078\n",
      "2021-02-24 12:34:00,862 : INFO : PROGRESS: pass 3, at document #30000/60095\n",
      "2021-02-24 12:34:00,862 : DEBUG : performing inference on a chunk of 10000 documents\n",
      "2021-02-24 12:34:02,808 : DEBUG : 10000/10000 documents converged within 1000 iterations\n",
      "2021-02-24 12:34:02,834 : INFO : optimized alpha [0.17176485, 0.17258978, 0.040259276]\n",
      "2021-02-24 12:34:02,835 : DEBUG : updating topics\n",
      "2021-02-24 12:34:02,835 : INFO : merging changes from 10000 documents into a model of 60095 documents\n",
      "2021-02-24 12:34:02,836 : INFO : topic #0 (0.172): 0.027*\"motif_60\" + 0.026*\"motif_62\" + 0.022*\"motif_126\" + 0.021*\"motif_84\" + 0.019*\"motif_54\" + 0.015*\"motif_17\" + 0.015*\"motif_93\" + 0.014*\"motif_121\" + 0.014*\"motif_31\" + 0.014*\"motif_86\"\n",
      "2021-02-24 12:34:02,837 : INFO : topic #1 (0.173): 0.053*\"motif_60\" + 0.038*\"motif_184\" + 0.034*\"motif_37\" + 0.032*\"motif_23\" + 0.030*\"motif_42\" + 0.030*\"motif_218\" + 0.025*\"motif_40\" + 0.024*\"motif_13\" + 0.022*\"motif_166\" + 0.022*\"motif_19\"\n",
      "2021-02-24 12:34:02,837 : INFO : topic #2 (0.040): 0.056*\"motif_219\" + 0.049*\"motif_11\" + 0.049*\"motif_12\" + 0.047*\"motif_10\" + 0.043*\"motif_9\" + 0.042*\"motif_6\" + 0.039*\"motif_5\" + 0.039*\"motif_264\" + 0.038*\"motif_8\" + 0.031*\"motif_4\"\n",
      "2021-02-24 12:34:02,838 : INFO : topic diff=0.066640, rho=0.316078\n",
      "2021-02-24 12:34:02,839 : INFO : PROGRESS: pass 3, at document #40000/60095\n",
      "2021-02-24 12:34:02,840 : DEBUG : performing inference on a chunk of 10000 documents\n",
      "2021-02-24 12:34:04,953 : DEBUG : 10000/10000 documents converged within 1000 iterations\n",
      "2021-02-24 12:34:04,981 : INFO : optimized alpha [0.1771183, 0.17821845, 0.040605616]\n",
      "2021-02-24 12:34:04,982 : DEBUG : updating topics\n",
      "2021-02-24 12:34:04,982 : INFO : merging changes from 10000 documents into a model of 60095 documents\n",
      "2021-02-24 12:34:04,983 : INFO : topic #0 (0.177): 0.027*\"motif_60\" + 0.026*\"motif_62\" + 0.022*\"motif_126\" + 0.020*\"motif_84\" + 0.019*\"motif_54\" + 0.015*\"motif_17\" + 0.015*\"motif_93\" + 0.014*\"motif_121\" + 0.014*\"motif_31\" + 0.014*\"motif_86\"\n",
      "2021-02-24 12:34:04,984 : INFO : topic #1 (0.178): 0.053*\"motif_60\" + 0.038*\"motif_184\" + 0.035*\"motif_37\" + 0.032*\"motif_23\" + 0.030*\"motif_42\" + 0.030*\"motif_218\" + 0.025*\"motif_40\" + 0.024*\"motif_13\" + 0.022*\"motif_166\" + 0.022*\"motif_19\"\n",
      "2021-02-24 12:34:04,985 : INFO : topic #2 (0.041): 0.057*\"motif_219\" + 0.049*\"motif_11\" + 0.048*\"motif_12\" + 0.047*\"motif_10\" + 0.042*\"motif_9\" + 0.042*\"motif_6\" + 0.040*\"motif_264\" + 0.039*\"motif_5\" + 0.038*\"motif_8\" + 0.032*\"motif_4\"\n"
     ]
    },
    {
     "name": "stderr",
     "output_type": "stream",
     "text": [
      "2021-02-24 12:34:04,985 : INFO : topic diff=0.059576, rho=0.316078\n",
      "2021-02-24 12:34:04,987 : INFO : PROGRESS: pass 3, at document #50000/60095\n",
      "2021-02-24 12:34:04,988 : DEBUG : performing inference on a chunk of 10000 documents\n",
      "2021-02-24 12:34:07,154 : DEBUG : 10000/10000 documents converged within 1000 iterations\n",
      "2021-02-24 12:34:07,183 : INFO : optimized alpha [0.1823466, 0.18310863, 0.04088225]\n",
      "2021-02-24 12:34:07,183 : DEBUG : updating topics\n",
      "2021-02-24 12:34:07,184 : INFO : merging changes from 10000 documents into a model of 60095 documents\n",
      "2021-02-24 12:34:07,185 : INFO : topic #0 (0.182): 0.028*\"motif_60\" + 0.026*\"motif_62\" + 0.023*\"motif_126\" + 0.021*\"motif_84\" + 0.019*\"motif_54\" + 0.016*\"motif_17\" + 0.015*\"motif_121\" + 0.015*\"motif_31\" + 0.014*\"motif_93\" + 0.014*\"motif_26\"\n",
      "2021-02-24 12:34:07,185 : INFO : topic #1 (0.183): 0.052*\"motif_60\" + 0.038*\"motif_184\" + 0.035*\"motif_37\" + 0.032*\"motif_23\" + 0.031*\"motif_42\" + 0.030*\"motif_218\" + 0.025*\"motif_40\" + 0.025*\"motif_13\" + 0.022*\"motif_166\" + 0.022*\"motif_19\"\n",
      "2021-02-24 12:34:07,186 : INFO : topic #2 (0.041): 0.059*\"motif_219\" + 0.049*\"motif_11\" + 0.048*\"motif_12\" + 0.046*\"motif_10\" + 0.042*\"motif_6\" + 0.042*\"motif_9\" + 0.040*\"motif_264\" + 0.039*\"motif_5\" + 0.037*\"motif_8\" + 0.032*\"motif_4\"\n",
      "2021-02-24 12:34:07,186 : INFO : topic diff=0.060692, rho=0.316078\n",
      "2021-02-24 12:34:07,188 : INFO : PROGRESS: pass 3, at document #60000/60095\n",
      "2021-02-24 12:34:07,188 : DEBUG : performing inference on a chunk of 10000 documents\n",
      "2021-02-24 12:34:09,296 : DEBUG : 10000/10000 documents converged within 1000 iterations\n",
      "2021-02-24 12:34:09,324 : INFO : optimized alpha [0.1868389, 0.18745208, 0.041244738]\n",
      "2021-02-24 12:34:09,325 : DEBUG : updating topics\n",
      "2021-02-24 12:34:09,325 : INFO : merging changes from 10000 documents into a model of 60095 documents\n",
      "2021-02-24 12:34:09,326 : INFO : topic #0 (0.187): 0.028*\"motif_60\" + 0.026*\"motif_62\" + 0.023*\"motif_126\" + 0.021*\"motif_84\" + 0.019*\"motif_54\" + 0.015*\"motif_17\" + 0.015*\"motif_121\" + 0.015*\"motif_31\" + 0.014*\"motif_93\" + 0.014*\"motif_26\"\n",
      "2021-02-24 12:34:09,327 : INFO : topic #1 (0.187): 0.053*\"motif_60\" + 0.038*\"motif_184\" + 0.035*\"motif_37\" + 0.032*\"motif_23\" + 0.031*\"motif_42\" + 0.030*\"motif_218\" + 0.025*\"motif_40\" + 0.025*\"motif_13\" + 0.022*\"motif_166\" + 0.022*\"motif_19\"\n",
      "2021-02-24 12:34:09,328 : INFO : topic #2 (0.041): 0.060*\"motif_219\" + 0.049*\"motif_11\" + 0.048*\"motif_12\" + 0.047*\"motif_10\" + 0.042*\"motif_6\" + 0.042*\"motif_9\" + 0.041*\"motif_264\" + 0.039*\"motif_5\" + 0.037*\"motif_8\" + 0.032*\"motif_4\"\n",
      "2021-02-24 12:34:09,328 : INFO : topic diff=0.055374, rho=0.316078\n",
      "2021-02-24 12:34:09,330 : DEBUG : bound: at document #0\n",
      "2021-02-24 12:34:09,368 : INFO : -5.022 per-word bound, 32.5 perplexity estimate based on a held-out corpus of 95 documents with 2924 words\n",
      "2021-02-24 12:34:09,369 : INFO : PROGRESS: pass 3, at document #60095/60095\n",
      "2021-02-24 12:34:09,369 : DEBUG : performing inference on a chunk of 95 documents\n",
      "2021-02-24 12:34:09,389 : DEBUG : 95/95 documents converged within 1000 iterations\n",
      "2021-02-24 12:34:09,389 : INFO : optimized alpha [0.18590188, 0.18747765, 0.04199592]\n",
      "2021-02-24 12:34:09,390 : DEBUG : updating topics\n",
      "2021-02-24 12:34:09,390 : INFO : merging changes from 95 documents into a model of 60095 documents\n",
      "2021-02-24 12:34:09,392 : INFO : topic #0 (0.186): 0.026*\"motif_62\" + 0.026*\"motif_60\" + 0.020*\"motif_126\" + 0.019*\"motif_84\" + 0.019*\"motif_54\" + 0.017*\"motif_93\" + 0.014*\"motif_17\" + 0.014*\"motif_121\" + 0.014*\"motif_86\" + 0.013*\"motif_31\"\n",
      "2021-02-24 12:34:09,392 : INFO : topic #1 (0.187): 0.052*\"motif_60\" + 0.039*\"motif_184\" + 0.034*\"motif_37\" + 0.031*\"motif_23\" + 0.031*\"motif_218\" + 0.028*\"motif_42\" + 0.024*\"motif_13\" + 0.024*\"motif_40\" + 0.022*\"motif_166\" + 0.021*\"motif_19\"\n",
      "2021-02-24 12:34:09,393 : INFO : topic #2 (0.042): 0.055*\"motif_219\" + 0.052*\"motif_10\" + 0.052*\"motif_11\" + 0.052*\"motif_12\" + 0.048*\"motif_9\" + 0.045*\"motif_6\" + 0.040*\"motif_5\" + 0.040*\"motif_8\" + 0.037*\"motif_264\" + 0.032*\"motif_4\"\n",
      "2021-02-24 12:34:09,393 : INFO : topic diff=0.223222, rho=0.316078\n",
      "2021-02-24 12:34:09,396 : INFO : Epoch 3: Convergence estimate: 1.0\n",
      "2021-02-24 12:34:09,404 : INFO : PROGRESS: pass 4, at document #10000/60095\n",
      "2021-02-24 12:34:09,404 : DEBUG : performing inference on a chunk of 10000 documents\n",
      "2021-02-24 12:34:11,556 : DEBUG : 10000/10000 documents converged within 1000 iterations\n",
      "2021-02-24 12:34:11,583 : INFO : optimized alpha [0.19078706, 0.19282836, 0.042244833]\n",
      "2021-02-24 12:34:11,585 : DEBUG : updating topics\n",
      "2021-02-24 12:34:11,585 : INFO : merging changes from 10000 documents into a model of 60095 documents\n",
      "2021-02-24 12:34:11,586 : INFO : topic #0 (0.191): 0.026*\"motif_60\" + 0.026*\"motif_62\" + 0.021*\"motif_126\" + 0.020*\"motif_84\" + 0.019*\"motif_54\" + 0.016*\"motif_93\" + 0.015*\"motif_17\" + 0.014*\"motif_121\" + 0.014*\"motif_31\" + 0.014*\"motif_86\"\n",
      "2021-02-24 12:34:11,587 : INFO : topic #1 (0.193): 0.053*\"motif_60\" + 0.039*\"motif_184\" + 0.034*\"motif_37\" + 0.031*\"motif_23\" + 0.031*\"motif_218\" + 0.029*\"motif_42\" + 0.024*\"motif_13\" + 0.024*\"motif_40\" + 0.022*\"motif_166\" + 0.021*\"motif_19\"\n",
      "2021-02-24 12:34:11,588 : INFO : topic #2 (0.042): 0.057*\"motif_219\" + 0.052*\"motif_11\" + 0.051*\"motif_12\" + 0.051*\"motif_10\" + 0.047*\"motif_9\" + 0.044*\"motif_6\" + 0.040*\"motif_5\" + 0.039*\"motif_8\" + 0.039*\"motif_264\" + 0.032*\"motif_4\"\n",
      "2021-02-24 12:34:11,589 : INFO : topic diff=0.074772, rho=0.301381\n",
      "2021-02-24 12:34:11,591 : INFO : PROGRESS: pass 4, at document #20000/60095\n",
      "2021-02-24 12:34:11,592 : DEBUG : performing inference on a chunk of 10000 documents\n",
      "2021-02-24 12:34:13,758 : DEBUG : 10000/10000 documents converged within 1000 iterations\n",
      "2021-02-24 12:34:13,785 : INFO : optimized alpha [0.19554353, 0.19889967, 0.042605594]\n",
      "2021-02-24 12:34:13,786 : DEBUG : updating topics\n",
      "2021-02-24 12:34:13,787 : INFO : merging changes from 10000 documents into a model of 60095 documents\n",
      "2021-02-24 12:34:13,788 : INFO : topic #0 (0.196): 0.027*\"motif_60\" + 0.026*\"motif_62\" + 0.021*\"motif_126\" + 0.020*\"motif_84\" + 0.019*\"motif_54\" + 0.015*\"motif_93\" + 0.015*\"motif_17\" + 0.014*\"motif_31\" + 0.014*\"motif_121\" + 0.014*\"motif_86\"\n",
      "2021-02-24 12:34:13,788 : INFO : topic #1 (0.199): 0.053*\"motif_60\" + 0.039*\"motif_184\" + 0.034*\"motif_37\" + 0.031*\"motif_23\" + 0.031*\"motif_218\" + 0.030*\"motif_42\" + 0.024*\"motif_40\" + 0.024*\"motif_13\" + 0.023*\"motif_166\" + 0.021*\"motif_19\"\n",
      "2021-02-24 12:34:13,789 : INFO : topic #2 (0.043): 0.059*\"motif_219\" + 0.051*\"motif_11\" + 0.051*\"motif_12\" + 0.050*\"motif_10\" + 0.045*\"motif_9\" + 0.044*\"motif_6\" + 0.041*\"motif_264\" + 0.040*\"motif_5\" + 0.039*\"motif_8\" + 0.032*\"motif_4\"\n",
      "2021-02-24 12:34:13,790 : INFO : topic diff=0.067849, rho=0.301381\n",
      "2021-02-24 12:34:13,792 : INFO : PROGRESS: pass 4, at document #30000/60095\n",
      "2021-02-24 12:34:13,792 : DEBUG : performing inference on a chunk of 10000 documents\n",
      "2021-02-24 12:34:15,886 : DEBUG : 10000/10000 documents converged within 1000 iterations\n",
      "2021-02-24 12:34:15,914 : INFO : optimized alpha [0.1994737, 0.20319347, 0.042952873]\n",
      "2021-02-24 12:34:15,915 : DEBUG : updating topics\n",
      "2021-02-24 12:34:15,915 : INFO : merging changes from 10000 documents into a model of 60095 documents\n",
      "2021-02-24 12:34:15,917 : INFO : topic #0 (0.199): 0.027*\"motif_60\" + 0.026*\"motif_62\" + 0.022*\"motif_126\" + 0.021*\"motif_84\" + 0.019*\"motif_54\" + 0.015*\"motif_17\" + 0.015*\"motif_93\" + 0.014*\"motif_31\" + 0.014*\"motif_121\" + 0.014*\"motif_26\"\n",
      "2021-02-24 12:34:15,918 : INFO : topic #1 (0.203): 0.054*\"motif_60\" + 0.039*\"motif_184\" + 0.034*\"motif_37\" + 0.032*\"motif_23\" + 0.031*\"motif_218\" + 0.030*\"motif_42\" + 0.025*\"motif_40\" + 0.024*\"motif_13\" + 0.022*\"motif_166\" + 0.021*\"motif_19\"\n",
      "2021-02-24 12:34:15,919 : INFO : topic #2 (0.043): 0.060*\"motif_219\" + 0.051*\"motif_11\" + 0.051*\"motif_12\" + 0.049*\"motif_10\" + 0.044*\"motif_9\" + 0.043*\"motif_6\" + 0.041*\"motif_264\" + 0.040*\"motif_5\" + 0.039*\"motif_8\" + 0.032*\"motif_4\"\n",
      "2021-02-24 12:34:15,920 : INFO : topic diff=0.061460, rho=0.301381\n",
      "2021-02-24 12:34:15,922 : INFO : PROGRESS: pass 4, at document #40000/60095\n",
      "2021-02-24 12:34:15,923 : DEBUG : performing inference on a chunk of 10000 documents\n",
      "2021-02-24 12:34:17,993 : DEBUG : 10000/10000 documents converged within 1000 iterations\n"
     ]
    },
    {
     "name": "stderr",
     "output_type": "stream",
     "text": [
      "2021-02-24 12:34:18,022 : INFO : optimized alpha [0.20428933, 0.20804074, 0.04337095]\n",
      "2021-02-24 12:34:18,022 : DEBUG : updating topics\n",
      "2021-02-24 12:34:18,023 : INFO : merging changes from 10000 documents into a model of 60095 documents\n",
      "2021-02-24 12:34:18,025 : INFO : topic #0 (0.204): 0.027*\"motif_60\" + 0.026*\"motif_62\" + 0.022*\"motif_126\" + 0.020*\"motif_84\" + 0.019*\"motif_54\" + 0.015*\"motif_17\" + 0.015*\"motif_93\" + 0.015*\"motif_31\" + 0.014*\"motif_121\" + 0.014*\"motif_26\"\n",
      "2021-02-24 12:34:18,026 : INFO : topic #1 (0.208): 0.053*\"motif_60\" + 0.039*\"motif_184\" + 0.035*\"motif_37\" + 0.032*\"motif_23\" + 0.031*\"motif_218\" + 0.030*\"motif_42\" + 0.025*\"motif_40\" + 0.024*\"motif_13\" + 0.022*\"motif_166\" + 0.021*\"motif_19\"\n",
      "2021-02-24 12:34:18,027 : INFO : topic #2 (0.043): 0.061*\"motif_219\" + 0.051*\"motif_11\" + 0.050*\"motif_12\" + 0.048*\"motif_10\" + 0.044*\"motif_9\" + 0.043*\"motif_6\" + 0.042*\"motif_264\" + 0.040*\"motif_5\" + 0.039*\"motif_8\" + 0.033*\"motif_4\"\n",
      "2021-02-24 12:34:18,027 : INFO : topic diff=0.054458, rho=0.301381\n",
      "2021-02-24 12:34:18,029 : INFO : PROGRESS: pass 4, at document #50000/60095\n",
      "2021-02-24 12:34:18,030 : DEBUG : performing inference on a chunk of 10000 documents\n",
      "2021-02-24 12:34:20,333 : DEBUG : 10000/10000 documents converged within 1000 iterations\n",
      "2021-02-24 12:34:20,360 : INFO : optimized alpha [0.20885481, 0.21206763, 0.0436803]\n",
      "2021-02-24 12:34:20,361 : DEBUG : updating topics\n",
      "2021-02-24 12:34:20,362 : INFO : merging changes from 10000 documents into a model of 60095 documents\n",
      "2021-02-24 12:34:20,363 : INFO : topic #0 (0.209): 0.028*\"motif_60\" + 0.026*\"motif_62\" + 0.023*\"motif_126\" + 0.021*\"motif_84\" + 0.019*\"motif_54\" + 0.016*\"motif_17\" + 0.015*\"motif_121\" + 0.015*\"motif_31\" + 0.014*\"motif_93\" + 0.014*\"motif_26\"\n",
      "2021-02-24 12:34:20,364 : INFO : topic #1 (0.212): 0.053*\"motif_60\" + 0.039*\"motif_184\" + 0.035*\"motif_37\" + 0.032*\"motif_23\" + 0.031*\"motif_42\" + 0.031*\"motif_218\" + 0.025*\"motif_40\" + 0.025*\"motif_13\" + 0.022*\"motif_166\" + 0.022*\"motif_19\"\n",
      "2021-02-24 12:34:20,364 : INFO : topic #2 (0.044): 0.062*\"motif_219\" + 0.050*\"motif_11\" + 0.050*\"motif_12\" + 0.048*\"motif_10\" + 0.043*\"motif_6\" + 0.043*\"motif_9\" + 0.043*\"motif_264\" + 0.040*\"motif_5\" + 0.039*\"motif_8\" + 0.033*\"motif_4\"\n",
      "2021-02-24 12:34:20,365 : INFO : topic diff=0.055032, rho=0.301381\n",
      "2021-02-24 12:34:20,367 : INFO : PROGRESS: pass 4, at document #60000/60095\n",
      "2021-02-24 12:34:20,369 : DEBUG : performing inference on a chunk of 10000 documents\n",
      "2021-02-24 12:34:22,898 : DEBUG : 10000/10000 documents converged within 1000 iterations\n",
      "2021-02-24 12:34:22,923 : INFO : optimized alpha [0.21254522, 0.21539792, 0.044067957]\n",
      "2021-02-24 12:34:22,924 : DEBUG : updating topics\n",
      "2021-02-24 12:34:22,925 : INFO : merging changes from 10000 documents into a model of 60095 documents\n",
      "2021-02-24 12:34:22,926 : INFO : topic #0 (0.213): 0.028*\"motif_60\" + 0.026*\"motif_62\" + 0.023*\"motif_126\" + 0.021*\"motif_84\" + 0.019*\"motif_54\" + 0.016*\"motif_17\" + 0.015*\"motif_121\" + 0.015*\"motif_31\" + 0.014*\"motif_93\" + 0.014*\"motif_26\"\n",
      "2021-02-24 12:34:22,927 : INFO : topic #1 (0.215): 0.053*\"motif_60\" + 0.039*\"motif_184\" + 0.035*\"motif_37\" + 0.032*\"motif_23\" + 0.031*\"motif_42\" + 0.030*\"motif_218\" + 0.025*\"motif_40\" + 0.025*\"motif_13\" + 0.022*\"motif_166\" + 0.022*\"motif_19\"\n",
      "2021-02-24 12:34:22,928 : INFO : topic #2 (0.044): 0.063*\"motif_219\" + 0.050*\"motif_11\" + 0.050*\"motif_12\" + 0.048*\"motif_10\" + 0.043*\"motif_264\" + 0.043*\"motif_6\" + 0.043*\"motif_9\" + 0.040*\"motif_5\" + 0.039*\"motif_8\" + 0.033*\"motif_4\"\n",
      "2021-02-24 12:34:22,929 : INFO : topic diff=0.049899, rho=0.301381\n",
      "2021-02-24 12:34:22,930 : DEBUG : bound: at document #0\n",
      "2021-02-24 12:34:22,966 : INFO : -5.018 per-word bound, 32.4 perplexity estimate based on a held-out corpus of 95 documents with 2924 words\n",
      "2021-02-24 12:34:22,966 : INFO : PROGRESS: pass 4, at document #60095/60095\n",
      "2021-02-24 12:34:22,967 : DEBUG : performing inference on a chunk of 95 documents\n",
      "2021-02-24 12:34:22,986 : DEBUG : 95/95 documents converged within 1000 iterations\n",
      "2021-02-24 12:34:22,986 : INFO : optimized alpha [0.20883296, 0.21233328, 0.0447797]\n",
      "2021-02-24 12:34:22,987 : DEBUG : updating topics\n",
      "2021-02-24 12:34:22,988 : INFO : merging changes from 95 documents into a model of 60095 documents\n",
      "2021-02-24 12:34:22,990 : INFO : topic #0 (0.209): 0.026*\"motif_62\" + 0.026*\"motif_60\" + 0.020*\"motif_126\" + 0.019*\"motif_84\" + 0.019*\"motif_54\" + 0.016*\"motif_93\" + 0.014*\"motif_17\" + 0.014*\"motif_121\" + 0.014*\"motif_86\" + 0.014*\"motif_31\"\n",
      "2021-02-24 12:34:22,990 : INFO : topic #1 (0.212): 0.053*\"motif_60\" + 0.039*\"motif_184\" + 0.034*\"motif_37\" + 0.031*\"motif_218\" + 0.031*\"motif_23\" + 0.029*\"motif_42\" + 0.024*\"motif_13\" + 0.024*\"motif_40\" + 0.023*\"motif_166\" + 0.021*\"motif_19\"\n",
      "2021-02-24 12:34:22,991 : INFO : topic #2 (0.045): 0.058*\"motif_219\" + 0.054*\"motif_10\" + 0.053*\"motif_11\" + 0.053*\"motif_12\" + 0.049*\"motif_9\" + 0.046*\"motif_6\" + 0.041*\"motif_5\" + 0.041*\"motif_8\" + 0.039*\"motif_264\" + 0.033*\"motif_4\"\n",
      "2021-02-24 12:34:22,992 : INFO : topic diff=0.209067, rho=0.301381\n",
      "2021-02-24 12:34:22,995 : INFO : Epoch 4: Convergence estimate: 1.0\n",
      "100%|██████████| 60095/60095 [00:17<00:00, 3529.02it/s]\n"
     ]
    },
    {
     "name": "stdout",
     "output_type": "stream",
     "text": [
      "CPU times: user 1min 56s, sys: 1.1 s, total: 1min 57s\n",
      "Wall time: 1min 56s\n"
     ]
    }
   ],
   "source": [
    "%%time\n",
    "import logging\n",
    "from gensim.models.callbacks import Callback,PerplexityMetric, ConvergenceMetric, CoherenceMetric\n",
    "\n",
    "logging.basicConfig(format='%(asctime)s : %(levelname)s : %(message)s', level=logging.DEBUG)\n",
    "convergence_logger = ConvergenceMetric(logger='shell')\n",
    "from gensim.models import LdaModel,LdaMulticore\n",
    "\n",
    "temp = dictionary[0]\n",
    "id2word = dictionary.id2token\n",
    "lda = LdaModel(corpus, id2word=id2word, alpha='auto',chunksize=10000,\n",
    "               eta='auto',num_topics=3, iterations=1000, passes = 5,\n",
    "              minimum_probability=0.0,callbacks=[convergence_logger])\n",
    "\n",
    "lda_predictions=lda.get_document_topics(corpus,minimum_probability=0.0)\n",
    "lda_pred_topic=[]\n",
    "for pred in tqdm(lda_predictions):\n",
    "    top_topic=sorted(pred,key=lambda x:-x[1])[0][0]\n",
    "    lda_pred_topic.append(top_topic)\n",
    "lda_pred_data=data.copy()\n",
    "lda_pred_data['pred_topic']=lda_pred_topic\n",
    "\n",
    "logging.getLogger().setLevel(logging.CRITICAL)"
   ]
  },
  {
   "cell_type": "markdown",
   "id": "loved-northeast",
   "metadata": {},
   "source": [
    "## Model Evaluation Metrics"
   ]
  },
  {
   "cell_type": "code",
   "execution_count": 7,
   "id": "portable-madness",
   "metadata": {},
   "outputs": [
    {
     "name": "stderr",
     "output_type": "stream",
     "text": [
      "157it [00:00, 1567.92it/s]"
     ]
    },
    {
     "name": "stdout",
     "output_type": "stream",
     "text": [
      "{0: 0.43632581745569515, 1: 0.4714868125468009, 2: 0.09218736999750395}\n"
     ]
    },
    {
     "name": "stderr",
     "output_type": "stream",
     "text": [
      "60095it [00:27, 2164.96it/s]"
     ]
    },
    {
     "name": "stdout",
     "output_type": "stream",
     "text": [
      "-56346.589253135695\n"
     ]
    },
    {
     "name": "stderr",
     "output_type": "stream",
     "text": [
      "\n"
     ]
    },
    {
     "data": {
      "text/plain": [
       "-56346.589253135695"
      ]
     },
     "execution_count": 7,
     "metadata": {},
     "output_type": "execute_result"
    }
   ],
   "source": [
    "def getTopicDistribution(pred_data,ntopics):\n",
    "    topic_dist_dict={i:0 for i in range(ntopics)}\n",
    "    value_count=pred_data['pred_topic'].value_counts(normalize=True)\n",
    "    for k,v in value_count.to_dict().items():\n",
    "        topic_dist_dict[k]=v\n",
    "    return topic_dist_dict\n",
    "\n",
    "def likelihoodMetric(model,pred_data,dictionary,ntopics):\n",
    "    likelihood=0\n",
    "    P_T=getTopicDistribution(pred_data,ntopics)\n",
    "    print(P_T)\n",
    "    for idx,row in tqdm(pred_data.iterrows()):\n",
    "        motif_list=dictionary.doc2idx(row['motif_list'])\n",
    "        assigned_topic_no=row['pred_topic']\n",
    "        P_Xi_M=0\n",
    "        for topic_no in range(ntopics):\n",
    "            ttd=model.get_topic_terms(topic_no)\n",
    "            filtered_ttd=list(filter(lambda x:x[0] in motif_list,ttd))\n",
    "            P_X_Ti=1\n",
    "            for motif,P_mj_T in filtered_ttd:\n",
    "                P_X_Ti*=P_mj_T\n",
    "            P_Xi_M+=P_X_Ti*P_T[topic_no]\n",
    "        likelihood+=np.log10(P_Xi_M)\n",
    "    print(likelihood)\n",
    "    return likelihood\n",
    "likelihoodMetric(lda,lda_pred_data,dictionary,3)"
   ]
  },
  {
   "cell_type": "code",
   "execution_count": 8,
   "id": "fitting-extreme",
   "metadata": {},
   "outputs": [],
   "source": [
    "# def getTopicDistribution(pred_data,ntopics):\n",
    "#     value_count=pred_data['pred_topic'].value_counts(normalize=True)\n",
    "#     topic_dist_dict=value_count.to_dict()\n",
    "#     return topic_dist_dict\n",
    "\n",
    "# def likelihoodMetric(pred_data,predictions,ntopics):\n",
    "#     likelihood=0\n",
    "#     P_T=getTopicDistribution(pred_data,ntopics)\n",
    "#     for pred in tqdm(predictions):\n",
    "#         P_Xi_M=0\n",
    "#         for topic_no,P_Xi_T in pred:\n",
    "#             P_Xi_M+=P_Xi_T*P_T[topic_no]\n",
    "#         likelihood+=np.log10(P_Xi_M)\n",
    "#     print(likelihood)\n",
    "#     return likelihood\n",
    "# # likelihoodMetric(lda_pred_data,lda_predictions,3)"
   ]
  },
  {
   "cell_type": "code",
   "execution_count": 9,
   "id": "modern-machine",
   "metadata": {},
   "outputs": [],
   "source": [
    "from gensim.models.coherencemodel import CoherenceModel\n",
    "\n",
    "def coherenceMetric_cv(model,dictionary,docs):\n",
    "    cm=CoherenceModel(model=model,dictionary=dictionary ,\n",
    "                      texts=docs, coherence='c_v',processes=30)\n",
    "    coherence = cm.get_coherence()\n",
    "    print(coherence)\n",
    "    return coherence\n",
    "# coherenceMetric_cv(lda,dictionary ,docs)"
   ]
  },
  {
   "cell_type": "code",
   "execution_count": 10,
   "id": "demographic-split",
   "metadata": {},
   "outputs": [],
   "source": [
    "from gensim.models.coherencemodel import CoherenceModel\n",
    "\n",
    "def coherenceMetric_umass(model,dictionary,corpus):\n",
    "    cm = CoherenceModel(model=model, corpus=corpus, \\\n",
    "                        coherence='u_mass',processes=30)\n",
    "    coherence = cm.get_coherence()\n",
    "    print(coherence)\n",
    "    return coherence\n",
    "# coherenceMetric_umass(lda,dictionary ,corpus)"
   ]
  },
  {
   "cell_type": "code",
   "execution_count": 11,
   "id": "twenty-klein",
   "metadata": {},
   "outputs": [],
   "source": [
    "from gensim.models.coherencemodel import CoherenceModel\n",
    "\n",
    "def coherenceMetric_uci(model,dictionary,docs):\n",
    "    cm=CoherenceModel(model=model,dictionary=dictionary ,\n",
    "                      texts=docs, coherence='c_uci',processes=30,\n",
    "                     window_size =2000)\n",
    "    coherence = cm.get_coherence()\n",
    "    print(coherence)\n",
    "    return coherence\n",
    "# coherenceMetric_uci(lda,dictionary ,docs)"
   ]
  },
  {
   "cell_type": "code",
   "execution_count": 12,
   "id": "billion-consolidation",
   "metadata": {},
   "outputs": [],
   "source": [
    "def perplexityMetric(model,corpus):\n",
    "    perplexity=model.log_perplexity(corpus)\n",
    "    print(perplexity)\n",
    "    return perplexity\n",
    "# perplexityMetric(lda,corpus)"
   ]
  },
  {
   "cell_type": "code",
   "execution_count": 13,
   "id": "characteristic-retreat",
   "metadata": {
    "scrolled": true
   },
   "outputs": [],
   "source": [
    "from collections import Counter\n",
    "\n",
    "def findTopMotifs(pred_data,ntopics,ntop=5,outdir=None):     \n",
    "    gb=pred_data[['motif_string','pred_topic']].groupby('pred_topic').\\\n",
    "    agg(lambda x: ','.join(x))\n",
    "    gb['top_motif']=gb['motif_string'].\\\n",
    "    apply(lambda x:Counter(x.split(',')).most_common(ntop))\n",
    "    gb.reset_index(inplace=True)\n",
    "    gb=gb[['pred_topic','top_motif']]\n",
    "    if outdir is not None:\n",
    "        gb.to_csv(f'{outdir}/top{ntop}_motifs_topics_{ntopics}.csv',index=False)\n",
    "    print(gb)\n",
    "    return gb\n",
    "# findTopMotifs(lda_pred_data,3)"
   ]
  },
  {
   "cell_type": "code",
   "execution_count": 14,
   "id": "operational-things",
   "metadata": {},
   "outputs": [],
   "source": [
    "def getAvgTssDist(pred_data,ntopics,outdir=None):\n",
    "#     pred_topic=[]\n",
    "#     for pred in tqdm(predictions):\n",
    "#         top_topic=sorted(pred,key=lambda x:-x[1])[0][0]\n",
    "#         pred_topic.append(top_topic)\n",
    "#     _data=data.copy()\n",
    "#     _data['pred_topic']=pred_topic\n",
    "    gb=pred_data[['Distance to TSS','pred_topic']].groupby('pred_topic').mean()\n",
    "    gb.reset_index(inplace=True)\n",
    "    if outdir is not None:\n",
    "        gb.to_csv(f'{outdir}/avg_tss_dist_topics_{ntopics}.csv',index=False)\n",
    "    print(gb)\n",
    "    return gb\n",
    "# getAvgTssDist(lda_pred_data,3)"
   ]
  },
  {
   "cell_type": "markdown",
   "id": "standing-citizen",
   "metadata": {},
   "source": [
    "## Training & Evaluation"
   ]
  },
  {
   "cell_type": "code",
   "execution_count": 15,
   "id": "south-desperate",
   "metadata": {
    "scrolled": true
   },
   "outputs": [
    {
     "name": "stdout",
     "output_type": "stream",
     "text": [
      "\n",
      "========================================\n",
      "Num of Topics = 2\n"
     ]
    },
    {
     "name": "stderr",
     "output_type": "stream",
     "text": [
      "100%|██████████| 60095/60095 [00:17<00:00, 3424.66it/s]\n",
      "250it [00:00, 2497.45it/s]"
     ]
    },
    {
     "name": "stdout",
     "output_type": "stream",
     "text": [
      "\n",
      "Finding likelihood...\n",
      "{0: 0.5349862717364173, 1: 0.46501372826358267}\n"
     ]
    },
    {
     "name": "stderr",
     "output_type": "stream",
     "text": [
      "60095it [00:20, 2908.47it/s]"
     ]
    },
    {
     "name": "stdout",
     "output_type": "stream",
     "text": [
      "-122206.80656932936\n",
      "\n",
      "Finding coherence_cv...\n"
     ]
    },
    {
     "name": "stderr",
     "output_type": "stream",
     "text": [
      "\n"
     ]
    },
    {
     "name": "stdout",
     "output_type": "stream",
     "text": [
      "0.5334821022864392\n",
      "\n",
      "Finding coherence_umass...\n",
      "-1.598256008605613\n",
      "\n",
      "Finding coherence_uci...\n",
      "0.40211662099740747\n",
      "\n",
      "Finding perplexity...\n",
      "-5.098912979494928\n",
      "\n",
      "Finding Top Motifs...\n",
      "   pred_topic                                          top_motif\n",
      "0           0  [(motif_60, 24819), (motif_62, 16709), (motif_...\n",
      "1           1  [(motif_60, 43688), (motif_184, 29541), (motif...\n",
      "\n",
      "Findng avg. distance from TSS per topic...\n",
      "   pred_topic  Distance to TSS\n",
      "0           0     13566.325972\n",
      "1           1      6015.194525\n",
      "\n",
      "========================================\n",
      "Num of Topics = 3\n"
     ]
    },
    {
     "name": "stderr",
     "output_type": "stream",
     "text": [
      "100%|██████████| 60095/60095 [00:18<00:00, 3290.48it/s]\n",
      "178it [00:00, 1777.63it/s]"
     ]
    },
    {
     "name": "stdout",
     "output_type": "stream",
     "text": [
      "\n",
      "Finding likelihood...\n",
      "{0: 0.24191696480572428, 1: 0.440519177968217, 2: 0.31756385722605873}\n"
     ]
    },
    {
     "name": "stderr",
     "output_type": "stream",
     "text": [
      "60095it [00:34, 1742.72it/s]\n"
     ]
    },
    {
     "name": "stdout",
     "output_type": "stream",
     "text": [
      "-55112.058259756304\n",
      "\n",
      "Finding coherence_cv...\n",
      "0.6902576133873568\n",
      "\n",
      "Finding coherence_umass...\n",
      "-1.3980171924383198\n",
      "\n",
      "Finding coherence_uci...\n",
      "0.7072157039867171\n",
      "\n",
      "Finding perplexity...\n",
      "-4.963667029719087\n",
      "\n",
      "Finding Top Motifs...\n",
      "   pred_topic                                          top_motif\n",
      "0           0  [(motif_60, 36606), (motif_184, 26612), (motif...\n",
      "1           1  [(motif_60, 20948), (motif_62, 15234), (motif_...\n",
      "2           2  [(motif_37, 22248), (motif_23, 20718), (motif_...\n",
      "\n",
      "Findng avg. distance from TSS per topic...\n",
      "   pred_topic  Distance to TSS\n",
      "0           0      8405.107924\n",
      "1           1     14676.913837\n",
      "2           2      4900.261580\n",
      "\n",
      "========================================\n",
      "Num of Topics = 4\n"
     ]
    },
    {
     "name": "stderr",
     "output_type": "stream",
     "text": [
      "100%|██████████| 60095/60095 [00:22<00:00, 2716.43it/s]\n",
      "88it [00:00, 874.33it/s]"
     ]
    },
    {
     "name": "stdout",
     "output_type": "stream",
     "text": [
      "\n",
      "Finding likelihood...\n",
      "{0: 0.4154754971295449, 1: 0.13305599467509777, 2: 0.22544304850653132, 3: 0.22602545968882604}\n"
     ]
    },
    {
     "name": "stderr",
     "output_type": "stream",
     "text": [
      "60095it [00:39, 1504.77it/s]"
     ]
    },
    {
     "name": "stdout",
     "output_type": "stream",
     "text": [
      "-38987.21783912795\n",
      "\n",
      "Finding coherence_cv...\n"
     ]
    },
    {
     "name": "stderr",
     "output_type": "stream",
     "text": [
      "\n"
     ]
    },
    {
     "name": "stdout",
     "output_type": "stream",
     "text": [
      "0.5946756924650776\n",
      "\n",
      "Finding coherence_umass...\n",
      "-1.5983506282200202\n",
      "\n",
      "Finding coherence_uci...\n",
      "0.5505781481912936\n",
      "\n",
      "Finding perplexity...\n",
      "-4.901448440125179\n",
      "\n",
      "Finding Top Motifs...\n",
      "   pred_topic                                          top_motif\n",
      "0           0  [(motif_60, 20974), (motif_126, 12065), (motif...\n",
      "1           1  [(motif_54, 6444), (motif_41, 5830), (motif_48...\n",
      "2           2  [(motif_37, 19965), (motif_23, 18637), (motif_...\n",
      "3           3  [(motif_60, 34684), (motif_184, 24351), (motif...\n",
      "\n",
      "Findng avg. distance from TSS per topic...\n",
      "   pred_topic  Distance to TSS\n",
      "0           0     14327.649151\n",
      "1           1     10258.880065\n",
      "2           2      2984.306023\n",
      "3           3      9133.318413\n",
      "\n",
      "========================================\n",
      "Num of Topics = 5\n"
     ]
    },
    {
     "name": "stderr",
     "output_type": "stream",
     "text": [
      "100%|██████████| 60095/60095 [00:19<00:00, 3153.15it/s]\n",
      "140it [00:00, 1396.05it/s]"
     ]
    },
    {
     "name": "stdout",
     "output_type": "stream",
     "text": [
      "\n",
      "Finding likelihood...\n",
      "{0: 0.1903486146934021, 1: 0.186371578334304, 2: 0.26240119810300355, 3: 0.10679757051335385, 4: 0.25408103835593643}\n"
     ]
    },
    {
     "name": "stderr",
     "output_type": "stream",
     "text": [
      "60095it [00:37, 1597.87it/s]"
     ]
    },
    {
     "name": "stdout",
     "output_type": "stream",
     "text": [
      "-34609.88636204785\n",
      "\n",
      "Finding coherence_cv...\n"
     ]
    },
    {
     "name": "stderr",
     "output_type": "stream",
     "text": [
      "\n"
     ]
    },
    {
     "name": "stdout",
     "output_type": "stream",
     "text": [
      "0.6461034558348699\n",
      "\n",
      "Finding coherence_umass...\n",
      "-1.500367262102756\n",
      "\n",
      "Finding coherence_uci...\n",
      "0.6864537450005528\n",
      "\n",
      "Finding perplexity...\n",
      "-4.860747754451451\n",
      "\n",
      "Finding Top Motifs...\n",
      "   pred_topic                                          top_motif\n",
      "0           0  [(motif_60, 30848), (motif_184, 23337), (motif...\n",
      "1           1  [(motif_60, 7868), (motif_17, 6230), (motif_62...\n",
      "2           2  [(motif_37, 20847), (motif_23, 19423), (motif_...\n",
      "3           3  [(motif_11, 8613), (motif_12, 8370), (motif_10...\n",
      "4           4  [(motif_60, 15366), (motif_126, 6997), (motif_...\n",
      "\n",
      "Findng avg. distance from TSS per topic...\n",
      "   pred_topic  Distance to TSS\n",
      "0           0      7051.670251\n",
      "1           1     15927.064196\n",
      "2           2      3717.180417\n",
      "3           3     16847.193518\n",
      "4           4     11687.950095\n",
      "\n",
      "========================================\n",
      "Num of Topics = 6\n"
     ]
    },
    {
     "name": "stderr",
     "output_type": "stream",
     "text": [
      "100%|██████████| 60095/60095 [00:19<00:00, 3140.00it/s]\n",
      "102it [00:00, 1014.06it/s]"
     ]
    },
    {
     "name": "stdout",
     "output_type": "stream",
     "text": [
      "\n",
      "Finding likelihood...\n",
      "{0: 0.15126050420168066, 1: 0.08621349529910974, 2: 0.18384224977119562, 3: 0.18392545136866628, 4: 0.20108162076711872, 5: 0.19367667859222898}\n"
     ]
    },
    {
     "name": "stderr",
     "output_type": "stream",
     "text": [
      "60095it [00:48, 1250.97it/s]"
     ]
    },
    {
     "name": "stdout",
     "output_type": "stream",
     "text": [
      "-25963.635007100645\n",
      "\n",
      "Finding coherence_cv...\n"
     ]
    },
    {
     "name": "stderr",
     "output_type": "stream",
     "text": [
      "\n"
     ]
    },
    {
     "name": "stdout",
     "output_type": "stream",
     "text": [
      "0.6490260445774294\n",
      "\n",
      "Finding coherence_umass...\n",
      "-1.6075359101105107\n",
      "\n",
      "Finding coherence_uci...\n",
      "0.687767750319011\n",
      "\n",
      "Finding perplexity...\n",
      "-4.823758756106599\n",
      "\n",
      "Finding Top Motifs...\n",
      "   pred_topic                                          top_motif\n",
      "0           0  [(motif_219, 8741), (motif_60, 7915), (motif_2...\n",
      "1           1  [(motif_62, 3457), (motif_60, 3372), (motif_12...\n",
      "2           2  [(motif_60, 33200), (motif_184, 23800), (motif...\n",
      "3           3  [(motif_60, 9350), (motif_11, 9061), (motif_12...\n",
      "4           4  [(motif_60, 8913), (motif_17, 5846), (motif_31...\n",
      "5           5  [(motif_37, 19209), (motif_23, 17922), (motif_...\n",
      "\n",
      "Findng avg. distance from TSS per topic...\n",
      "   pred_topic  Distance to TSS\n",
      "0           0     10507.653135\n",
      "1           1     14516.180467\n",
      "2           2      7948.604906\n",
      "3           3     12410.898399\n",
      "4           4     14177.099057\n",
      "5           5      3197.798866\n",
      "\n",
      "========================================\n",
      "Num of Topics = 7\n"
     ]
    },
    {
     "name": "stderr",
     "output_type": "stream",
     "text": [
      "100%|██████████| 60095/60095 [00:18<00:00, 3209.31it/s]\n",
      "104it [00:00, 1033.70it/s]"
     ]
    },
    {
     "name": "stdout",
     "output_type": "stream",
     "text": [
      "\n",
      "Finding likelihood...\n",
      "{0: 0.1749563191613279, 1: 0.20913553540227972, 2: 0.05845744238289375, 3: 0.2523670854480406, 4: 0.09955903153340544, 5: 0.1505449704634329, 6: 0.054979615608619685}\n"
     ]
    },
    {
     "name": "stderr",
     "output_type": "stream",
     "text": [
      "60095it [00:51, 1171.39it/s]"
     ]
    },
    {
     "name": "stdout",
     "output_type": "stream",
     "text": [
      "-23105.61248037795\n",
      "\n",
      "Finding coherence_cv...\n"
     ]
    },
    {
     "name": "stderr",
     "output_type": "stream",
     "text": [
      "\n"
     ]
    },
    {
     "name": "stdout",
     "output_type": "stream",
     "text": [
      "0.6645737128861938\n",
      "\n",
      "Finding coherence_umass...\n",
      "-1.5037129573544792\n",
      "\n",
      "Finding coherence_uci...\n",
      "0.7687222246679515\n",
      "\n",
      "Finding perplexity...\n",
      "-4.757601908013544\n",
      "\n",
      "Finding Top Motifs...\n",
      "   pred_topic                                          top_motif\n",
      "0           0  [(motif_60, 31784), (motif_184, 23480), (motif...\n",
      "1           1  [(motif_37, 19609), (motif_23, 18232), (motif_...\n",
      "2           2  [(motif_11, 7910), (motif_12, 7730), (motif_10...\n",
      "3           3  [(motif_60, 14148), (motif_126, 9742), (motif_...\n",
      "4           4  [(motif_41, 5907), (motif_48, 5899), (motif_49...\n",
      "5           5  [(motif_54, 8337), (motif_62, 6990), (motif_12...\n",
      "6           6  [(motif_175, 2530), (motif_147, 2298), (motif_...\n",
      "\n",
      "Findng avg. distance from TSS per topic...\n",
      "   pred_topic  Distance to TSS\n",
      "0           0      8092.800647\n",
      "1           1      3190.453135\n",
      "2           2     13205.470538\n",
      "3           3     14040.602268\n",
      "4           4      6996.582651\n",
      "5           5     16988.682326\n",
      "6           6      7318.073547\n",
      "\n",
      "========================================\n",
      "Num of Topics = 8\n"
     ]
    },
    {
     "name": "stderr",
     "output_type": "stream",
     "text": [
      "100%|██████████| 60095/60095 [00:19<00:00, 3053.60it/s]\n",
      "83it [00:00, 823.76it/s]"
     ]
    },
    {
     "name": "stdout",
     "output_type": "stream",
     "text": [
      "\n",
      "Finding likelihood...\n",
      "{0: 0.24496214327315086, 1: 0.17174473749896, 2: 0.077943256510525, 3: 0.1412263915467177, 4: 0.07995673516931526, 5: 0.08175388967468175, 6: 0.0902238122971961, 7: 0.11218903402945336}\n"
     ]
    },
    {
     "name": "stderr",
     "output_type": "stream",
     "text": [
      "60095it [01:04, 932.06it/s] "
     ]
    },
    {
     "name": "stdout",
     "output_type": "stream",
     "text": [
      "-19761.368320243397\n",
      "\n",
      "Finding coherence_cv...\n"
     ]
    },
    {
     "name": "stderr",
     "output_type": "stream",
     "text": [
      "\n"
     ]
    },
    {
     "name": "stdout",
     "output_type": "stream",
     "text": [
      "0.6820292393079928\n",
      "\n",
      "Finding coherence_umass...\n",
      "-1.6411356672497726\n",
      "\n",
      "Finding coherence_uci...\n",
      "0.8404027637600673\n",
      "\n",
      "Finding perplexity...\n",
      "-4.713399039540757\n",
      "\n",
      "Finding Top Motifs...\n",
      "   pred_topic                                          top_motif\n",
      "0           0  [(motif_60, 14999), (motif_126, 9563), (motif_...\n",
      "1           1  [(motif_60, 31301), (motif_184, 23373), (motif...\n",
      "2           2  [(motif_41, 5489), (motif_48, 5487), (motif_49...\n",
      "3           3  [(motif_37, 17046), (motif_23, 15859), (motif_...\n",
      "4           4  [(motif_17, 4338), (motif_26, 3904), (motif_31...\n",
      "5           5  [(motif_248, 3995), (motif_167, 3586), (motif_...\n",
      "6           6  [(motif_54, 7669), (motif_122, 6197), (motif_9...\n",
      "7           7  [(motif_11, 8330), (motif_12, 8142), (motif_10...\n",
      "\n",
      "Findng avg. distance from TSS per topic...\n",
      "   pred_topic  Distance to TSS\n",
      "0           0     13878.744922\n",
      "1           1      8339.221587\n",
      "2           2      5253.158839\n",
      "3           3      2507.775421\n",
      "4           4     15221.588970\n",
      "5           5      9105.308976\n",
      "6           6     16591.634637\n",
      "7           7      8921.778997\n",
      "\n",
      "========================================\n",
      "Num of Topics = 9\n"
     ]
    },
    {
     "name": "stderr",
     "output_type": "stream",
     "text": [
      "100%|██████████| 60095/60095 [00:17<00:00, 3357.48it/s]\n",
      "83it [00:00, 829.53it/s]"
     ]
    },
    {
     "name": "stdout",
     "output_type": "stream",
     "text": [
      "\n",
      "Finding likelihood...\n",
      "{0: 0.15941426075380646, 1: 0.07945752558449122, 2: 0.06491388634661785, 3: 0.16831683168316833, 4: 0.0783759048173725, 5: 0.059588984108494884, 6: 0.10473417089608121, 7: 0.042216490556618684, 8: 0.24298194525334887}\n"
     ]
    },
    {
     "name": "stderr",
     "output_type": "stream",
     "text": [
      "60095it [01:08, 874.38it/s] "
     ]
    },
    {
     "name": "stdout",
     "output_type": "stream",
     "text": [
      "-18402.08843709904\n",
      "\n",
      "Finding coherence_cv...\n"
     ]
    },
    {
     "name": "stderr",
     "output_type": "stream",
     "text": [
      "\n"
     ]
    },
    {
     "name": "stdout",
     "output_type": "stream",
     "text": [
      "0.75452864641901\n",
      "\n",
      "Finding coherence_umass...\n",
      "-1.4872065636765726\n",
      "\n",
      "Finding coherence_uci...\n",
      "1.0449297036368281\n",
      "\n",
      "Finding perplexity...\n",
      "-4.643764006453906\n",
      "\n",
      "Finding Top Motifs...\n",
      "   pred_topic                                          top_motif\n",
      "0           0  [(motif_60, 29519), (motif_184, 22151), (motif...\n",
      "1           1  [(motif_41, 5515), (motif_48, 5515), (motif_49...\n",
      "2           2  [(motif_175, 2581), (motif_147, 2304), (motif_...\n",
      "3           3  [(motif_37, 18382), (motif_23, 17081), (motif_...\n",
      "4           4  [(motif_17, 4348), (motif_26, 3936), (motif_31...\n",
      "5           5  [(motif_11, 8039), (motif_12, 7840), (motif_10...\n",
      "6           6  [(motif_54, 8261), (motif_122, 6509), (motif_8...\n",
      "7           7  [(motif_219, 5892), (motif_264, 4959), (motif_...\n",
      "8           8  [(motif_60, 15972), (motif_126, 8322), (motif_...\n",
      "\n",
      "Findng avg. distance from TSS per topic...\n",
      "   pred_topic  Distance to TSS\n",
      "0           0      8463.277140\n",
      "1           1      6244.496545\n",
      "2           2      7802.244553\n",
      "3           3      2427.452200\n",
      "4           4     15144.642463\n",
      "5           5     12701.413851\n",
      "6           6     18258.939466\n",
      "7           7      5452.679937\n",
      "8           8     13203.386317\n",
      "CPU times: user 26min 57s, sys: 13.7 s, total: 27min 11s\n",
      "Wall time: 27min 37s\n"
     ]
    },
    {
     "data": {
      "text/html": [
       "<div>\n",
       "<style scoped>\n",
       "    .dataframe tbody tr th:only-of-type {\n",
       "        vertical-align: middle;\n",
       "    }\n",
       "\n",
       "    .dataframe tbody tr th {\n",
       "        vertical-align: top;\n",
       "    }\n",
       "\n",
       "    .dataframe thead th {\n",
       "        text-align: right;\n",
       "    }\n",
       "</style>\n",
       "<table border=\"1\" class=\"dataframe\">\n",
       "  <thead>\n",
       "    <tr style=\"text-align: right;\">\n",
       "      <th></th>\n",
       "      <th>num_topics</th>\n",
       "      <th>likelihood</th>\n",
       "      <th>coherence_cv</th>\n",
       "      <th>coherence_umass</th>\n",
       "      <th>coherence_uci</th>\n",
       "      <th>perplexity</th>\n",
       "    </tr>\n",
       "  </thead>\n",
       "  <tbody>\n",
       "    <tr>\n",
       "      <th>0</th>\n",
       "      <td>2</td>\n",
       "      <td>-122206.806569</td>\n",
       "      <td>0.533482</td>\n",
       "      <td>-1.598256</td>\n",
       "      <td>0.402117</td>\n",
       "      <td>-5.098913</td>\n",
       "    </tr>\n",
       "    <tr>\n",
       "      <th>1</th>\n",
       "      <td>3</td>\n",
       "      <td>-55112.058260</td>\n",
       "      <td>0.690258</td>\n",
       "      <td>-1.398017</td>\n",
       "      <td>0.707216</td>\n",
       "      <td>-4.963667</td>\n",
       "    </tr>\n",
       "    <tr>\n",
       "      <th>2</th>\n",
       "      <td>4</td>\n",
       "      <td>-38987.217839</td>\n",
       "      <td>0.594676</td>\n",
       "      <td>-1.598351</td>\n",
       "      <td>0.550578</td>\n",
       "      <td>-4.901448</td>\n",
       "    </tr>\n",
       "    <tr>\n",
       "      <th>3</th>\n",
       "      <td>5</td>\n",
       "      <td>-34609.886362</td>\n",
       "      <td>0.646103</td>\n",
       "      <td>-1.500367</td>\n",
       "      <td>0.686454</td>\n",
       "      <td>-4.860748</td>\n",
       "    </tr>\n",
       "    <tr>\n",
       "      <th>4</th>\n",
       "      <td>6</td>\n",
       "      <td>-25963.635007</td>\n",
       "      <td>0.649026</td>\n",
       "      <td>-1.607536</td>\n",
       "      <td>0.687768</td>\n",
       "      <td>-4.823759</td>\n",
       "    </tr>\n",
       "    <tr>\n",
       "      <th>5</th>\n",
       "      <td>7</td>\n",
       "      <td>-23105.612480</td>\n",
       "      <td>0.664574</td>\n",
       "      <td>-1.503713</td>\n",
       "      <td>0.768722</td>\n",
       "      <td>-4.757602</td>\n",
       "    </tr>\n",
       "    <tr>\n",
       "      <th>6</th>\n",
       "      <td>8</td>\n",
       "      <td>-19761.368320</td>\n",
       "      <td>0.682029</td>\n",
       "      <td>-1.641136</td>\n",
       "      <td>0.840403</td>\n",
       "      <td>-4.713399</td>\n",
       "    </tr>\n",
       "    <tr>\n",
       "      <th>7</th>\n",
       "      <td>9</td>\n",
       "      <td>-18402.088437</td>\n",
       "      <td>0.754529</td>\n",
       "      <td>-1.487207</td>\n",
       "      <td>1.044930</td>\n",
       "      <td>-4.643764</td>\n",
       "    </tr>\n",
       "  </tbody>\n",
       "</table>\n",
       "</div>"
      ],
      "text/plain": [
       "   num_topics     likelihood  coherence_cv  coherence_umass  coherence_uci  \\\n",
       "0           2 -122206.806569      0.533482        -1.598256       0.402117   \n",
       "1           3  -55112.058260      0.690258        -1.398017       0.707216   \n",
       "2           4  -38987.217839      0.594676        -1.598351       0.550578   \n",
       "3           5  -34609.886362      0.646103        -1.500367       0.686454   \n",
       "4           6  -25963.635007      0.649026        -1.607536       0.687768   \n",
       "5           7  -23105.612480      0.664574        -1.503713       0.768722   \n",
       "6           8  -19761.368320      0.682029        -1.641136       0.840403   \n",
       "7           9  -18402.088437      0.754529        -1.487207       1.044930   \n",
       "\n",
       "   perplexity  \n",
       "0   -5.098913  \n",
       "1   -4.963667  \n",
       "2   -4.901448  \n",
       "3   -4.860748  \n",
       "4   -4.823759  \n",
       "5   -4.757602  \n",
       "6   -4.713399  \n",
       "7   -4.643764  "
      ]
     },
     "execution_count": 15,
     "metadata": {},
     "output_type": "execute_result"
    }
   ],
   "source": [
    "%%time\n",
    "\n",
    "from gensim.models import LdaModel,LdaMulticore\n",
    "\n",
    "outdir='model_output'\n",
    "eval_dict={'num_topics':[],'likelihood':[],'coherence_cv':[],\\\n",
    "          'coherence_umass':[],'coherence_uci':[],'perplexity':[]}\n",
    "temp = dictionary[0]\n",
    "id2word = dictionary.id2token\n",
    "for ntopics in range(2,10):\n",
    "    print('\\n'+'='*40)\n",
    "    print('Num of Topics = '+str(ntopics))\n",
    "    model = LdaModel(corpus, id2word=id2word, alpha='auto',chunksize=10000,\n",
    "                   eta='auto',num_topics=ntopics, iterations=1000, passes = 5,\n",
    "                  minimum_probability=0.0)\n",
    "    \n",
    "    predictions=model.get_document_topics(corpus,minimum_probability=0.0)\n",
    "    pred_topic=[]\n",
    "    for pred in tqdm(predictions):\n",
    "        top_topic=sorted(pred,key=lambda x:-x[1])[0][0]\n",
    "        pred_topic.append(top_topic)\n",
    "    pred_data=data.copy()\n",
    "    pred_data['pred_topic']=pred_topic\n",
    "    print('\\nFinding likelihood...')\n",
    "#     likelihood=likelihoodMetric(pred_data,predictions,ntopics)\n",
    "    likelihood=likelihoodMetric(model,pred_data,dictionary,ntopics)\n",
    "    print('\\nFinding coherence_cv...')\n",
    "    coherence_cv=coherenceMetric_cv(model,dictionary,docs)\n",
    "    print('\\nFinding coherence_umass...')\n",
    "    coherence_umass=coherenceMetric_umass(model,dictionary ,corpus)\n",
    "    print('\\nFinding coherence_uci...')\n",
    "    coherence_uci=coherenceMetric_uci(model,dictionary,docs)\n",
    "    print('\\nFinding perplexity...')\n",
    "    perplexity=perplexityMetric(model,corpus)\n",
    "    print('\\nFinding Top Motifs...')\n",
    "    findTopMotifs(pred_data,ntopics,outdir=outdir)\n",
    "    print('\\nFindng avg. distance from TSS per topic...')\n",
    "    getAvgTssDist(pred_data,ntopics,outdir=outdir)\n",
    "    eval_dict['num_topics'].append(ntopics)\n",
    "    eval_dict['likelihood'].append(likelihood)\n",
    "    eval_dict['coherence_cv'].append(coherence_cv)\n",
    "    eval_dict['coherence_umass'].append(coherence_umass)\n",
    "    eval_dict['coherence_uci'].append(coherence_uci)\n",
    "    eval_dict['perplexity'].append(perplexity)\n",
    "eval_df=pd.DataFrame(eval_dict)\n",
    "eval_df.to_csv(f'{outdir}/metrics.csv',index=False)\n",
    "eval_df"
   ]
  },
  {
   "cell_type": "code",
   "execution_count": 21,
   "id": "textile-intersection",
   "metadata": {},
   "outputs": [
    {
     "data": {
      "image/png": "[encoded data removed]",
      "text/plain": [
       "<Figure size 720x360 with 1 Axes>"
      ]
     },
     "metadata": {
      "needs_background": "light"
     },
     "output_type": "display_data"
    }
   ],
   "source": [
    "plt.figure(figsize=(10,5))\n",
    "plt.plot(eval_df['num_topics'],eval_df['likelihood'],marker='o')\n",
    "plt.grid()"
   ]
  },
  {
   "cell_type": "code",
   "execution_count": 16,
   "id": "unlikely-accommodation",
   "metadata": {},
   "outputs": [],
   "source": [
    "# #setup logging for trainging metrics \n",
    "# import logging\n",
    "# logging.basicConfig(filename='test_output/model_callbacks.log', filemode='w',\n",
    "#                     format=\"%(asctime)s:%(levelname)s:%(message)s\",\n",
    "#                     level=logging.NOTSET)\n",
    "\n",
    "# from gensim.models.callbacks import Callback,PerplexityMetric, ConvergenceMetric, CoherenceMetric\n",
    "# perplexity_logger = PerplexityMetric(corpus=corpus, logger='shell')\n",
    "# convergence_logger = ConvergenceMetric(logger='shell')\n",
    "# # coherence_cv_logger = CoherenceMetric(corpus=corpus, coherence = 'c_v', texts = docs)\n",
    "\n",
    "# %%time\n",
    "# from gensim.models import LdaModel,LdaMulticore\n",
    "\n",
    "# #HYPERPARAMETERS\n",
    "# #passes = epochs\n",
    "# temp = dictionary[0]\n",
    "# id2word = dictionary.id2token\n",
    "# lda = LdaModel(corpus, id2word=id2word, alpha='auto',eval_every = 1,\\\n",
    "#                eta='auto',num_topics=3, iterations=5, passes = 10,\n",
    "#               callbacks=[perplexity_logger,convergence_logger])\n",
    "\n",
    "# lda.print_topics()\n",
    "\n",
    "# %%time\n",
    "# from gensim.models import LdaModel,LdaMulticore\n",
    "\n",
    "# id2word = dictionary.id2token\n",
    "# lda = LdaMulticore(corpus, id2word=id2word,eval_every = 1,\\\n",
    "#                eta='auto',num_topics=3, iterations=500, passes = 100)\n",
    "\n",
    "# import pyLDAvis.gensim\n",
    "\n",
    "# pyLDAvis.enable_notebook()\n",
    "# pyLDAvis.gensim.prepare(lda, corpus, dictionary)"
   ]
  }
 ],
 "metadata": {
  "kernelspec": {
   "display_name": "Python 3",
   "language": "python",
   "name": "python3"
  },
  "language_info": {
   "codemirror_mode": {
    "name": "ipython",
    "version": 3
   },
   "file_extension": ".py",
   "mimetype": "text/x-python",
   "name": "python",
   "nbconvert_exporter": "python",
   "pygments_lexer": "ipython3",
   "version": "3.7.2"
  }
 },
 "nbformat": 4,
 "nbformat_minor": 5
}
